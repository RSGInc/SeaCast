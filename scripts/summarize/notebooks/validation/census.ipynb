{
 "cells": [
  {
   "cell_type": "code",
   "execution_count": 1,
   "metadata": {},
   "outputs": [],
   "source": [
    "import os, sys, time\n",
    "from scipy import stats\n",
    "import warnings\n",
    "warnings.simplefilter(action='ignore', category=FutureWarning)\n",
    "import pandas as pd\n",
    "pd.options.mode.chained_assignment = None\n",
    "import numpy as np\n",
    "%matplotlib inline\n",
    "\n",
    "from IPython.display import display, HTML\n",
    "\n",
    "import pandas as pd\n",
    "import numpy as np\n",
    "%matplotlib inline\n",
    "\n",
    "from IPython.display import display, HTML\n",
    "\n",
    "if (sys.version_info < (3, 0)):\n",
    "    HTML('''<script>\n",
    "    code_show=true; \n",
    "    function code_toggle() {\n",
    "     if (code_show){\n",
    "     $('div.input').hide();\n",
    "     } else {\n",
    "     $('div.input').show();\n",
    "     }\n",
    "     code_show = !code_show\n",
    "    } \n",
    "    $( document ).ready(code_toggle);\n",
    "    </script>\n",
    "    <form action=\"javascript:code_toggle()\"><input type=\"submit\" value=\"Click here to toggle on/off the raw code.\"></form>''')\n"
   ]
  },
  {
   "cell_type": "code",
   "execution_count": 2,
   "metadata": {},
   "outputs": [
    {
     "name": "stdout",
     "output_type": "stream",
     "text": [
      "Summary run: Thu, 30 Nov 2023 14:15\n"
     ]
    }
   ],
   "source": [
    "# Create timestamp to show when this summary was run\n",
    "print('Summary run: ' + time.strftime(\"%a, %d %b %Y %H:%M\"))"
   ]
  },
  {
   "cell_type": "code",
   "execution_count": 3,
   "metadata": {},
   "outputs": [],
   "source": [
    "pd.options.display.float_format = '{:0,.2f}'.format\n",
    "format_percent = \"{:,.2%}\".format\n",
    "relative_path = '../../../../outputs'"
   ]
  },
  {
   "cell_type": "markdown",
   "metadata": {},
   "source": [
    "# Commute Mode by Workplace Geography"
   ]
  },
  {
   "cell_type": "code",
   "execution_count": 4,
   "metadata": {},
   "outputs": [
    {
     "data": {
      "text/html": [
       "<div>\n",
       "<style scoped>\n",
       "    .dataframe tbody tr th:only-of-type {\n",
       "        vertical-align: middle;\n",
       "    }\n",
       "\n",
       "    .dataframe tbody tr th {\n",
       "        vertical-align: top;\n",
       "    }\n",
       "\n",
       "    .dataframe thead th {\n",
       "        text-align: right;\n",
       "    }\n",
       "</style>\n",
       "<table border=\"1\" class=\"dataframe\">\n",
       "  <thead>\n",
       "    <tr style=\"text-align: right;\">\n",
       "      <th></th>\n",
       "      <th>work_place</th>\n",
       "      <th>mode</th>\n",
       "      <th>modeled_mode_total</th>\n",
       "      <th>observed_mode_total</th>\n",
       "      <th>percent_diff</th>\n",
       "      <th>diff</th>\n",
       "      <th>modeled_mode_share</th>\n",
       "      <th>observed_mode_share</th>\n",
       "    </tr>\n",
       "  </thead>\n",
       "  <tbody>\n",
       "    <tr>\n",
       "      <th>0</th>\n",
       "      <td>Auburn</td>\n",
       "      <td>auto</td>\n",
       "      <td>37,558.00</td>\n",
       "      <td>33431</td>\n",
       "      <td>0.12</td>\n",
       "      <td>4,127.00</td>\n",
       "      <td>0.95</td>\n",
       "      <td>0.94</td>\n",
       "    </tr>\n",
       "    <tr>\n",
       "      <th>1</th>\n",
       "      <td>Auburn</td>\n",
       "      <td>transit</td>\n",
       "      <td>1,401.00</td>\n",
       "      <td>691</td>\n",
       "      <td>1.03</td>\n",
       "      <td>710.00</td>\n",
       "      <td>0.04</td>\n",
       "      <td>0.02</td>\n",
       "    </tr>\n",
       "    <tr>\n",
       "      <th>2</th>\n",
       "      <td>Auburn</td>\n",
       "      <td>walk_and_bike</td>\n",
       "      <td>571.00</td>\n",
       "      <td>1355</td>\n",
       "      <td>-0.58</td>\n",
       "      <td>-784.00</td>\n",
       "      <td>0.01</td>\n",
       "      <td>0.04</td>\n",
       "    </tr>\n",
       "    <tr>\n",
       "      <th>3</th>\n",
       "      <td>Bellevue</td>\n",
       "      <td>auto</td>\n",
       "      <td>102,206.00</td>\n",
       "      <td>96761</td>\n",
       "      <td>0.06</td>\n",
       "      <td>5,445.00</td>\n",
       "      <td>0.89</td>\n",
       "      <td>0.84</td>\n",
       "    </tr>\n",
       "    <tr>\n",
       "      <th>4</th>\n",
       "      <td>Bellevue</td>\n",
       "      <td>transit</td>\n",
       "      <td>6,353.00</td>\n",
       "      <td>12505</td>\n",
       "      <td>-0.49</td>\n",
       "      <td>-6,152.00</td>\n",
       "      <td>0.06</td>\n",
       "      <td>0.11</td>\n",
       "    </tr>\n",
       "    <tr>\n",
       "      <th>5</th>\n",
       "      <td>Bellevue</td>\n",
       "      <td>walk_and_bike</td>\n",
       "      <td>6,215.00</td>\n",
       "      <td>6464</td>\n",
       "      <td>-0.04</td>\n",
       "      <td>-249.00</td>\n",
       "      <td>0.05</td>\n",
       "      <td>0.06</td>\n",
       "    </tr>\n",
       "    <tr>\n",
       "      <th>6</th>\n",
       "      <td>Everett</td>\n",
       "      <td>auto</td>\n",
       "      <td>66,549.00</td>\n",
       "      <td>81741</td>\n",
       "      <td>-0.19</td>\n",
       "      <td>-15,192.00</td>\n",
       "      <td>0.94</td>\n",
       "      <td>0.92</td>\n",
       "    </tr>\n",
       "    <tr>\n",
       "      <th>7</th>\n",
       "      <td>Everett</td>\n",
       "      <td>transit</td>\n",
       "      <td>1,477.00</td>\n",
       "      <td>2766</td>\n",
       "      <td>-0.47</td>\n",
       "      <td>-1,289.00</td>\n",
       "      <td>0.02</td>\n",
       "      <td>0.03</td>\n",
       "    </tr>\n",
       "    <tr>\n",
       "      <th>8</th>\n",
       "      <td>Everett</td>\n",
       "      <td>walk_and_bike</td>\n",
       "      <td>2,507.00</td>\n",
       "      <td>3961</td>\n",
       "      <td>-0.37</td>\n",
       "      <td>-1,454.00</td>\n",
       "      <td>0.04</td>\n",
       "      <td>0.04</td>\n",
       "    </tr>\n",
       "    <tr>\n",
       "      <th>9</th>\n",
       "      <td>Federal Way</td>\n",
       "      <td>auto</td>\n",
       "      <td>21,653.00</td>\n",
       "      <td>27590</td>\n",
       "      <td>-0.22</td>\n",
       "      <td>-5,937.00</td>\n",
       "      <td>0.95</td>\n",
       "      <td>0.93</td>\n",
       "    </tr>\n",
       "    <tr>\n",
       "      <th>10</th>\n",
       "      <td>Federal Way</td>\n",
       "      <td>transit</td>\n",
       "      <td>639.00</td>\n",
       "      <td>110</td>\n",
       "      <td>4.81</td>\n",
       "      <td>529.00</td>\n",
       "      <td>0.03</td>\n",
       "      <td>0.00</td>\n",
       "    </tr>\n",
       "    <tr>\n",
       "      <th>11</th>\n",
       "      <td>Federal Way</td>\n",
       "      <td>walk_and_bike</td>\n",
       "      <td>565.00</td>\n",
       "      <td>1828</td>\n",
       "      <td>-0.69</td>\n",
       "      <td>-1,263.00</td>\n",
       "      <td>0.02</td>\n",
       "      <td>0.06</td>\n",
       "    </tr>\n",
       "    <tr>\n",
       "      <th>12</th>\n",
       "      <td>Kent</td>\n",
       "      <td>auto</td>\n",
       "      <td>68,822.00</td>\n",
       "      <td>55178</td>\n",
       "      <td>0.25</td>\n",
       "      <td>13,644.00</td>\n",
       "      <td>0.95</td>\n",
       "      <td>0.92</td>\n",
       "    </tr>\n",
       "    <tr>\n",
       "      <th>13</th>\n",
       "      <td>Kent</td>\n",
       "      <td>transit</td>\n",
       "      <td>2,694.00</td>\n",
       "      <td>2837</td>\n",
       "      <td>-0.05</td>\n",
       "      <td>-143.00</td>\n",
       "      <td>0.04</td>\n",
       "      <td>0.05</td>\n",
       "    </tr>\n",
       "    <tr>\n",
       "      <th>14</th>\n",
       "      <td>Kent</td>\n",
       "      <td>walk_and_bike</td>\n",
       "      <td>916.00</td>\n",
       "      <td>1647</td>\n",
       "      <td>-0.44</td>\n",
       "      <td>-731.00</td>\n",
       "      <td>0.01</td>\n",
       "      <td>0.03</td>\n",
       "    </tr>\n",
       "    <tr>\n",
       "      <th>15</th>\n",
       "      <td>Kirkland</td>\n",
       "      <td>auto</td>\n",
       "      <td>35,500.00</td>\n",
       "      <td>33893</td>\n",
       "      <td>0.05</td>\n",
       "      <td>1,607.00</td>\n",
       "      <td>0.94</td>\n",
       "      <td>0.87</td>\n",
       "    </tr>\n",
       "    <tr>\n",
       "      <th>16</th>\n",
       "      <td>Kirkland</td>\n",
       "      <td>transit</td>\n",
       "      <td>1,031.00</td>\n",
       "      <td>3409</td>\n",
       "      <td>-0.70</td>\n",
       "      <td>-2,378.00</td>\n",
       "      <td>0.03</td>\n",
       "      <td>0.09</td>\n",
       "    </tr>\n",
       "    <tr>\n",
       "      <th>17</th>\n",
       "      <td>Kirkland</td>\n",
       "      <td>walk_and_bike</td>\n",
       "      <td>1,158.00</td>\n",
       "      <td>1766</td>\n",
       "      <td>-0.34</td>\n",
       "      <td>-608.00</td>\n",
       "      <td>0.03</td>\n",
       "      <td>0.05</td>\n",
       "    </tr>\n",
       "    <tr>\n",
       "      <th>18</th>\n",
       "      <td>Redmond</td>\n",
       "      <td>auto</td>\n",
       "      <td>68,407.00</td>\n",
       "      <td>70825</td>\n",
       "      <td>-0.03</td>\n",
       "      <td>-2,418.00</td>\n",
       "      <td>0.93</td>\n",
       "      <td>0.85</td>\n",
       "    </tr>\n",
       "    <tr>\n",
       "      <th>19</th>\n",
       "      <td>Redmond</td>\n",
       "      <td>transit</td>\n",
       "      <td>3,326.00</td>\n",
       "      <td>8841</td>\n",
       "      <td>-0.62</td>\n",
       "      <td>-5,515.00</td>\n",
       "      <td>0.05</td>\n",
       "      <td>0.11</td>\n",
       "    </tr>\n",
       "    <tr>\n",
       "      <th>20</th>\n",
       "      <td>Redmond</td>\n",
       "      <td>walk_and_bike</td>\n",
       "      <td>2,126.00</td>\n",
       "      <td>4137</td>\n",
       "      <td>-0.49</td>\n",
       "      <td>-2,011.00</td>\n",
       "      <td>0.03</td>\n",
       "      <td>0.05</td>\n",
       "    </tr>\n",
       "    <tr>\n",
       "      <th>21</th>\n",
       "      <td>Renton</td>\n",
       "      <td>auto</td>\n",
       "      <td>46,170.00</td>\n",
       "      <td>56760</td>\n",
       "      <td>-0.19</td>\n",
       "      <td>-10,590.00</td>\n",
       "      <td>0.94</td>\n",
       "      <td>0.91</td>\n",
       "    </tr>\n",
       "    <tr>\n",
       "      <th>22</th>\n",
       "      <td>Renton</td>\n",
       "      <td>transit</td>\n",
       "      <td>2,127.00</td>\n",
       "      <td>2659</td>\n",
       "      <td>-0.20</td>\n",
       "      <td>-532.00</td>\n",
       "      <td>0.04</td>\n",
       "      <td>0.04</td>\n",
       "    </tr>\n",
       "    <tr>\n",
       "      <th>23</th>\n",
       "      <td>Renton</td>\n",
       "      <td>walk_and_bike</td>\n",
       "      <td>1,044.00</td>\n",
       "      <td>3287</td>\n",
       "      <td>-0.68</td>\n",
       "      <td>-2,243.00</td>\n",
       "      <td>0.02</td>\n",
       "      <td>0.05</td>\n",
       "    </tr>\n",
       "    <tr>\n",
       "      <th>24</th>\n",
       "      <td>Seattle</td>\n",
       "      <td>auto</td>\n",
       "      <td>374,946.00</td>\n",
       "      <td>303129</td>\n",
       "      <td>0.24</td>\n",
       "      <td>71,817.00</td>\n",
       "      <td>0.72</td>\n",
       "      <td>0.55</td>\n",
       "    </tr>\n",
       "    <tr>\n",
       "      <th>25</th>\n",
       "      <td>Seattle</td>\n",
       "      <td>transit</td>\n",
       "      <td>87,169.00</td>\n",
       "      <td>173739</td>\n",
       "      <td>-0.50</td>\n",
       "      <td>-86,570.00</td>\n",
       "      <td>0.17</td>\n",
       "      <td>0.32</td>\n",
       "    </tr>\n",
       "    <tr>\n",
       "      <th>26</th>\n",
       "      <td>Seattle</td>\n",
       "      <td>walk_and_bike</td>\n",
       "      <td>57,687.00</td>\n",
       "      <td>74582</td>\n",
       "      <td>-0.23</td>\n",
       "      <td>-16,895.00</td>\n",
       "      <td>0.11</td>\n",
       "      <td>0.14</td>\n",
       "    </tr>\n",
       "    <tr>\n",
       "      <th>27</th>\n",
       "      <td>Tacoma</td>\n",
       "      <td>auto</td>\n",
       "      <td>84,088.00</td>\n",
       "      <td>105163</td>\n",
       "      <td>-0.20</td>\n",
       "      <td>-21,075.00</td>\n",
       "      <td>0.92</td>\n",
       "      <td>0.94</td>\n",
       "    </tr>\n",
       "    <tr>\n",
       "      <th>28</th>\n",
       "      <td>Tacoma</td>\n",
       "      <td>transit</td>\n",
       "      <td>2,534.00</td>\n",
       "      <td>3199</td>\n",
       "      <td>-0.21</td>\n",
       "      <td>-665.00</td>\n",
       "      <td>0.03</td>\n",
       "      <td>0.03</td>\n",
       "    </tr>\n",
       "    <tr>\n",
       "      <th>29</th>\n",
       "      <td>Tacoma</td>\n",
       "      <td>walk_and_bike</td>\n",
       "      <td>4,507.00</td>\n",
       "      <td>3929</td>\n",
       "      <td>0.15</td>\n",
       "      <td>578.00</td>\n",
       "      <td>0.05</td>\n",
       "      <td>0.03</td>\n",
       "    </tr>\n",
       "  </tbody>\n",
       "</table>\n",
       "</div>"
      ],
      "text/plain": [
       "     work_place           mode  modeled_mode_total  observed_mode_total  \\\n",
       "0        Auburn           auto           37,558.00                33431   \n",
       "1        Auburn        transit            1,401.00                  691   \n",
       "2        Auburn  walk_and_bike              571.00                 1355   \n",
       "3      Bellevue           auto          102,206.00                96761   \n",
       "4      Bellevue        transit            6,353.00                12505   \n",
       "5      Bellevue  walk_and_bike            6,215.00                 6464   \n",
       "6       Everett           auto           66,549.00                81741   \n",
       "7       Everett        transit            1,477.00                 2766   \n",
       "8       Everett  walk_and_bike            2,507.00                 3961   \n",
       "9   Federal Way           auto           21,653.00                27590   \n",
       "10  Federal Way        transit              639.00                  110   \n",
       "11  Federal Way  walk_and_bike              565.00                 1828   \n",
       "12         Kent           auto           68,822.00                55178   \n",
       "13         Kent        transit            2,694.00                 2837   \n",
       "14         Kent  walk_and_bike              916.00                 1647   \n",
       "15     Kirkland           auto           35,500.00                33893   \n",
       "16     Kirkland        transit            1,031.00                 3409   \n",
       "17     Kirkland  walk_and_bike            1,158.00                 1766   \n",
       "18      Redmond           auto           68,407.00                70825   \n",
       "19      Redmond        transit            3,326.00                 8841   \n",
       "20      Redmond  walk_and_bike            2,126.00                 4137   \n",
       "21       Renton           auto           46,170.00                56760   \n",
       "22       Renton        transit            2,127.00                 2659   \n",
       "23       Renton  walk_and_bike            1,044.00                 3287   \n",
       "24      Seattle           auto          374,946.00               303129   \n",
       "25      Seattle        transit           87,169.00               173739   \n",
       "26      Seattle  walk_and_bike           57,687.00                74582   \n",
       "27       Tacoma           auto           84,088.00               105163   \n",
       "28       Tacoma        transit            2,534.00                 3199   \n",
       "29       Tacoma  walk_and_bike            4,507.00                 3929   \n",
       "\n",
       "    percent_diff       diff  modeled_mode_share  observed_mode_share  \n",
       "0           0.12   4,127.00                0.95                 0.94  \n",
       "1           1.03     710.00                0.04                 0.02  \n",
       "2          -0.58    -784.00                0.01                 0.04  \n",
       "3           0.06   5,445.00                0.89                 0.84  \n",
       "4          -0.49  -6,152.00                0.06                 0.11  \n",
       "5          -0.04    -249.00                0.05                 0.06  \n",
       "6          -0.19 -15,192.00                0.94                 0.92  \n",
       "7          -0.47  -1,289.00                0.02                 0.03  \n",
       "8          -0.37  -1,454.00                0.04                 0.04  \n",
       "9          -0.22  -5,937.00                0.95                 0.93  \n",
       "10          4.81     529.00                0.03                 0.00  \n",
       "11         -0.69  -1,263.00                0.02                 0.06  \n",
       "12          0.25  13,644.00                0.95                 0.92  \n",
       "13         -0.05    -143.00                0.04                 0.05  \n",
       "14         -0.44    -731.00                0.01                 0.03  \n",
       "15          0.05   1,607.00                0.94                 0.87  \n",
       "16         -0.70  -2,378.00                0.03                 0.09  \n",
       "17         -0.34    -608.00                0.03                 0.05  \n",
       "18         -0.03  -2,418.00                0.93                 0.85  \n",
       "19         -0.62  -5,515.00                0.05                 0.11  \n",
       "20         -0.49  -2,011.00                0.03                 0.05  \n",
       "21         -0.19 -10,590.00                0.94                 0.91  \n",
       "22         -0.20    -532.00                0.04                 0.04  \n",
       "23         -0.68  -2,243.00                0.02                 0.05  \n",
       "24          0.24  71,817.00                0.72                 0.55  \n",
       "25         -0.50 -86,570.00                0.17                 0.32  \n",
       "26         -0.23 -16,895.00                0.11                 0.14  \n",
       "27         -0.20 -21,075.00                0.92                 0.94  \n",
       "28         -0.21    -665.00                0.03                 0.03  \n",
       "29          0.15     578.00                0.05                 0.03  "
      ]
     },
     "execution_count": 4,
     "metadata": {},
     "output_type": "execute_result"
    }
   ],
   "source": [
    "df = pd.read_csv(os.path.join(relative_path,'validation','acs_commute_share_by_workplace_geog.csv'))\n",
    "\n",
    "# Add mode share by work_place field\n",
    "_df = df.groupby('work_place').sum()[['modeled','observed']].reset_index()\n",
    "_df = _df.merge(df, on='work_place', suffixes=['_geog_total','_mode_total'])\n",
    "_df['observed_mode_share'] = _df['observed_mode_total']/_df['observed_geog_total']\n",
    "_df['modeled_mode_share'] = _df['modeled_mode_total']/_df['modeled_geog_total']\n",
    "_df[['work_place','mode','modeled_mode_total','observed_mode_total','percent_diff','diff','modeled_mode_share','observed_mode_share']]"
   ]
  },
  {
   "cell_type": "code",
   "execution_count": 5,
   "metadata": {},
   "outputs": [
    {
     "name": "stdout",
     "output_type": "stream",
     "text": [
      "r^2 : 0.953212998156858\n"
     ]
    },
    {
     "data": {
      "image/png": "[encoded data removed]",
      "text/plain": [
       "<Figure size 432x288 with 1 Axes>"
      ]
     },
     "metadata": {
      "needs_background": "light"
     },
     "output_type": "display_data"
    }
   ],
   "source": [
    "ax = df.plot(kind='scatter', x='observed', y='modeled')\n",
    "lim = df[['observed','modeled']].max().max()*1.05\n",
    "ax.set_ylim(0,lim)\n",
    "ax.set_xlim(0,lim)\n",
    "x = np.linspace(*ax.get_xlim())\n",
    "ax.plot(x, x)\n",
    "slope, intercept, r_value, p_value, std_err = stats.linregress(df['observed'],df['modeled'])\n",
    "print('r^2 : ' + str(r_value))"
   ]
  },
  {
   "cell_type": "markdown",
   "metadata": {},
   "source": [
    "# Commute Mode Shares by Work Place\n",
    "----"
   ]
  },
  {
   "cell_type": "code",
   "execution_count": 6,
   "metadata": {},
   "outputs": [],
   "source": [
    "df_tot = df.groupby(['work_place']).sum()[['modeled','observed']].reset_index()\n",
    "df_shares = df.merge(df_tot, on='work_place', suffixes=['','_total'])\n",
    "df_shares['mode_share_modeled'] = df_shares['modeled']/df_shares['modeled_total']\n",
    "df_shares['mode_share_observed'] = df_shares['observed']/df_shares['observed_total']\n",
    "df_shares.rename(columns={'mode_share_modeled': 'modeled', 'mode_share_observed': 'observed',\n",
    "                         'modeled': '_', 'observed': '__'}, inplace=True)\n",
    "df_shares = df_shares[['work_place','modeled','observed','mode']]\n",
    "df_shares['percent_diff'] = (df_shares['modeled']-df_shares['observed'])/df_shares['observed']\n",
    "df_shares['diff'] = df_shares['modeled']-df_shares['observed']"
   ]
  },
  {
   "cell_type": "markdown",
   "metadata": {},
   "source": [
    "## Auto"
   ]
  },
  {
   "cell_type": "code",
   "execution_count": 7,
   "metadata": {},
   "outputs": [
    {
     "data": {
      "text/html": [
       "<div>\n",
       "<style scoped>\n",
       "    .dataframe tbody tr th:only-of-type {\n",
       "        vertical-align: middle;\n",
       "    }\n",
       "\n",
       "    .dataframe tbody tr th {\n",
       "        vertical-align: top;\n",
       "    }\n",
       "\n",
       "    .dataframe thead th {\n",
       "        text-align: right;\n",
       "    }\n",
       "</style>\n",
       "<table border=\"1\" class=\"dataframe\">\n",
       "  <thead>\n",
       "    <tr style=\"text-align: right;\">\n",
       "      <th></th>\n",
       "      <th>work_place</th>\n",
       "      <th>modeled</th>\n",
       "      <th>observed</th>\n",
       "      <th>mode</th>\n",
       "      <th>percent_diff</th>\n",
       "      <th>diff</th>\n",
       "    </tr>\n",
       "  </thead>\n",
       "  <tbody>\n",
       "    <tr>\n",
       "      <th>0</th>\n",
       "      <td>Auburn</td>\n",
       "      <td>0.95</td>\n",
       "      <td>0.94</td>\n",
       "      <td>auto</td>\n",
       "      <td>0.01</td>\n",
       "      <td>0.01</td>\n",
       "    </tr>\n",
       "    <tr>\n",
       "      <th>3</th>\n",
       "      <td>Bellevue</td>\n",
       "      <td>0.89</td>\n",
       "      <td>0.84</td>\n",
       "      <td>auto</td>\n",
       "      <td>0.07</td>\n",
       "      <td>0.05</td>\n",
       "    </tr>\n",
       "    <tr>\n",
       "      <th>6</th>\n",
       "      <td>Everett</td>\n",
       "      <td>0.94</td>\n",
       "      <td>0.92</td>\n",
       "      <td>auto</td>\n",
       "      <td>0.02</td>\n",
       "      <td>0.02</td>\n",
       "    </tr>\n",
       "    <tr>\n",
       "      <th>9</th>\n",
       "      <td>Federal Way</td>\n",
       "      <td>0.95</td>\n",
       "      <td>0.93</td>\n",
       "      <td>auto</td>\n",
       "      <td>0.01</td>\n",
       "      <td>0.01</td>\n",
       "    </tr>\n",
       "    <tr>\n",
       "      <th>12</th>\n",
       "      <td>Kent</td>\n",
       "      <td>0.95</td>\n",
       "      <td>0.92</td>\n",
       "      <td>auto</td>\n",
       "      <td>0.03</td>\n",
       "      <td>0.03</td>\n",
       "    </tr>\n",
       "    <tr>\n",
       "      <th>15</th>\n",
       "      <td>Kirkland</td>\n",
       "      <td>0.94</td>\n",
       "      <td>0.87</td>\n",
       "      <td>auto</td>\n",
       "      <td>0.09</td>\n",
       "      <td>0.07</td>\n",
       "    </tr>\n",
       "    <tr>\n",
       "      <th>18</th>\n",
       "      <td>Redmond</td>\n",
       "      <td>0.93</td>\n",
       "      <td>0.85</td>\n",
       "      <td>auto</td>\n",
       "      <td>0.10</td>\n",
       "      <td>0.08</td>\n",
       "    </tr>\n",
       "    <tr>\n",
       "      <th>21</th>\n",
       "      <td>Renton</td>\n",
       "      <td>0.94</td>\n",
       "      <td>0.91</td>\n",
       "      <td>auto</td>\n",
       "      <td>0.03</td>\n",
       "      <td>0.03</td>\n",
       "    </tr>\n",
       "    <tr>\n",
       "      <th>24</th>\n",
       "      <td>Seattle</td>\n",
       "      <td>0.72</td>\n",
       "      <td>0.55</td>\n",
       "      <td>auto</td>\n",
       "      <td>0.31</td>\n",
       "      <td>0.17</td>\n",
       "    </tr>\n",
       "    <tr>\n",
       "      <th>27</th>\n",
       "      <td>Tacoma</td>\n",
       "      <td>0.92</td>\n",
       "      <td>0.94</td>\n",
       "      <td>auto</td>\n",
       "      <td>-0.01</td>\n",
       "      <td>-0.01</td>\n",
       "    </tr>\n",
       "  </tbody>\n",
       "</table>\n",
       "</div>"
      ],
      "text/plain": [
       "     work_place  modeled  observed  mode  percent_diff  diff\n",
       "0        Auburn     0.95      0.94  auto          0.01  0.01\n",
       "3      Bellevue     0.89      0.84  auto          0.07  0.05\n",
       "6       Everett     0.94      0.92  auto          0.02  0.02\n",
       "9   Federal Way     0.95      0.93  auto          0.01  0.01\n",
       "12         Kent     0.95      0.92  auto          0.03  0.03\n",
       "15     Kirkland     0.94      0.87  auto          0.09  0.07\n",
       "18      Redmond     0.93      0.85  auto          0.10  0.08\n",
       "21       Renton     0.94      0.91  auto          0.03  0.03\n",
       "24      Seattle     0.72      0.55  auto          0.31  0.17\n",
       "27       Tacoma     0.92      0.94  auto         -0.01 -0.01"
      ]
     },
     "execution_count": 7,
     "metadata": {},
     "output_type": "execute_result"
    }
   ],
   "source": [
    "_df = df_shares[df_shares['mode'] == 'auto']\n",
    "_df"
   ]
  },
  {
   "cell_type": "code",
   "execution_count": 8,
   "metadata": {},
   "outputs": [
    {
     "name": "stdout",
     "output_type": "stream",
     "text": [
      "r^2 : 0.9700360594928196\n"
     ]
    },
    {
     "data": {
      "image/png": "[encoded data removed]",
      "text/plain": [
       "<Figure size 432x288 with 1 Axes>"
      ]
     },
     "metadata": {
      "needs_background": "light"
     },
     "output_type": "display_data"
    }
   ],
   "source": [
    "ax = _df.plot(kind='scatter', x='observed', y='modeled')\n",
    "lim = _df[['observed','modeled']].max().max()*1.05\n",
    "ax.set_ylim(0,lim)\n",
    "ax.set_xlim(0,lim)\n",
    "x = np.linspace(*ax.get_xlim())\n",
    "ax.plot(x, x)\n",
    "slope, intercept, r_value, p_value, std_err = stats.linregress(_df['observed'],_df['modeled'])\n",
    "print('r^2 : ' + str(r_value))"
   ]
  },
  {
   "cell_type": "markdown",
   "metadata": {},
   "source": [
    "## Transit"
   ]
  },
  {
   "cell_type": "code",
   "execution_count": 9,
   "metadata": {},
   "outputs": [
    {
     "data": {
      "text/html": [
       "<div>\n",
       "<style scoped>\n",
       "    .dataframe tbody tr th:only-of-type {\n",
       "        vertical-align: middle;\n",
       "    }\n",
       "\n",
       "    .dataframe tbody tr th {\n",
       "        vertical-align: top;\n",
       "    }\n",
       "\n",
       "    .dataframe thead th {\n",
       "        text-align: right;\n",
       "    }\n",
       "</style>\n",
       "<table border=\"1\" class=\"dataframe\">\n",
       "  <thead>\n",
       "    <tr style=\"text-align: right;\">\n",
       "      <th></th>\n",
       "      <th>work_place</th>\n",
       "      <th>modeled</th>\n",
       "      <th>observed</th>\n",
       "      <th>mode</th>\n",
       "      <th>percent_diff</th>\n",
       "      <th>diff</th>\n",
       "    </tr>\n",
       "  </thead>\n",
       "  <tbody>\n",
       "    <tr>\n",
       "      <th>1</th>\n",
       "      <td>Auburn</td>\n",
       "      <td>0.04</td>\n",
       "      <td>0.02</td>\n",
       "      <td>transit</td>\n",
       "      <td>0.82</td>\n",
       "      <td>0.02</td>\n",
       "    </tr>\n",
       "    <tr>\n",
       "      <th>4</th>\n",
       "      <td>Bellevue</td>\n",
       "      <td>0.06</td>\n",
       "      <td>0.11</td>\n",
       "      <td>transit</td>\n",
       "      <td>-0.49</td>\n",
       "      <td>-0.05</td>\n",
       "    </tr>\n",
       "    <tr>\n",
       "      <th>7</th>\n",
       "      <td>Everett</td>\n",
       "      <td>0.02</td>\n",
       "      <td>0.03</td>\n",
       "      <td>transit</td>\n",
       "      <td>-0.33</td>\n",
       "      <td>-0.01</td>\n",
       "    </tr>\n",
       "    <tr>\n",
       "      <th>10</th>\n",
       "      <td>Federal Way</td>\n",
       "      <td>0.03</td>\n",
       "      <td>0.00</td>\n",
       "      <td>transit</td>\n",
       "      <td>6.50</td>\n",
       "      <td>0.02</td>\n",
       "    </tr>\n",
       "    <tr>\n",
       "      <th>13</th>\n",
       "      <td>Kent</td>\n",
       "      <td>0.04</td>\n",
       "      <td>0.05</td>\n",
       "      <td>transit</td>\n",
       "      <td>-0.22</td>\n",
       "      <td>-0.01</td>\n",
       "    </tr>\n",
       "    <tr>\n",
       "      <th>16</th>\n",
       "      <td>Kirkland</td>\n",
       "      <td>0.03</td>\n",
       "      <td>0.09</td>\n",
       "      <td>transit</td>\n",
       "      <td>-0.69</td>\n",
       "      <td>-0.06</td>\n",
       "    </tr>\n",
       "    <tr>\n",
       "      <th>19</th>\n",
       "      <td>Redmond</td>\n",
       "      <td>0.05</td>\n",
       "      <td>0.11</td>\n",
       "      <td>transit</td>\n",
       "      <td>-0.57</td>\n",
       "      <td>-0.06</td>\n",
       "    </tr>\n",
       "    <tr>\n",
       "      <th>22</th>\n",
       "      <td>Renton</td>\n",
       "      <td>0.04</td>\n",
       "      <td>0.04</td>\n",
       "      <td>transit</td>\n",
       "      <td>0.02</td>\n",
       "      <td>0.00</td>\n",
       "    </tr>\n",
       "    <tr>\n",
       "      <th>25</th>\n",
       "      <td>Seattle</td>\n",
       "      <td>0.17</td>\n",
       "      <td>0.32</td>\n",
       "      <td>transit</td>\n",
       "      <td>-0.47</td>\n",
       "      <td>-0.15</td>\n",
       "    </tr>\n",
       "    <tr>\n",
       "      <th>28</th>\n",
       "      <td>Tacoma</td>\n",
       "      <td>0.03</td>\n",
       "      <td>0.03</td>\n",
       "      <td>transit</td>\n",
       "      <td>-0.02</td>\n",
       "      <td>-0.00</td>\n",
       "    </tr>\n",
       "  </tbody>\n",
       "</table>\n",
       "</div>"
      ],
      "text/plain": [
       "     work_place  modeled  observed     mode  percent_diff  diff\n",
       "1        Auburn     0.04      0.02  transit          0.82  0.02\n",
       "4      Bellevue     0.06      0.11  transit         -0.49 -0.05\n",
       "7       Everett     0.02      0.03  transit         -0.33 -0.01\n",
       "10  Federal Way     0.03      0.00  transit          6.50  0.02\n",
       "13         Kent     0.04      0.05  transit         -0.22 -0.01\n",
       "16     Kirkland     0.03      0.09  transit         -0.69 -0.06\n",
       "19      Redmond     0.05      0.11  transit         -0.57 -0.06\n",
       "22       Renton     0.04      0.04  transit          0.02  0.00\n",
       "25      Seattle     0.17      0.32  transit         -0.47 -0.15\n",
       "28       Tacoma     0.03      0.03  transit         -0.02 -0.00"
      ]
     },
     "execution_count": 9,
     "metadata": {},
     "output_type": "execute_result"
    }
   ],
   "source": [
    "_df = df_shares[df_shares['mode'] == 'transit']\n",
    "_df"
   ]
  },
  {
   "cell_type": "code",
   "execution_count": 10,
   "metadata": {},
   "outputs": [
    {
     "name": "stdout",
     "output_type": "stream",
     "text": [
      "r^2 : 0.9507882353971542\n"
     ]
    },
    {
     "data": {
      "image/png": "[encoded data removed]",
      "text/plain": [
       "<Figure size 432x288 with 1 Axes>"
      ]
     },
     "metadata": {
      "needs_background": "light"
     },
     "output_type": "display_data"
    }
   ],
   "source": [
    "ax = _df.plot(kind='scatter', x='observed', y='modeled')\n",
    "lim = _df[['observed','modeled']].max().max()*1.05\n",
    "ax.set_ylim(0,lim)\n",
    "ax.set_xlim(0,lim)\n",
    "x = np.linspace(*ax.get_xlim())\n",
    "ax.plot(x, x)\n",
    "slope, intercept, r_value, p_value, std_err = stats.linregress(_df['observed'],_df['modeled'])\n",
    "print('r^2 : ' + str(r_value))"
   ]
  },
  {
   "cell_type": "markdown",
   "metadata": {},
   "source": [
    "## Walk and Bike"
   ]
  },
  {
   "cell_type": "code",
   "execution_count": 11,
   "metadata": {},
   "outputs": [
    {
     "data": {
      "text/html": [
       "<div>\n",
       "<style scoped>\n",
       "    .dataframe tbody tr th:only-of-type {\n",
       "        vertical-align: middle;\n",
       "    }\n",
       "\n",
       "    .dataframe tbody tr th {\n",
       "        vertical-align: top;\n",
       "    }\n",
       "\n",
       "    .dataframe thead th {\n",
       "        text-align: right;\n",
       "    }\n",
       "</style>\n",
       "<table border=\"1\" class=\"dataframe\">\n",
       "  <thead>\n",
       "    <tr style=\"text-align: right;\">\n",
       "      <th></th>\n",
       "      <th>work_place</th>\n",
       "      <th>modeled</th>\n",
       "      <th>observed</th>\n",
       "      <th>mode</th>\n",
       "      <th>percent_diff</th>\n",
       "      <th>diff</th>\n",
       "    </tr>\n",
       "  </thead>\n",
       "  <tbody>\n",
       "    <tr>\n",
       "      <th>2</th>\n",
       "      <td>Auburn</td>\n",
       "      <td>0.01</td>\n",
       "      <td>0.04</td>\n",
       "      <td>walk_and_bike</td>\n",
       "      <td>-0.62</td>\n",
       "      <td>-0.02</td>\n",
       "    </tr>\n",
       "    <tr>\n",
       "      <th>5</th>\n",
       "      <td>Bellevue</td>\n",
       "      <td>0.05</td>\n",
       "      <td>0.06</td>\n",
       "      <td>walk_and_bike</td>\n",
       "      <td>-0.03</td>\n",
       "      <td>-0.00</td>\n",
       "    </tr>\n",
       "    <tr>\n",
       "      <th>8</th>\n",
       "      <td>Everett</td>\n",
       "      <td>0.04</td>\n",
       "      <td>0.04</td>\n",
       "      <td>walk_and_bike</td>\n",
       "      <td>-0.21</td>\n",
       "      <td>-0.01</td>\n",
       "    </tr>\n",
       "    <tr>\n",
       "      <th>11</th>\n",
       "      <td>Federal Way</td>\n",
       "      <td>0.02</td>\n",
       "      <td>0.06</td>\n",
       "      <td>walk_and_bike</td>\n",
       "      <td>-0.60</td>\n",
       "      <td>-0.04</td>\n",
       "    </tr>\n",
       "    <tr>\n",
       "      <th>14</th>\n",
       "      <td>Kent</td>\n",
       "      <td>0.01</td>\n",
       "      <td>0.03</td>\n",
       "      <td>walk_and_bike</td>\n",
       "      <td>-0.54</td>\n",
       "      <td>-0.01</td>\n",
       "    </tr>\n",
       "    <tr>\n",
       "      <th>17</th>\n",
       "      <td>Kirkland</td>\n",
       "      <td>0.03</td>\n",
       "      <td>0.05</td>\n",
       "      <td>walk_and_bike</td>\n",
       "      <td>-0.32</td>\n",
       "      <td>-0.01</td>\n",
       "    </tr>\n",
       "    <tr>\n",
       "      <th>20</th>\n",
       "      <td>Redmond</td>\n",
       "      <td>0.03</td>\n",
       "      <td>0.05</td>\n",
       "      <td>walk_and_bike</td>\n",
       "      <td>-0.42</td>\n",
       "      <td>-0.02</td>\n",
       "    </tr>\n",
       "    <tr>\n",
       "      <th>23</th>\n",
       "      <td>Renton</td>\n",
       "      <td>0.02</td>\n",
       "      <td>0.05</td>\n",
       "      <td>walk_and_bike</td>\n",
       "      <td>-0.60</td>\n",
       "      <td>-0.03</td>\n",
       "    </tr>\n",
       "    <tr>\n",
       "      <th>26</th>\n",
       "      <td>Seattle</td>\n",
       "      <td>0.11</td>\n",
       "      <td>0.14</td>\n",
       "      <td>walk_and_bike</td>\n",
       "      <td>-0.18</td>\n",
       "      <td>-0.02</td>\n",
       "    </tr>\n",
       "    <tr>\n",
       "      <th>29</th>\n",
       "      <td>Tacoma</td>\n",
       "      <td>0.05</td>\n",
       "      <td>0.03</td>\n",
       "      <td>walk_and_bike</td>\n",
       "      <td>0.41</td>\n",
       "      <td>0.01</td>\n",
       "    </tr>\n",
       "  </tbody>\n",
       "</table>\n",
       "</div>"
      ],
      "text/plain": [
       "     work_place  modeled  observed           mode  percent_diff  diff\n",
       "2        Auburn     0.01      0.04  walk_and_bike         -0.62 -0.02\n",
       "5      Bellevue     0.05      0.06  walk_and_bike         -0.03 -0.00\n",
       "8       Everett     0.04      0.04  walk_and_bike         -0.21 -0.01\n",
       "11  Federal Way     0.02      0.06  walk_and_bike         -0.60 -0.04\n",
       "14         Kent     0.01      0.03  walk_and_bike         -0.54 -0.01\n",
       "17     Kirkland     0.03      0.05  walk_and_bike         -0.32 -0.01\n",
       "20      Redmond     0.03      0.05  walk_and_bike         -0.42 -0.02\n",
       "23       Renton     0.02      0.05  walk_and_bike         -0.60 -0.03\n",
       "26      Seattle     0.11      0.14  walk_and_bike         -0.18 -0.02\n",
       "29       Tacoma     0.05      0.03  walk_and_bike          0.41  0.01"
      ]
     },
     "execution_count": 11,
     "metadata": {},
     "output_type": "execute_result"
    }
   ],
   "source": [
    "_df = df_shares[df_shares['mode'] == 'walk_and_bike']\n",
    "_df"
   ]
  },
  {
   "cell_type": "code",
   "execution_count": 12,
   "metadata": {},
   "outputs": [
    {
     "name": "stdout",
     "output_type": "stream",
     "text": [
      "r^2 : 0.8723706364661153\n"
     ]
    },
    {
     "data": {
      "image/png": "[encoded data removed]",
      "text/plain": [
       "<Figure size 432x288 with 1 Axes>"
      ]
     },
     "metadata": {
      "needs_background": "light"
     },
     "output_type": "display_data"
    }
   ],
   "source": [
    "ax = _df.plot(kind='scatter', x='observed', y='modeled')\n",
    "lim = _df[['observed','modeled']].max().max()*1.05\n",
    "ax.set_ylim(0,lim)\n",
    "ax.set_xlim(0,lim)\n",
    "x = np.linspace(*ax.get_xlim())\n",
    "ax.plot(x, x)\n",
    "slope, intercept, r_value, p_value, std_err = stats.linregress(_df['observed'],_df['modeled'])\n",
    "print('r^2 : ' + str(r_value))"
   ]
  },
  {
   "cell_type": "markdown",
   "metadata": {},
   "source": [
    "# Commute Mode Share by Home Tract\n",
    "----"
   ]
  },
  {
   "cell_type": "code",
   "execution_count": 20,
   "metadata": {},
   "outputs": [],
   "source": [
    "df = pd.read_csv(os.path.join(relative_path,'validation','acs_commute_share_by_home_tract.csv'))\n",
    "pd.options.display.float_format = '{:0,.0f}'.format"
   ]
  },
  {
   "cell_type": "code",
   "execution_count": 23,
   "metadata": {},
   "outputs": [
    {
     "data": {
      "text/html": [
       "<div>\n",
       "<style scoped>\n",
       "    .dataframe tbody tr th:only-of-type {\n",
       "        vertical-align: middle;\n",
       "    }\n",
       "\n",
       "    .dataframe tbody tr th {\n",
       "        vertical-align: top;\n",
       "    }\n",
       "\n",
       "    .dataframe thead th {\n",
       "        text-align: right;\n",
       "    }\n",
       "</style>\n",
       "<table border=\"1\" class=\"dataframe\">\n",
       "  <thead>\n",
       "    <tr style=\"text-align: right;\">\n",
       "      <th></th>\n",
       "      <th>CountyName</th>\n",
       "      <th>modeled</th>\n",
       "      <th>observed</th>\n",
       "    </tr>\n",
       "  </thead>\n",
       "  <tbody>\n",
       "    <tr>\n",
       "      <th>0</th>\n",
       "      <td>King</td>\n",
       "      <td>1,120,411</td>\n",
       "      <td>1,024,132</td>\n",
       "    </tr>\n",
       "    <tr>\n",
       "      <th>1</th>\n",
       "      <td>Kitsap</td>\n",
       "      <td>68,036</td>\n",
       "      <td>105,559</td>\n",
       "    </tr>\n",
       "    <tr>\n",
       "      <th>2</th>\n",
       "      <td>Pierce</td>\n",
       "      <td>228,741</td>\n",
       "      <td>358,689</td>\n",
       "    </tr>\n",
       "    <tr>\n",
       "      <th>3</th>\n",
       "      <td>Snohomish</td>\n",
       "      <td>208,883</td>\n",
       "      <td>351,217</td>\n",
       "    </tr>\n",
       "    <tr>\n",
       "      <th>4</th>\n",
       "      <td>Total</td>\n",
       "      <td>1,626,071</td>\n",
       "      <td>1,839,597</td>\n",
       "    </tr>\n",
       "  </tbody>\n",
       "</table>\n",
       "</div>"
      ],
      "text/plain": [
       "  CountyName   modeled  observed\n",
       "0       King 1,120,411 1,024,132\n",
       "1     Kitsap    68,036   105,559\n",
       "2     Pierce   228,741   358,689\n",
       "3  Snohomish   208,883   351,217\n",
       "4      Total 1,626,071 1,839,597"
      ]
     },
     "execution_count": 23,
     "metadata": {},
     "output_type": "execute_result"
    }
   ],
   "source": [
    "df_county = df.groupby('CountyName').sum()[['modeled','observed']].reset_index()\n",
    "df_total = df[['modeled','observed']].assign(CountyName='Total').groupby('CountyName').sum().reset_index()\n",
    "pd.concat([df_county, df_total], ignore_index=True)"
   ]
  },
  {
   "cell_type": "code",
   "execution_count": 26,
   "metadata": {},
   "outputs": [
    {
     "data": {
      "text/html": [
       "<div>\n",
       "<style scoped>\n",
       "    .dataframe tbody tr th:only-of-type {\n",
       "        vertical-align: middle;\n",
       "    }\n",
       "\n",
       "    .dataframe tbody tr th {\n",
       "        vertical-align: top;\n",
       "    }\n",
       "\n",
       "    .dataframe thead th {\n",
       "        text-align: right;\n",
       "    }\n",
       "</style>\n",
       "<table border=\"1\" class=\"dataframe\">\n",
       "  <thead>\n",
       "    <tr style=\"text-align: right;\">\n",
       "      <th></th>\n",
       "      <th>CountyGroup</th>\n",
       "      <th>modeled</th>\n",
       "      <th>observed</th>\n",
       "    </tr>\n",
       "  </thead>\n",
       "  <tbody>\n",
       "    <tr>\n",
       "      <th>0</th>\n",
       "      <td>City of SeaTac</td>\n",
       "      <td>40,839</td>\n",
       "      <td>35,564</td>\n",
       "    </tr>\n",
       "    <tr>\n",
       "      <th>1</th>\n",
       "      <td>Other</td>\n",
       "      <td>1,585,232</td>\n",
       "      <td>1,804,033</td>\n",
       "    </tr>\n",
       "  </tbody>\n",
       "</table>\n",
       "</div>"
      ],
      "text/plain": [
       "      CountyGroup   modeled  observed\n",
       "0  City of SeaTac    40,839    35,564\n",
       "1           Other 1,585,232 1,804,033"
      ]
     },
     "execution_count": 26,
     "metadata": {},
     "output_type": "execute_result"
    }
   ],
   "source": [
    "df_county = df.groupby(['CountyName','subarea_flag']).sum()[['modeled','observed']].reset_index()\n",
    "df_county['CountyGroup'] = np.where(df_county['subarea_flag']==1,'City of SeaTac','Other')\n",
    "df_seatac = df_county.groupby('CountyGroup').sum()[['modeled', 'observed']].reset_index()\n",
    "df_seatac"
   ]
  },
  {
   "cell_type": "code",
   "execution_count": 27,
   "metadata": {},
   "outputs": [],
   "source": [
    "def calculate_shares(df, geog_col, apply_format=False):\n",
    "    \n",
    "    df[['modeled','observed']] = df[['modeled','observed']].astype('int')\n",
    "    df_total = df.groupby(geog_col).sum()[['modeled','observed']].reset_index()\n",
    "    df_total.rename(columns={'modeled': 'modeled_total','observed':'observed_total'}, inplace=True)\n",
    "    df = df.merge(df_total, on=geog_col, how='left')\n",
    "    df['modeled_share'] = df['modeled']*1.0/df['modeled_total']\n",
    "    df['observed_share'] = df['observed']*1.0/df['observed_total']\n",
    "    if apply_format:\n",
    "        df[['modeled_share','observed_share']] = df[['modeled_share','observed_share']].applymap(format_percent)\n",
    "    \n",
    "    return df"
   ]
  },
  {
   "cell_type": "code",
   "execution_count": 28,
   "metadata": {},
   "outputs": [],
   "source": [
    "df_county_mode = df.groupby(['CountyName','mode']).sum()[['modeled','observed']].reset_index()\n",
    "df_county_mode = calculate_shares(df_county_mode, 'CountyName', apply_format=True)\n",
    "# Shares by Tract\n",
    "df_tract = df[['geoid','mode','modeled','observed']]\n",
    "df_tract_shares = calculate_shares(df_tract, 'geoid')"
   ]
  },
  {
   "cell_type": "markdown",
   "metadata": {},
   "source": [
    "## SOV"
   ]
  },
  {
   "cell_type": "code",
   "execution_count": 29,
   "metadata": {},
   "outputs": [
    {
     "name": "stdout",
     "output_type": "stream",
     "text": [
      " r^2: 0.6204223602406296\n"
     ]
    },
    {
     "data": {
      "image/png": "[encoded data removed]",
      "text/plain": [
       "<Figure size 432x288 with 1 Axes>"
      ]
     },
     "metadata": {
      "needs_background": "light"
     },
     "output_type": "display_data"
    }
   ],
   "source": [
    "# Show only SOV\n",
    "sov_tract_shares = df_tract_shares[df_tract_shares['mode'] == 'SOV']\n",
    "sov_tract_shares = sov_tract_shares[-sov_tract_shares.observed_share.isnull()]\n",
    "\n",
    "_df = sov_tract_shares.copy()\n",
    "ax = _df.plot(kind='scatter', x='observed_share', y='modeled_share')\n",
    "lim = _df[['observed_share','modeled_share']].max().max()*1.05\n",
    "ax.set_ylim(0,lim)\n",
    "ax.set_xlim(0,lim)\n",
    "slope, intercept, r_value, p_value, std_err = stats.linregress(_df['observed_share'],_df['modeled_share'])\n",
    "x = np.linspace(*ax.get_xlim())\n",
    "ax.plot(x, x)\n",
    "print(' r^2: ' + str(r_value))"
   ]
  },
  {
   "cell_type": "markdown",
   "metadata": {},
   "source": [
    "## HOV"
   ]
  },
  {
   "cell_type": "code",
   "execution_count": 30,
   "metadata": {},
   "outputs": [
    {
     "name": "stdout",
     "output_type": "stream",
     "text": [
      " r^2: 0.4437532086765656\n"
     ]
    },
    {
     "data": {
      "image/png": "[encoded data removed]",
      "text/plain": [
       "<Figure size 432x288 with 1 Axes>"
      ]
     },
     "metadata": {
      "needs_background": "light"
     },
     "output_type": "display_data"
    }
   ],
   "source": [
    "# Show only SOV\n",
    "sov_tract_shares = df_tract_shares[df_tract_shares['mode'] == 'HOV']\n",
    "sov_tract_shares = sov_tract_shares[-sov_tract_shares.observed_share.isnull()]\n",
    "\n",
    "_df = sov_tract_shares.copy()\n",
    "ax = _df.plot(kind='scatter', x='observed_share', y='modeled_share')\n",
    "lim = _df[['observed_share','modeled_share']].max().max()*1.05\n",
    "ax.set_ylim(0,lim)\n",
    "ax.set_xlim(0,lim)\n",
    "slope, intercept, r_value, p_value, std_err = stats.linregress(_df['observed_share'],_df['modeled_share'])\n",
    "x = np.linspace(*ax.get_xlim())\n",
    "ax.plot(x, x)\n",
    "print(' r^2: ' + str(r_value))"
   ]
  },
  {
   "cell_type": "markdown",
   "metadata": {},
   "source": [
    "## Transit"
   ]
  },
  {
   "cell_type": "code",
   "execution_count": 31,
   "metadata": {},
   "outputs": [
    {
     "name": "stdout",
     "output_type": "stream",
     "text": [
      " r^2: 0.6008144824009939\n"
     ]
    },
    {
     "data": {
      "image/png": "[encoded data removed]",
      "text/plain": [
       "<Figure size 432x288 with 1 Axes>"
      ]
     },
     "metadata": {
      "needs_background": "light"
     },
     "output_type": "display_data"
    }
   ],
   "source": [
    "# Show only SOV\n",
    "sov_tract_shares = df_tract_shares[df_tract_shares['mode'] == 'Transit']\n",
    "sov_tract_shares = sov_tract_shares[-sov_tract_shares.observed_share.isnull()]\n",
    "\n",
    "_df = sov_tract_shares.copy()\n",
    "ax = _df.plot(kind='scatter', x='observed_share', y='modeled_share')\n",
    "lim = _df[['observed_share','modeled_share']].max().max()*1.05\n",
    "ax.set_ylim(0,lim)\n",
    "ax.set_xlim(0,lim)\n",
    "slope, intercept, r_value, p_value, std_err = stats.linregress(_df['observed_share'],_df['modeled_share'])\n",
    "x = np.linspace(*ax.get_xlim())\n",
    "ax.plot(x, x)\n",
    "print(' r^2: ' + str(r_value))"
   ]
  },
  {
   "cell_type": "markdown",
   "metadata": {},
   "source": [
    "## Walk"
   ]
  },
  {
   "cell_type": "code",
   "execution_count": 32,
   "metadata": {},
   "outputs": [
    {
     "name": "stdout",
     "output_type": "stream",
     "text": [
      " r^2: 0.7306831715034777\n"
     ]
    },
    {
     "data": {
      "image/png": "[encoded data removed]",
      "text/plain": [
       "<Figure size 432x288 with 1 Axes>"
      ]
     },
     "metadata": {
      "needs_background": "light"
     },
     "output_type": "display_data"
    }
   ],
   "source": [
    "# Show only SOV\n",
    "sov_tract_shares = df_tract_shares[df_tract_shares['mode'] == 'Walk']\n",
    "sov_tract_shares = sov_tract_shares[-sov_tract_shares.observed_share.isnull()]\n",
    "\n",
    "_df = sov_tract_shares.copy()\n",
    "ax = _df.plot(kind='scatter', x='observed_share', y='modeled_share')\n",
    "lim = _df[['observed_share','modeled_share']].max().max()*1.05\n",
    "ax.set_ylim(0,lim)\n",
    "ax.set_xlim(0,lim)\n",
    "slope, intercept, r_value, p_value, std_err = stats.linregress(_df['observed_share'],_df['modeled_share'])\n",
    "x = np.linspace(*ax.get_xlim())\n",
    "ax.plot(x, x)\n",
    "print(' r^2: ' + str(r_value))"
   ]
  },
  {
   "cell_type": "markdown",
   "metadata": {},
   "source": [
    "# Commute Mode Share by Home Tract - City of SeaTac"
   ]
  },
  {
   "cell_type": "code",
   "execution_count": 33,
   "metadata": {},
   "outputs": [],
   "source": [
    "df = pd.read_csv(os.path.join(relative_path,'validation','acs_commute_share_by_home_tract.csv'))\n",
    "df = df[df['subarea_flag'] == 1]\n",
    "\n",
    "df_county_mode = df.groupby(['CountyName','mode']).sum()[['modeled','observed']].reset_index()\n",
    "df_county_mode = calculate_shares(df_county_mode, 'CountyName', apply_format=True)\n",
    "# Shares by Tract\n",
    "df_tract = df[['geoid','mode','modeled','observed']]\n",
    "df_tract_shares = calculate_shares(df_tract, 'geoid')"
   ]
  },
  {
   "cell_type": "code",
   "execution_count": 34,
   "metadata": {},
   "outputs": [
    {
     "data": {
      "text/html": [
       "<div>\n",
       "<style scoped>\n",
       "    .dataframe tbody tr th:only-of-type {\n",
       "        vertical-align: middle;\n",
       "    }\n",
       "\n",
       "    .dataframe tbody tr th {\n",
       "        vertical-align: top;\n",
       "    }\n",
       "\n",
       "    .dataframe thead th {\n",
       "        text-align: right;\n",
       "    }\n",
       "</style>\n",
       "<table border=\"1\" class=\"dataframe\">\n",
       "  <thead>\n",
       "    <tr style=\"text-align: right;\">\n",
       "      <th></th>\n",
       "      <th>CountyName</th>\n",
       "      <th>mode</th>\n",
       "      <th>modeled</th>\n",
       "      <th>observed</th>\n",
       "      <th>modeled_total</th>\n",
       "      <th>observed_total</th>\n",
       "      <th>modeled_share</th>\n",
       "      <th>observed_share</th>\n",
       "    </tr>\n",
       "  </thead>\n",
       "  <tbody>\n",
       "    <tr>\n",
       "      <th>0</th>\n",
       "      <td>King</td>\n",
       "      <td>HOV</td>\n",
       "      <td>10624</td>\n",
       "      <td>4163</td>\n",
       "      <td>40839</td>\n",
       "      <td>35564</td>\n",
       "      <td>26.01%</td>\n",
       "      <td>11.71%</td>\n",
       "    </tr>\n",
       "    <tr>\n",
       "      <th>1</th>\n",
       "      <td>King</td>\n",
       "      <td>SOV</td>\n",
       "      <td>26766</td>\n",
       "      <td>26281</td>\n",
       "      <td>40839</td>\n",
       "      <td>35564</td>\n",
       "      <td>65.54%</td>\n",
       "      <td>73.90%</td>\n",
       "    </tr>\n",
       "    <tr>\n",
       "      <th>2</th>\n",
       "      <td>King</td>\n",
       "      <td>Transit</td>\n",
       "      <td>3071</td>\n",
       "      <td>4022</td>\n",
       "      <td>40839</td>\n",
       "      <td>35564</td>\n",
       "      <td>7.52%</td>\n",
       "      <td>11.31%</td>\n",
       "    </tr>\n",
       "    <tr>\n",
       "      <th>3</th>\n",
       "      <td>King</td>\n",
       "      <td>Walk</td>\n",
       "      <td>378</td>\n",
       "      <td>1098</td>\n",
       "      <td>40839</td>\n",
       "      <td>35564</td>\n",
       "      <td>0.93%</td>\n",
       "      <td>3.09%</td>\n",
       "    </tr>\n",
       "  </tbody>\n",
       "</table>\n",
       "</div>"
      ],
      "text/plain": [
       "  CountyName     mode  modeled  observed  modeled_total  observed_total  \\\n",
       "0       King      HOV    10624      4163          40839           35564   \n",
       "1       King      SOV    26766     26281          40839           35564   \n",
       "2       King  Transit     3071      4022          40839           35564   \n",
       "3       King     Walk      378      1098          40839           35564   \n",
       "\n",
       "  modeled_share observed_share  \n",
       "0        26.01%         11.71%  \n",
       "1        65.54%         73.90%  \n",
       "2         7.52%         11.31%  \n",
       "3         0.93%          3.09%  "
      ]
     },
     "execution_count": 34,
     "metadata": {},
     "output_type": "execute_result"
    }
   ],
   "source": [
    "df_county_mode"
   ]
  },
  {
   "cell_type": "markdown",
   "metadata": {},
   "source": [
    "## SOV"
   ]
  },
  {
   "cell_type": "code",
   "execution_count": 35,
   "metadata": {},
   "outputs": [
    {
     "name": "stdout",
     "output_type": "stream",
     "text": [
      " r^2: 0.30236930312024307\n"
     ]
    },
    {
     "data": {
      "image/png": "[encoded data removed]",
      "text/plain": [
       "<Figure size 432x288 with 1 Axes>"
      ]
     },
     "metadata": {
      "needs_background": "light"
     },
     "output_type": "display_data"
    }
   ],
   "source": [
    "# Show only SOV\n",
    "sov_tract_shares = df_tract_shares[df_tract_shares['mode'] == 'SOV']\n",
    "sov_tract_shares = sov_tract_shares[-sov_tract_shares.observed_share.isnull()]\n",
    "\n",
    "_df = sov_tract_shares.copy()\n",
    "ax = _df.plot(kind='scatter', x='observed_share', y='modeled_share')\n",
    "lim = _df[['observed_share','modeled_share']].max().max()*1.05\n",
    "ax.set_ylim(0,lim)\n",
    "ax.set_xlim(0,lim)\n",
    "slope, intercept, r_value, p_value, std_err = stats.linregress(_df['observed_share'],_df['modeled_share'])\n",
    "x = np.linspace(*ax.get_xlim())\n",
    "ax.plot(x, x)\n",
    "print(' r^2: ' + str(r_value))"
   ]
  },
  {
   "cell_type": "markdown",
   "metadata": {},
   "source": [
    "## HOV"
   ]
  },
  {
   "cell_type": "code",
   "execution_count": 36,
   "metadata": {},
   "outputs": [
    {
     "name": "stdout",
     "output_type": "stream",
     "text": [
      " r^2: -0.018297887955055176\n"
     ]
    },
    {
     "data": {
      "image/png": "[encoded data removed]",
      "text/plain": [
       "<Figure size 432x288 with 1 Axes>"
      ]
     },
     "metadata": {
      "needs_background": "light"
     },
     "output_type": "display_data"
    }
   ],
   "source": [
    "# Show only SOV\n",
    "sov_tract_shares = df_tract_shares[df_tract_shares['mode'] == 'HOV']\n",
    "sov_tract_shares = sov_tract_shares[-sov_tract_shares.observed_share.isnull()]\n",
    "\n",
    "_df = sov_tract_shares.copy()\n",
    "ax = _df.plot(kind='scatter', x='observed_share', y='modeled_share')\n",
    "lim = _df[['observed_share','modeled_share']].max().max()*1.05\n",
    "ax.set_ylim(0,lim)\n",
    "ax.set_xlim(0,lim)\n",
    "slope, intercept, r_value, p_value, std_err = stats.linregress(_df['observed_share'],_df['modeled_share'])\n",
    "x = np.linspace(*ax.get_xlim())\n",
    "ax.plot(x, x)\n",
    "print(' r^2: ' + str(r_value))"
   ]
  },
  {
   "cell_type": "markdown",
   "metadata": {},
   "source": [
    "## Transit"
   ]
  },
  {
   "cell_type": "code",
   "execution_count": 37,
   "metadata": {},
   "outputs": [
    {
     "name": "stdout",
     "output_type": "stream",
     "text": [
      " r^2: 0.5902507508850633\n"
     ]
    },
    {
     "data": {
      "image/png": "[encoded data removed]",
      "text/plain": [
       "<Figure size 432x288 with 1 Axes>"
      ]
     },
     "metadata": {
      "needs_background": "light"
     },
     "output_type": "display_data"
    }
   ],
   "source": [
    "# Show only SOV\n",
    "sov_tract_shares = df_tract_shares[df_tract_shares['mode'] == 'Transit']\n",
    "sov_tract_shares = sov_tract_shares[-sov_tract_shares.observed_share.isnull()]\n",
    "\n",
    "_df = sov_tract_shares.copy()\n",
    "ax = _df.plot(kind='scatter', x='observed_share', y='modeled_share')\n",
    "lim = _df[['observed_share','modeled_share']].max().max()*1.05\n",
    "ax.set_ylim(0,lim)\n",
    "ax.set_xlim(0,lim)\n",
    "slope, intercept, r_value, p_value, std_err = stats.linregress(_df['observed_share'],_df['modeled_share'])\n",
    "x = np.linspace(*ax.get_xlim())\n",
    "ax.plot(x, x)\n",
    "print(' r^2: ' + str(r_value))"
   ]
  },
  {
   "cell_type": "markdown",
   "metadata": {},
   "source": [
    "## Walk"
   ]
  },
  {
   "cell_type": "code",
   "execution_count": 38,
   "metadata": {},
   "outputs": [
    {
     "name": "stdout",
     "output_type": "stream",
     "text": [
      " r^2: -0.19689585793490325\n"
     ]
    },
    {
     "data": {
      "image/png": "[encoded data removed]",
      "text/plain": [
       "<Figure size 432x288 with 1 Axes>"
      ]
     },
     "metadata": {
      "needs_background": "light"
     },
     "output_type": "display_data"
    }
   ],
   "source": [
    "# Show only SOV\n",
    "sov_tract_shares = df_tract_shares[df_tract_shares['mode'] == 'Walk']\n",
    "sov_tract_shares = sov_tract_shares[-sov_tract_shares.observed_share.isnull()]\n",
    "\n",
    "_df = sov_tract_shares.copy()\n",
    "ax = _df.plot(kind='scatter', x='observed_share', y='modeled_share')\n",
    "lim = _df[['observed_share','modeled_share']].max().max()*1.05\n",
    "ax.set_ylim(0,lim)\n",
    "ax.set_xlim(0,lim)\n",
    "slope, intercept, r_value, p_value, std_err = stats.linregress(_df['observed_share'],_df['modeled_share'])\n",
    "x = np.linspace(*ax.get_xlim())\n",
    "ax.plot(x, x)\n",
    "print(' r^2: ' + str(r_value))"
   ]
  },
  {
   "cell_type": "markdown",
   "metadata": {},
   "source": [
    "# Commute Mode Share by Home Tract - Other"
   ]
  },
  {
   "cell_type": "code",
   "execution_count": 39,
   "metadata": {},
   "outputs": [],
   "source": [
    "df = pd.read_csv(os.path.join(relative_path,'validation','acs_commute_share_by_home_tract.csv'))\n",
    "df = df[df['subarea_flag'] != 1]\n",
    "\n",
    "df_county_mode = df.groupby(['CountyName','mode']).sum()[['modeled','observed']].reset_index()\n",
    "df_county_mode = calculate_shares(df_county_mode, 'CountyName', apply_format=True)\n",
    "# Shares by Tract\n",
    "df_tract = df[['geoid','mode','modeled','observed']]\n",
    "df_tract_shares = calculate_shares(df_tract, 'geoid')"
   ]
  },
  {
   "cell_type": "code",
   "execution_count": 40,
   "metadata": {},
   "outputs": [
    {
     "data": {
      "text/html": [
       "<div>\n",
       "<style scoped>\n",
       "    .dataframe tbody tr th:only-of-type {\n",
       "        vertical-align: middle;\n",
       "    }\n",
       "\n",
       "    .dataframe tbody tr th {\n",
       "        vertical-align: top;\n",
       "    }\n",
       "\n",
       "    .dataframe thead th {\n",
       "        text-align: right;\n",
       "    }\n",
       "</style>\n",
       "<table border=\"1\" class=\"dataframe\">\n",
       "  <thead>\n",
       "    <tr style=\"text-align: right;\">\n",
       "      <th></th>\n",
       "      <th>CountyName</th>\n",
       "      <th>mode</th>\n",
       "      <th>modeled</th>\n",
       "      <th>observed</th>\n",
       "      <th>modeled_total</th>\n",
       "      <th>observed_total</th>\n",
       "      <th>modeled_share</th>\n",
       "      <th>observed_share</th>\n",
       "    </tr>\n",
       "  </thead>\n",
       "  <tbody>\n",
       "    <tr>\n",
       "      <th>0</th>\n",
       "      <td>King</td>\n",
       "      <td>HOV</td>\n",
       "      <td>258794</td>\n",
       "      <td>101571</td>\n",
       "      <td>1079572</td>\n",
       "      <td>988568</td>\n",
       "      <td>23.97%</td>\n",
       "      <td>10.27%</td>\n",
       "    </tr>\n",
       "    <tr>\n",
       "      <th>1</th>\n",
       "      <td>King</td>\n",
       "      <td>SOV</td>\n",
       "      <td>653272</td>\n",
       "      <td>681987</td>\n",
       "      <td>1079572</td>\n",
       "      <td>988568</td>\n",
       "      <td>60.51%</td>\n",
       "      <td>68.99%</td>\n",
       "    </tr>\n",
       "    <tr>\n",
       "      <th>2</th>\n",
       "      <td>King</td>\n",
       "      <td>Transit</td>\n",
       "      <td>109712</td>\n",
       "      <td>145765</td>\n",
       "      <td>1079572</td>\n",
       "      <td>988568</td>\n",
       "      <td>10.16%</td>\n",
       "      <td>14.75%</td>\n",
       "    </tr>\n",
       "    <tr>\n",
       "      <th>3</th>\n",
       "      <td>King</td>\n",
       "      <td>Walk</td>\n",
       "      <td>57794</td>\n",
       "      <td>59245</td>\n",
       "      <td>1079572</td>\n",
       "      <td>988568</td>\n",
       "      <td>5.35%</td>\n",
       "      <td>5.99%</td>\n",
       "    </tr>\n",
       "    <tr>\n",
       "      <th>4</th>\n",
       "      <td>Kitsap</td>\n",
       "      <td>HOV</td>\n",
       "      <td>18250</td>\n",
       "      <td>9400</td>\n",
       "      <td>68036</td>\n",
       "      <td>105559</td>\n",
       "      <td>26.82%</td>\n",
       "      <td>8.90%</td>\n",
       "    </tr>\n",
       "    <tr>\n",
       "      <th>5</th>\n",
       "      <td>Kitsap</td>\n",
       "      <td>SOV</td>\n",
       "      <td>46695</td>\n",
       "      <td>81227</td>\n",
       "      <td>68036</td>\n",
       "      <td>105559</td>\n",
       "      <td>68.63%</td>\n",
       "      <td>76.95%</td>\n",
       "    </tr>\n",
       "    <tr>\n",
       "      <th>6</th>\n",
       "      <td>Kitsap</td>\n",
       "      <td>Transit</td>\n",
       "      <td>1387</td>\n",
       "      <td>9030</td>\n",
       "      <td>68036</td>\n",
       "      <td>105559</td>\n",
       "      <td>2.04%</td>\n",
       "      <td>8.55%</td>\n",
       "    </tr>\n",
       "    <tr>\n",
       "      <th>7</th>\n",
       "      <td>Kitsap</td>\n",
       "      <td>Walk</td>\n",
       "      <td>1704</td>\n",
       "      <td>5902</td>\n",
       "      <td>68036</td>\n",
       "      <td>105559</td>\n",
       "      <td>2.50%</td>\n",
       "      <td>5.59%</td>\n",
       "    </tr>\n",
       "    <tr>\n",
       "      <th>8</th>\n",
       "      <td>Pierce</td>\n",
       "      <td>HOV</td>\n",
       "      <td>63586</td>\n",
       "      <td>37249</td>\n",
       "      <td>228741</td>\n",
       "      <td>358689</td>\n",
       "      <td>27.80%</td>\n",
       "      <td>10.38%</td>\n",
       "    </tr>\n",
       "    <tr>\n",
       "      <th>9</th>\n",
       "      <td>Pierce</td>\n",
       "      <td>SOV</td>\n",
       "      <td>156150</td>\n",
       "      <td>302209</td>\n",
       "      <td>228741</td>\n",
       "      <td>358689</td>\n",
       "      <td>68.26%</td>\n",
       "      <td>84.25%</td>\n",
       "    </tr>\n",
       "    <tr>\n",
       "      <th>10</th>\n",
       "      <td>Pierce</td>\n",
       "      <td>Transit</td>\n",
       "      <td>4432</td>\n",
       "      <td>12553</td>\n",
       "      <td>228741</td>\n",
       "      <td>358689</td>\n",
       "      <td>1.94%</td>\n",
       "      <td>3.50%</td>\n",
       "    </tr>\n",
       "    <tr>\n",
       "      <th>11</th>\n",
       "      <td>Pierce</td>\n",
       "      <td>Walk</td>\n",
       "      <td>4573</td>\n",
       "      <td>6678</td>\n",
       "      <td>228741</td>\n",
       "      <td>358689</td>\n",
       "      <td>2.00%</td>\n",
       "      <td>1.86%</td>\n",
       "    </tr>\n",
       "    <tr>\n",
       "      <th>12</th>\n",
       "      <td>Snohomish</td>\n",
       "      <td>HOV</td>\n",
       "      <td>57871</td>\n",
       "      <td>44076</td>\n",
       "      <td>208883</td>\n",
       "      <td>351217</td>\n",
       "      <td>27.70%</td>\n",
       "      <td>12.55%</td>\n",
       "    </tr>\n",
       "    <tr>\n",
       "      <th>13</th>\n",
       "      <td>Snohomish</td>\n",
       "      <td>SOV</td>\n",
       "      <td>143665</td>\n",
       "      <td>281848</td>\n",
       "      <td>208883</td>\n",
       "      <td>351217</td>\n",
       "      <td>68.78%</td>\n",
       "      <td>80.25%</td>\n",
       "    </tr>\n",
       "    <tr>\n",
       "      <th>14</th>\n",
       "      <td>Snohomish</td>\n",
       "      <td>Transit</td>\n",
       "      <td>3921</td>\n",
       "      <td>18641</td>\n",
       "      <td>208883</td>\n",
       "      <td>351217</td>\n",
       "      <td>1.88%</td>\n",
       "      <td>5.31%</td>\n",
       "    </tr>\n",
       "    <tr>\n",
       "      <th>15</th>\n",
       "      <td>Snohomish</td>\n",
       "      <td>Walk</td>\n",
       "      <td>3426</td>\n",
       "      <td>6652</td>\n",
       "      <td>208883</td>\n",
       "      <td>351217</td>\n",
       "      <td>1.64%</td>\n",
       "      <td>1.89%</td>\n",
       "    </tr>\n",
       "  </tbody>\n",
       "</table>\n",
       "</div>"
      ],
      "text/plain": [
       "   CountyName     mode  modeled  observed  modeled_total  observed_total  \\\n",
       "0        King      HOV   258794    101571        1079572          988568   \n",
       "1        King      SOV   653272    681987        1079572          988568   \n",
       "2        King  Transit   109712    145765        1079572          988568   \n",
       "3        King     Walk    57794     59245        1079572          988568   \n",
       "4      Kitsap      HOV    18250      9400          68036          105559   \n",
       "5      Kitsap      SOV    46695     81227          68036          105559   \n",
       "6      Kitsap  Transit     1387      9030          68036          105559   \n",
       "7      Kitsap     Walk     1704      5902          68036          105559   \n",
       "8      Pierce      HOV    63586     37249         228741          358689   \n",
       "9      Pierce      SOV   156150    302209         228741          358689   \n",
       "10     Pierce  Transit     4432     12553         228741          358689   \n",
       "11     Pierce     Walk     4573      6678         228741          358689   \n",
       "12  Snohomish      HOV    57871     44076         208883          351217   \n",
       "13  Snohomish      SOV   143665    281848         208883          351217   \n",
       "14  Snohomish  Transit     3921     18641         208883          351217   \n",
       "15  Snohomish     Walk     3426      6652         208883          351217   \n",
       "\n",
       "   modeled_share observed_share  \n",
       "0         23.97%         10.27%  \n",
       "1         60.51%         68.99%  \n",
       "2         10.16%         14.75%  \n",
       "3          5.35%          5.99%  \n",
       "4         26.82%          8.90%  \n",
       "5         68.63%         76.95%  \n",
       "6          2.04%          8.55%  \n",
       "7          2.50%          5.59%  \n",
       "8         27.80%         10.38%  \n",
       "9         68.26%         84.25%  \n",
       "10         1.94%          3.50%  \n",
       "11         2.00%          1.86%  \n",
       "12        27.70%         12.55%  \n",
       "13        68.78%         80.25%  \n",
       "14         1.88%          5.31%  \n",
       "15         1.64%          1.89%  "
      ]
     },
     "execution_count": 40,
     "metadata": {},
     "output_type": "execute_result"
    }
   ],
   "source": [
    "df_county_mode"
   ]
  },
  {
   "cell_type": "markdown",
   "metadata": {},
   "source": [
    "## SOV"
   ]
  },
  {
   "cell_type": "code",
   "execution_count": 41,
   "metadata": {},
   "outputs": [
    {
     "name": "stdout",
     "output_type": "stream",
     "text": [
      " r^2: 0.6217052973876738\n"
     ]
    },
    {
     "data": {
      "image/png": "[encoded data removed]",
      "text/plain": [
       "<Figure size 432x288 with 1 Axes>"
      ]
     },
     "metadata": {
      "needs_background": "light"
     },
     "output_type": "display_data"
    }
   ],
   "source": [
    "# Show only SOV\n",
    "sov_tract_shares = df_tract_shares[df_tract_shares['mode'] == 'SOV']\n",
    "sov_tract_shares = sov_tract_shares[-sov_tract_shares.observed_share.isnull()]\n",
    "\n",
    "_df = sov_tract_shares.copy()\n",
    "ax = _df.plot(kind='scatter', x='observed_share', y='modeled_share')\n",
    "lim = _df[['observed_share','modeled_share']].max().max()*1.05\n",
    "ax.set_ylim(0,lim)\n",
    "ax.set_xlim(0,lim)\n",
    "slope, intercept, r_value, p_value, std_err = stats.linregress(_df['observed_share'],_df['modeled_share'])\n",
    "x = np.linspace(*ax.get_xlim())\n",
    "ax.plot(x, x)\n",
    "print(' r^2: ' + str(r_value))"
   ]
  },
  {
   "cell_type": "markdown",
   "metadata": {},
   "source": [
    "## HOV"
   ]
  },
  {
   "cell_type": "code",
   "execution_count": 42,
   "metadata": {},
   "outputs": [
    {
     "name": "stdout",
     "output_type": "stream",
     "text": [
      " r^2: 0.4478464712292484\n"
     ]
    },
    {
     "data": {
      "image/png": "[encoded data removed]",
      "text/plain": [
       "<Figure size 432x288 with 1 Axes>"
      ]
     },
     "metadata": {
      "needs_background": "light"
     },
     "output_type": "display_data"
    }
   ],
   "source": [
    "# Show only HOV\n",
    "sov_tract_shares = df_tract_shares[df_tract_shares['mode'] == 'HOV']\n",
    "sov_tract_shares = sov_tract_shares[-sov_tract_shares.observed_share.isnull()]\n",
    "\n",
    "_df = sov_tract_shares.copy()\n",
    "ax = _df.plot(kind='scatter', x='observed_share', y='modeled_share')\n",
    "lim = _df[['observed_share','modeled_share']].max().max()*1.05\n",
    "ax.set_ylim(0,lim)\n",
    "ax.set_xlim(0,lim)\n",
    "slope, intercept, r_value, p_value, std_err = stats.linregress(_df['observed_share'],_df['modeled_share'])\n",
    "x = np.linspace(*ax.get_xlim())\n",
    "ax.plot(x, x)\n",
    "print(' r^2: ' + str(r_value))"
   ]
  },
  {
   "cell_type": "markdown",
   "metadata": {},
   "source": [
    "## Transit"
   ]
  },
  {
   "cell_type": "code",
   "execution_count": 43,
   "metadata": {},
   "outputs": [
    {
     "name": "stdout",
     "output_type": "stream",
     "text": [
      " r^2: 0.6030408388065912\n"
     ]
    },
    {
     "data": {
      "image/png": "[encoded data removed]",
      "text/plain": [
       "<Figure size 432x288 with 1 Axes>"
      ]
     },
     "metadata": {
      "needs_background": "light"
     },
     "output_type": "display_data"
    }
   ],
   "source": [
    "# Show only Transit\n",
    "sov_tract_shares = df_tract_shares[df_tract_shares['mode'] == 'Transit']\n",
    "sov_tract_shares = sov_tract_shares[-sov_tract_shares.observed_share.isnull()]\n",
    "\n",
    "_df = sov_tract_shares.copy()\n",
    "ax = _df.plot(kind='scatter', x='observed_share', y='modeled_share')\n",
    "lim = _df[['observed_share','modeled_share']].max().max()*1.05\n",
    "ax.set_ylim(0,lim)\n",
    "ax.set_xlim(0,lim)\n",
    "slope, intercept, r_value, p_value, std_err = stats.linregress(_df['observed_share'],_df['modeled_share'])\n",
    "x = np.linspace(*ax.get_xlim())\n",
    "ax.plot(x, x)\n",
    "print(' r^2: ' + str(r_value))"
   ]
  },
  {
   "cell_type": "markdown",
   "metadata": {},
   "source": [
    "## Walk"
   ]
  },
  {
   "cell_type": "code",
   "execution_count": 44,
   "metadata": {},
   "outputs": [
    {
     "name": "stdout",
     "output_type": "stream",
     "text": [
      " r^2: 0.7331930676599397\n"
     ]
    },
    {
     "data": {
      "image/png": "[encoded data removed]",
      "text/plain": [
       "<Figure size 432x288 with 1 Axes>"
      ]
     },
     "metadata": {
      "needs_background": "light"
     },
     "output_type": "display_data"
    }
   ],
   "source": [
    "# Show only Walk\n",
    "sov_tract_shares = df_tract_shares[df_tract_shares['mode'] == 'Walk']\n",
    "sov_tract_shares = sov_tract_shares[-sov_tract_shares.observed_share.isnull()]\n",
    "\n",
    "_df = sov_tract_shares.copy()\n",
    "ax = _df.plot(kind='scatter', x='observed_share', y='modeled_share')\n",
    "lim = _df[['observed_share','modeled_share']].max().max()*1.05\n",
    "ax.set_ylim(0,lim)\n",
    "ax.set_xlim(0,lim)\n",
    "slope, intercept, r_value, p_value, std_err = stats.linregress(_df['observed_share'],_df['modeled_share'])\n",
    "x = np.linspace(*ax.get_xlim())\n",
    "ax.plot(x, x)\n",
    "print(' r^2: ' + str(r_value))"
   ]
  },
  {
   "cell_type": "code",
   "execution_count": null,
   "metadata": {},
   "outputs": [],
   "source": []
  }
 ],
 "metadata": {
  "kernelspec": {
   "display_name": "Python 3",
   "language": "python",
   "name": "python3"
  },
  "language_info": {
   "codemirror_mode": {
    "name": "ipython",
    "version": 3
   },
   "file_extension": ".py",
   "mimetype": "text/x-python",
   "name": "python",
   "nbconvert_exporter": "python",
   "pygments_lexer": "ipython3",
   "version": "3.7.10"
  }
 },
 "nbformat": 4,
 "nbformat_minor": 2
}
