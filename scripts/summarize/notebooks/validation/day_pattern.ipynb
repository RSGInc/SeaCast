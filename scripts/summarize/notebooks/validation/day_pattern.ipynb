{
 "cells": [
  {
   "cell_type": "code",
   "execution_count": 1,
   "metadata": {
    "execution": {
     "iopub.execute_input": "2021-06-10T22:10:14.030114Z",
     "iopub.status.busy": "2021-06-10T22:10:14.030114Z",
     "iopub.status.idle": "2021-06-10T22:10:14.889047Z",
     "shell.execute_reply": "2021-06-10T22:10:14.889047Z"
    }
   },
   "outputs": [
    {
     "name": "stdout",
     "output_type": "stream",
     "text": [
      "E:\\projects\\clients\\SeaTac\\Models\\BaseYear\\Development\\SeaCast_10192023_SubArea\n"
     ]
    }
   ],
   "source": [
    "import warnings\n",
    "warnings.simplefilter(action='ignore', category=FutureWarning)\n",
    "import pandas as pd\n",
    "import os, sys\n",
    "%matplotlib inline\n",
    "\n",
    "os.chdir('..\\..\\..\\..')\n",
    "print(os.getcwd())\n",
    "\n",
    "from input_configuration import base_year\n",
    "\n",
    "from IPython.display import display, HTML\n",
    "\n",
    "if (sys.version_info < (3, 0)):\n",
    "    HTML('''<script>\n",
    "    code_show=true; \n",
    "    function code_toggle() {\n",
    "     if (code_show){\n",
    "     $('div.input').hide();\n",
    "     } else {\n",
    "     $('div.input').show();\n",
    "     }\n",
    "     code_show = !code_show\n",
    "    } \n",
    "    $( document ).ready(code_toggle);\n",
    "    </script>\n",
    "    <form action=\"javascript:code_toggle()\"><input type=\"submit\" value=\"Click here to toggle on/off the raw code.\"></form>''')\n"
   ]
  },
  {
   "cell_type": "code",
   "execution_count": 2,
   "metadata": {
    "execution": {
     "iopub.execute_input": "2021-06-10T22:10:14.889047Z",
     "iopub.status.busy": "2021-06-10T22:10:14.889047Z",
     "iopub.status.idle": "2021-06-10T22:10:14.904665Z",
     "shell.execute_reply": "2021-06-10T22:10:14.904665Z"
    }
   },
   "outputs": [],
   "source": [
    "working_dir = r'outputs/agg/dash'\n",
    "pd.options.display.float_format = '{:0,.2f}'.format\n",
    "format_percent = \"{:,.2%}\".format"
   ]
  },
  {
   "cell_type": "code",
   "execution_count": 3,
   "metadata": {
    "execution": {
     "iopub.execute_input": "2021-06-10T22:10:14.904665Z",
     "iopub.status.busy": "2021-06-10T22:10:14.904665Z",
     "iopub.status.idle": "2021-06-10T22:10:14.920291Z",
     "shell.execute_reply": "2021-06-10T22:10:14.920291Z"
    }
   },
   "outputs": [],
   "source": [
    "def load_data(fname):\n",
    "    \"\"\" open and join model and survey data \"\"\"\n",
    "\n",
    "    df_model = pd.read_csv(os.path.join(working_dir,fname+'.csv'))\n",
    "    df_model['source'] = 'model'\n",
    "    df_survey = pd.read_csv(os.path.join(working_dir,'survey',fname+'.csv'))\n",
    "    df_survey['source'] = 'survey'\n",
    "    df = df_model.append(df_survey)\n",
    "\n",
    "    return df"
   ]
  },
  {
   "cell_type": "markdown",
   "metadata": {},
   "source": [
    "# Tours per Person"
   ]
  },
  {
   "cell_type": "code",
   "execution_count": 4,
   "metadata": {},
   "outputs": [
    {
     "data": {
      "text/html": [
       "<div>\n",
       "<style scoped>\n",
       "    .dataframe tbody tr th:only-of-type {\n",
       "        vertical-align: middle;\n",
       "    }\n",
       "\n",
       "    .dataframe tbody tr th {\n",
       "        vertical-align: top;\n",
       "    }\n",
       "\n",
       "    .dataframe thead th {\n",
       "        text-align: right;\n",
       "    }\n",
       "</style>\n",
       "<table border=\"1\" class=\"dataframe\">\n",
       "  <thead>\n",
       "    <tr style=\"text-align: right;\">\n",
       "      <th>source</th>\n",
       "      <th>model</th>\n",
       "      <th>survey</th>\n",
       "    </tr>\n",
       "  </thead>\n",
       "  <tbody>\n",
       "    <tr>\n",
       "      <th>Average Tours</th>\n",
       "      <td>1.58</td>\n",
       "      <td>1.68</td>\n",
       "    </tr>\n",
       "  </tbody>\n",
       "</table>\n",
       "</div>"
      ],
      "text/plain": [
       "source         model  survey\n",
       "Average Tours   1.58    1.68"
      ]
     },
     "execution_count": 4,
     "metadata": {},
     "output_type": "execute_result"
    }
   ],
   "source": [
    "df = load_data('tour_purpose_mode')\n",
    "_df = df.groupby('source').sum()[['toexpfac']].T\n",
    "_df.rename(index={'toexpfac':'Average Tours'}, inplace=True)\n",
    "\n",
    "df = load_data('person_type')\n",
    "_df_person = df.groupby('source').sum()[['psexpfac']].T\n",
    "_df_person.rename(index={'psexpfac':'Average Tours'}, inplace=True)\n",
    "\n",
    "_df/_df_person"
   ]
  },
  {
   "cell_type": "markdown",
   "metadata": {},
   "source": [
    "## City of SeaTac"
   ]
  },
  {
   "cell_type": "code",
   "execution_count": 5,
   "metadata": {},
   "outputs": [
    {
     "data": {
      "text/html": [
       "<div>\n",
       "<style scoped>\n",
       "    .dataframe tbody tr th:only-of-type {\n",
       "        vertical-align: middle;\n",
       "    }\n",
       "\n",
       "    .dataframe tbody tr th {\n",
       "        vertical-align: top;\n",
       "    }\n",
       "\n",
       "    .dataframe thead th {\n",
       "        text-align: right;\n",
       "    }\n",
       "</style>\n",
       "<table border=\"1\" class=\"dataframe\">\n",
       "  <thead>\n",
       "    <tr style=\"text-align: right;\">\n",
       "      <th>source</th>\n",
       "      <th>model</th>\n",
       "      <th>survey</th>\n",
       "    </tr>\n",
       "    <tr>\n",
       "      <th>subarea_flag</th>\n",
       "      <th></th>\n",
       "      <th></th>\n",
       "    </tr>\n",
       "  </thead>\n",
       "  <tbody>\n",
       "    <tr>\n",
       "      <th>City of SeaTac</th>\n",
       "      <td>1.61</td>\n",
       "      <td>1.04</td>\n",
       "    </tr>\n",
       "    <tr>\n",
       "      <th>Other</th>\n",
       "      <td>1.58</td>\n",
       "      <td>1.69</td>\n",
       "    </tr>\n",
       "  </tbody>\n",
       "</table>\n",
       "</div>"
      ],
      "text/plain": [
       "source          model  survey\n",
       "subarea_flag                 \n",
       "City of SeaTac   1.61    1.04\n",
       "Other            1.58    1.69"
      ]
     },
     "execution_count": 5,
     "metadata": {},
     "output_type": "execute_result"
    }
   ],
   "source": [
    "index_map = {1:'City of SeaTac', 0: \"Other\"}\n",
    "df = load_data('tour_purpose_mode')\n",
    "_df = df.rename(columns={'person_subarea':'subarea_flag'}).groupby(['subarea_flag','source']).sum()[['toexpfac']]\n",
    "df = load_data('person_type')\n",
    "_df_person = df.rename(columns={'person_subarea':'subarea_flag'}).groupby(['subarea_flag','source']).sum()[['psexpfac']]\n",
    "_df_disp = _df.join(_df_person, how='left', on=['subarea_flag','source']).\\\n",
    "    apply(lambda df: df.toexpfac/df.psexpfac, axis=1).\\\n",
    "    reset_index(name='ratio').pivot_table(index='subarea_flag', columns='source', values='ratio')\n",
    "_df_disp.index = _df_disp.index.map(index_map)\n",
    "_df_disp.sort_index()"
   ]
  },
  {
   "cell_type": "markdown",
   "metadata": {},
   "source": [
    "# Percent of Tours by Purpose"
   ]
  },
  {
   "cell_type": "code",
   "execution_count": 6,
   "metadata": {
    "execution": {
     "iopub.execute_input": "2021-06-10T22:10:15.107745Z",
     "iopub.status.busy": "2021-06-10T22:10:15.107745Z",
     "iopub.status.idle": "2021-06-10T22:10:15.404547Z",
     "shell.execute_reply": "2021-06-10T22:10:15.404547Z"
    }
   },
   "outputs": [
    {
     "data": {
      "text/html": [
       "<div>\n",
       "<style scoped>\n",
       "    .dataframe tbody tr th:only-of-type {\n",
       "        vertical-align: middle;\n",
       "    }\n",
       "\n",
       "    .dataframe tbody tr th {\n",
       "        vertical-align: top;\n",
       "    }\n",
       "\n",
       "    .dataframe thead th {\n",
       "        text-align: right;\n",
       "    }\n",
       "</style>\n",
       "<table border=\"1\" class=\"dataframe\">\n",
       "  <thead>\n",
       "    <tr style=\"text-align: right;\">\n",
       "      <th>source</th>\n",
       "      <th>model</th>\n",
       "      <th>survey</th>\n",
       "    </tr>\n",
       "    <tr>\n",
       "      <th>pdpurp</th>\n",
       "      <th></th>\n",
       "      <th></th>\n",
       "    </tr>\n",
       "  </thead>\n",
       "  <tbody>\n",
       "    <tr>\n",
       "      <th>Escort</th>\n",
       "      <td>11.3%</td>\n",
       "      <td>9.2%</td>\n",
       "    </tr>\n",
       "    <tr>\n",
       "      <th>Meal</th>\n",
       "      <td>7.2%</td>\n",
       "      <td>6.2%</td>\n",
       "    </tr>\n",
       "    <tr>\n",
       "      <th>Personal Business</th>\n",
       "      <td>11.8%</td>\n",
       "      <td>13.4%</td>\n",
       "    </tr>\n",
       "    <tr>\n",
       "      <th>School</th>\n",
       "      <td>10.9%</td>\n",
       "      <td>10.6%</td>\n",
       "    </tr>\n",
       "    <tr>\n",
       "      <th>Shop</th>\n",
       "      <td>12.3%</td>\n",
       "      <td>11.6%</td>\n",
       "    </tr>\n",
       "    <tr>\n",
       "      <th>Social</th>\n",
       "      <td>19.9%</td>\n",
       "      <td>18.7%</td>\n",
       "    </tr>\n",
       "    <tr>\n",
       "      <th>Work</th>\n",
       "      <td>26.6%</td>\n",
       "      <td>30.3%</td>\n",
       "    </tr>\n",
       "  </tbody>\n",
       "</table>\n",
       "</div>"
      ],
      "text/plain": [
       "source             model  survey\n",
       "pdpurp                          \n",
       "Escort             11.3%    9.2%\n",
       "Meal                7.2%    6.2%\n",
       "Personal Business  11.8%   13.4%\n",
       "School             10.9%   10.6%\n",
       "Shop               12.3%   11.6%\n",
       "Social             19.9%   18.7%\n",
       "Work               26.6%   30.3%"
      ]
     },
     "execution_count": 6,
     "metadata": {},
     "output_type": "execute_result"
    },
    {
     "data": {
      "image/png": "[encoded data removed]",
      "text/plain": [
       "<Figure size 432x288 with 1 Axes>"
      ]
     },
     "metadata": {
      "needs_background": "light"
     },
     "output_type": "display_data"
    }
   ],
   "source": [
    "pd.options.display.float_format = '{:0,.1%}'.format\n",
    "df = load_data('tour_purpose_mode')\n",
    "_df = df.pivot_table(index='pdpurp', columns='source', aggfunc='sum', values='toexpfac')\n",
    "_df_sum = _df.sum()\n",
    "_df = _df/_df_sum\n",
    "_df.drop('Change Mode Inserted Purpose', axis=0, inplace=True)\n",
    "_df.plot(kind='barh', alpha=0.6)\n",
    "_df"
   ]
  },
  {
   "cell_type": "markdown",
   "metadata": {},
   "source": [
    "## City of SeaTac"
   ]
  },
  {
   "cell_type": "code",
   "execution_count": 7,
   "metadata": {},
   "outputs": [
    {
     "data": {
      "text/html": [
       "<div>\n",
       "<style scoped>\n",
       "    .dataframe tbody tr th:only-of-type {\n",
       "        vertical-align: middle;\n",
       "    }\n",
       "\n",
       "    .dataframe tbody tr th {\n",
       "        vertical-align: top;\n",
       "    }\n",
       "\n",
       "    .dataframe thead th {\n",
       "        text-align: right;\n",
       "    }\n",
       "</style>\n",
       "<table border=\"1\" class=\"dataframe\">\n",
       "  <thead>\n",
       "    <tr style=\"text-align: right;\">\n",
       "      <th>source</th>\n",
       "      <th>subarea_flag</th>\n",
       "      <th>pdpurp</th>\n",
       "      <th>model</th>\n",
       "      <th>survey</th>\n",
       "    </tr>\n",
       "  </thead>\n",
       "  <tbody>\n",
       "    <tr>\n",
       "      <th>0</th>\n",
       "      <td>0</td>\n",
       "      <td>Change Mode Inserted Purpose</td>\n",
       "      <td>NaN</td>\n",
       "      <td>0.0%</td>\n",
       "    </tr>\n",
       "    <tr>\n",
       "      <th>1</th>\n",
       "      <td>0</td>\n",
       "      <td>Escort</td>\n",
       "      <td>11.0%</td>\n",
       "      <td>9.2%</td>\n",
       "    </tr>\n",
       "    <tr>\n",
       "      <th>2</th>\n",
       "      <td>0</td>\n",
       "      <td>Meal</td>\n",
       "      <td>7.0%</td>\n",
       "      <td>6.2%</td>\n",
       "    </tr>\n",
       "    <tr>\n",
       "      <th>3</th>\n",
       "      <td>0</td>\n",
       "      <td>Personal Business</td>\n",
       "      <td>11.5%</td>\n",
       "      <td>13.3%</td>\n",
       "    </tr>\n",
       "    <tr>\n",
       "      <th>4</th>\n",
       "      <td>0</td>\n",
       "      <td>School</td>\n",
       "      <td>10.7%</td>\n",
       "      <td>10.5%</td>\n",
       "    </tr>\n",
       "    <tr>\n",
       "      <th>5</th>\n",
       "      <td>0</td>\n",
       "      <td>Shop</td>\n",
       "      <td>12.1%</td>\n",
       "      <td>11.5%</td>\n",
       "    </tr>\n",
       "    <tr>\n",
       "      <th>6</th>\n",
       "      <td>0</td>\n",
       "      <td>Social</td>\n",
       "      <td>19.5%</td>\n",
       "      <td>18.5%</td>\n",
       "    </tr>\n",
       "    <tr>\n",
       "      <th>7</th>\n",
       "      <td>0</td>\n",
       "      <td>Work</td>\n",
       "      <td>26.0%</td>\n",
       "      <td>29.9%</td>\n",
       "    </tr>\n",
       "    <tr>\n",
       "      <th>8</th>\n",
       "      <td>1</td>\n",
       "      <td>Escort</td>\n",
       "      <td>0.3%</td>\n",
       "      <td>0.0%</td>\n",
       "    </tr>\n",
       "    <tr>\n",
       "      <th>9</th>\n",
       "      <td>1</td>\n",
       "      <td>Meal</td>\n",
       "      <td>0.2%</td>\n",
       "      <td>0.0%</td>\n",
       "    </tr>\n",
       "    <tr>\n",
       "      <th>10</th>\n",
       "      <td>1</td>\n",
       "      <td>Personal Business</td>\n",
       "      <td>0.2%</td>\n",
       "      <td>0.1%</td>\n",
       "    </tr>\n",
       "    <tr>\n",
       "      <th>11</th>\n",
       "      <td>1</td>\n",
       "      <td>School</td>\n",
       "      <td>0.2%</td>\n",
       "      <td>0.1%</td>\n",
       "    </tr>\n",
       "    <tr>\n",
       "      <th>12</th>\n",
       "      <td>1</td>\n",
       "      <td>Shop</td>\n",
       "      <td>0.3%</td>\n",
       "      <td>0.1%</td>\n",
       "    </tr>\n",
       "    <tr>\n",
       "      <th>13</th>\n",
       "      <td>1</td>\n",
       "      <td>Social</td>\n",
       "      <td>0.4%</td>\n",
       "      <td>0.2%</td>\n",
       "    </tr>\n",
       "    <tr>\n",
       "      <th>14</th>\n",
       "      <td>1</td>\n",
       "      <td>Work</td>\n",
       "      <td>0.6%</td>\n",
       "      <td>0.4%</td>\n",
       "    </tr>\n",
       "  </tbody>\n",
       "</table>\n",
       "</div>"
      ],
      "text/plain": [
       "source  subarea_flag                        pdpurp  model  survey\n",
       "0                  0  Change Mode Inserted Purpose    NaN    0.0%\n",
       "1                  0                        Escort  11.0%    9.2%\n",
       "2                  0                          Meal   7.0%    6.2%\n",
       "3                  0             Personal Business  11.5%   13.3%\n",
       "4                  0                        School  10.7%   10.5%\n",
       "5                  0                          Shop  12.1%   11.5%\n",
       "6                  0                        Social  19.5%   18.5%\n",
       "7                  0                          Work  26.0%   29.9%\n",
       "8                  1                        Escort   0.3%    0.0%\n",
       "9                  1                          Meal   0.2%    0.0%\n",
       "10                 1             Personal Business   0.2%    0.1%\n",
       "11                 1                        School   0.2%    0.1%\n",
       "12                 1                          Shop   0.3%    0.1%\n",
       "13                 1                        Social   0.4%    0.2%\n",
       "14                 1                          Work   0.6%    0.4%"
      ]
     },
     "execution_count": 7,
     "metadata": {},
     "output_type": "execute_result"
    }
   ],
   "source": [
    "df = load_data('tour_purpose_mode').rename(columns={'person_subarea':'subarea_flag'})\n",
    "_df = df.pivot_table(index=['subarea_flag','pdpurp'], columns='source', aggfunc='sum', values='toexpfac')\n",
    "_df_sum = _df.sum()\n",
    "_df = (_df/_df_sum).reset_index()\n",
    "_df"
   ]
  },
  {
   "cell_type": "code",
   "execution_count": 8,
   "metadata": {
    "scrolled": false
   },
   "outputs": [
    {
     "name": "stdout",
     "output_type": "stream",
     "text": [
      "Other\n",
      "source             pdpurp  model  survey\n",
      "1                  Escort  11.0%    9.2%\n",
      "2                    Meal   7.0%    6.2%\n",
      "3       Personal Business  11.5%   13.3%\n",
      "4                  School  10.7%   10.5%\n",
      "5                    Shop  12.1%   11.5%\n",
      "6                  Social  19.5%   18.5%\n",
      "7                    Work  26.0%   29.9%\n",
      "City of SeaTac\n",
      "source             pdpurp  model  survey\n",
      "8                  Escort   0.3%    0.0%\n",
      "9                    Meal   0.2%    0.0%\n",
      "10      Personal Business   0.2%    0.1%\n",
      "11                 School   0.2%    0.1%\n",
      "12                   Shop   0.3%    0.1%\n",
      "13                 Social   0.4%    0.2%\n",
      "14                   Work   0.6%    0.4%\n"
     ]
    },
    {
     "data": {
      "image/png": "[encoded data removed]",
      "text/plain": [
       "<Figure size 432x288 with 1 Axes>"
      ]
     },
     "metadata": {
      "needs_background": "light"
     },
     "output_type": "display_data"
    },
    {
     "data": {
      "image/png": "[encoded data removed]",
      "text/plain": [
       "<Figure size 432x288 with 1 Axes>"
      ]
     },
     "metadata": {
      "needs_background": "light"
     },
     "output_type": "display_data"
    }
   ],
   "source": [
    "df = load_data('tour_purpose_mode').rename(columns={'person_subarea':'subarea_flag'})\n",
    "_df = df.pivot_table(index=['subarea_flag','pdpurp'], columns='source', aggfunc='sum', values='toexpfac')\n",
    "_df_sum = _df.sum()\n",
    "_df = (_df/_df_sum).reset_index()\n",
    "_df = _df.loc[_df.pdpurp!='Change Mode Inserted Purpose',:]\n",
    "for county, _df_county in _df.groupby('subarea_flag'): \n",
    "    print(index_map.get(county))\n",
    "    print(_df_county.drop(columns='subarea_flag'))   \n",
    "    _df_county.drop(columns='subarea_flag').plot(kind='barh', alpha=0.6, title=index_map.get(county))\n"
   ]
  },
  {
   "cell_type": "markdown",
   "metadata": {},
   "source": [
    "# Tours per Person by Purpose"
   ]
  },
  {
   "cell_type": "code",
   "execution_count": 9,
   "metadata": {
    "execution": {
     "iopub.execute_input": "2021-06-10T22:10:15.420105Z",
     "iopub.status.busy": "2021-06-10T22:10:15.404547Z",
     "iopub.status.idle": "2021-06-10T22:10:15.638878Z",
     "shell.execute_reply": "2021-06-10T22:10:15.638878Z"
    }
   },
   "outputs": [
    {
     "data": {
      "text/html": [
       "<div>\n",
       "<style scoped>\n",
       "    .dataframe tbody tr th:only-of-type {\n",
       "        vertical-align: middle;\n",
       "    }\n",
       "\n",
       "    .dataframe tbody tr th {\n",
       "        vertical-align: top;\n",
       "    }\n",
       "\n",
       "    .dataframe thead th {\n",
       "        text-align: right;\n",
       "    }\n",
       "</style>\n",
       "<table border=\"1\" class=\"dataframe\">\n",
       "  <thead>\n",
       "    <tr style=\"text-align: right;\">\n",
       "      <th>source</th>\n",
       "      <th>model</th>\n",
       "      <th>survey</th>\n",
       "    </tr>\n",
       "    <tr>\n",
       "      <th>pdpurp</th>\n",
       "      <th></th>\n",
       "      <th></th>\n",
       "    </tr>\n",
       "  </thead>\n",
       "  <tbody>\n",
       "    <tr>\n",
       "      <th>Escort</th>\n",
       "      <td>0.18</td>\n",
       "      <td>0.16</td>\n",
       "    </tr>\n",
       "    <tr>\n",
       "      <th>Meal</th>\n",
       "      <td>0.11</td>\n",
       "      <td>0.10</td>\n",
       "    </tr>\n",
       "    <tr>\n",
       "      <th>Personal Business</th>\n",
       "      <td>0.19</td>\n",
       "      <td>0.23</td>\n",
       "    </tr>\n",
       "    <tr>\n",
       "      <th>School</th>\n",
       "      <td>0.17</td>\n",
       "      <td>0.18</td>\n",
       "    </tr>\n",
       "    <tr>\n",
       "      <th>Shop</th>\n",
       "      <td>0.20</td>\n",
       "      <td>0.20</td>\n",
       "    </tr>\n",
       "    <tr>\n",
       "      <th>Social</th>\n",
       "      <td>0.32</td>\n",
       "      <td>0.31</td>\n",
       "    </tr>\n",
       "    <tr>\n",
       "      <th>Work</th>\n",
       "      <td>0.42</td>\n",
       "      <td>0.51</td>\n",
       "    </tr>\n",
       "  </tbody>\n",
       "</table>\n",
       "</div>"
      ],
      "text/plain": [
       "source             model  survey\n",
       "pdpurp                          \n",
       "Escort              0.18    0.16\n",
       "Meal                0.11    0.10\n",
       "Personal Business   0.19    0.23\n",
       "School              0.17    0.18\n",
       "Shop                0.20    0.20\n",
       "Social              0.32    0.31\n",
       "Work                0.42    0.51"
      ]
     },
     "execution_count": 9,
     "metadata": {},
     "output_type": "execute_result"
    },
    {
     "data": {
      "image/png": "[encoded data removed]",
      "text/plain": [
       "<Figure size 432x288 with 1 Axes>"
      ]
     },
     "metadata": {
      "needs_background": "light"
     },
     "output_type": "display_data"
    }
   ],
   "source": [
    "pd.options.display.float_format = '{:0,.2f}'.format\n",
    "df = load_data('tour_purpose_mode')\n",
    "_df = df.pivot_table(index='pdpurp', columns='source', aggfunc='sum', values='toexpfac')\n",
    "# Total population\n",
    "df = load_data('person_type')\n",
    "_df_person = df.groupby('source').sum()[['psexpfac']].T\n",
    "_df_person.rename(columns={'psexpfac': 'toexpfac'}, inplace=True)\n",
    "_df.drop('Change Mode Inserted Purpose', axis=0, inplace=True)\n",
    "_df = _df/_df_person.values\n",
    "_df.plot(kind='barh', alpha=0.6)\n",
    "_df"
   ]
  },
  {
   "cell_type": "markdown",
   "metadata": {},
   "source": [
    "## City of SeaTac"
   ]
  },
  {
   "cell_type": "code",
   "execution_count": 10,
   "metadata": {},
   "outputs": [
    {
     "name": "stdout",
     "output_type": "stream",
     "text": [
      "Other\n",
      "source             model  survey\n",
      "pdpurp                          \n",
      "Escort              0.18    0.16\n",
      "Meal                0.11    0.11\n",
      "Personal Business   0.19    0.23\n",
      "School              0.17    0.18\n",
      "Shop                0.20    0.20\n",
      "Social              0.32    0.32\n",
      "Work                0.42    0.51\n",
      "City of SeaTac\n",
      "source             model  survey\n",
      "pdpurp                          \n",
      "Escort              0.19    0.04\n",
      "Meal                0.12    0.01\n",
      "Personal Business   0.18    0.15\n",
      "School              0.18    0.08\n",
      "Shop                0.19    0.16\n",
      "Social              0.31    0.21\n",
      "Work                0.43    0.39\n"
     ]
    },
    {
     "data": {
      "image/png": "[encoded data removed]",
      "text/plain": [
       "<Figure size 432x288 with 1 Axes>"
      ]
     },
     "metadata": {
      "needs_background": "light"
     },
     "output_type": "display_data"
    },
    {
     "data": {
      "image/png": "[encoded data removed]",
      "text/plain": [
       "<Figure size 432x288 with 1 Axes>"
      ]
     },
     "metadata": {
      "needs_background": "light"
     },
     "output_type": "display_data"
    }
   ],
   "source": [
    "df = load_data('tour_purpose_mode').rename(columns={'person_subarea':'subarea_flag'})\n",
    "_df = df.groupby(['subarea_flag', 'source', 'pdpurp'])['toexpfac'].sum().reset_index()\n",
    "# Total population\n",
    "df = load_data('person_type').rename(columns={'person_subarea':'subarea_flag'})\n",
    "_df_person = df.groupby(['subarea_flag', 'source']).sum()[['psexpfac']]\n",
    "_df = _df.loc[_df.pdpurp!='Change Mode Inserted Purpose',:]\n",
    "_df = _df.join(_df_person, how='outer', on=['subarea_flag','source'])\n",
    "_df['tpp']= _df.apply(lambda df: df.toexpfac/df.psexpfac, axis=1)\n",
    "_df = _df.pivot_table(index=['subarea_flag', 'pdpurp'], columns='source', values='tpp').reset_index(level=0)\n",
    "for county, _df_county in _df.groupby('subarea_flag'): \n",
    "    print(index_map.get(county))\n",
    "    print(_df_county.drop(columns='subarea_flag'))   \n",
    "    _df_county.drop(columns='subarea_flag').plot(kind='barh', alpha=0.6, title=index_map.get(county))"
   ]
  },
  {
   "cell_type": "markdown",
   "metadata": {},
   "source": [
    "# Tours by Person Type"
   ]
  },
  {
   "cell_type": "code",
   "execution_count": 11,
   "metadata": {
    "execution": {
     "iopub.execute_input": "2021-06-10T22:10:15.638878Z",
     "iopub.status.busy": "2021-06-10T22:10:15.638878Z",
     "iopub.status.idle": "2021-06-10T22:10:15.860451Z",
     "shell.execute_reply": "2021-06-10T22:10:15.860451Z"
    }
   },
   "outputs": [
    {
     "data": {
      "text/html": [
       "<div>\n",
       "<style scoped>\n",
       "    .dataframe tbody tr th:only-of-type {\n",
       "        vertical-align: middle;\n",
       "    }\n",
       "\n",
       "    .dataframe tbody tr th {\n",
       "        vertical-align: top;\n",
       "    }\n",
       "\n",
       "    .dataframe thead th {\n",
       "        text-align: right;\n",
       "    }\n",
       "</style>\n",
       "<table border=\"1\" class=\"dataframe\">\n",
       "  <thead>\n",
       "    <tr style=\"text-align: right;\">\n",
       "      <th>source</th>\n",
       "      <th>model</th>\n",
       "      <th>survey</th>\n",
       "    </tr>\n",
       "    <tr>\n",
       "      <th>pptyp</th>\n",
       "      <th></th>\n",
       "      <th></th>\n",
       "    </tr>\n",
       "  </thead>\n",
       "  <tbody>\n",
       "    <tr>\n",
       "      <th>Child Age 0-4</th>\n",
       "      <td>267,649</td>\n",
       "      <td>363,125</td>\n",
       "    </tr>\n",
       "    <tr>\n",
       "      <th>Child Age 5-15</th>\n",
       "      <td>741,889</td>\n",
       "      <td>888,832</td>\n",
       "    </tr>\n",
       "    <tr>\n",
       "      <th>Full-Time Worker</th>\n",
       "      <td>2,720,074</td>\n",
       "      <td>2,943,230</td>\n",
       "    </tr>\n",
       "    <tr>\n",
       "      <th>High School Student Age 16+</th>\n",
       "      <td>213,676</td>\n",
       "      <td>180,589</td>\n",
       "    </tr>\n",
       "    <tr>\n",
       "      <th>Non-Working Adult Age 65+</th>\n",
       "      <td>683,102</td>\n",
       "      <td>945,913</td>\n",
       "    </tr>\n",
       "    <tr>\n",
       "      <th>Non-Working Adult Age &lt;65</th>\n",
       "      <td>963,238</td>\n",
       "      <td>512,159</td>\n",
       "    </tr>\n",
       "    <tr>\n",
       "      <th>Part-Time Worker</th>\n",
       "      <td>540,340</td>\n",
       "      <td>464,305</td>\n",
       "    </tr>\n",
       "    <tr>\n",
       "      <th>University Student</th>\n",
       "      <td>280,706</td>\n",
       "      <td>205,832</td>\n",
       "    </tr>\n",
       "  </tbody>\n",
       "</table>\n",
       "</div>"
      ],
      "text/plain": [
       "source                          model    survey\n",
       "pptyp                                          \n",
       "Child Age 0-4                 267,649   363,125\n",
       "Child Age 5-15                741,889   888,832\n",
       "Full-Time Worker            2,720,074 2,943,230\n",
       "High School Student Age 16+   213,676   180,589\n",
       "Non-Working Adult Age 65+     683,102   945,913\n",
       "Non-Working Adult Age <65     963,238   512,159\n",
       "Part-Time Worker              540,340   464,305\n",
       "University Student            280,706   205,832"
      ]
     },
     "execution_count": 11,
     "metadata": {},
     "output_type": "execute_result"
    },
    {
     "data": {
      "image/png": "[encoded data removed]",
      "text/plain": [
       "<Figure size 432x288 with 1 Axes>"
      ]
     },
     "metadata": {
      "needs_background": "light"
     },
     "output_type": "display_data"
    }
   ],
   "source": [
    "pd.options.display.float_format = '{:0,.0f}'.format\n",
    "df = load_data('tour_purpose_mode')\n",
    "\n",
    "df = df.pivot_table(index='pptyp', columns='source', aggfunc='sum', values='toexpfac')\n",
    "df.plot(kind='barh', alpha=0.6)\n",
    "df"
   ]
  },
  {
   "cell_type": "markdown",
   "metadata": {},
   "source": [
    "## City of SeaTac"
   ]
  },
  {
   "cell_type": "code",
   "execution_count": 12,
   "metadata": {
    "scrolled": false
   },
   "outputs": [
    {
     "name": "stdout",
     "output_type": "stream",
     "text": [
      "Other\n",
      "source             model  survey\n",
      "pdpurp                          \n",
      "Escort                 0       0\n",
      "Meal                   0       0\n",
      "Personal Business      0       0\n",
      "School                 0       0\n",
      "Shop                   0       0\n",
      "Social                 0       0\n",
      "Work                   0       1\n",
      "City of SeaTac\n",
      "source             model  survey\n",
      "pdpurp                          \n",
      "Escort                 0       0\n",
      "Meal                   0       0\n",
      "Personal Business      0       0\n",
      "School                 0       0\n",
      "Shop                   0       0\n",
      "Social                 0       0\n",
      "Work                   0       0\n"
     ]
    },
    {
     "data": {
      "image/png": "[encoded data removed]",
      "text/plain": [
       "<Figure size 432x288 with 1 Axes>"
      ]
     },
     "metadata": {
      "needs_background": "light"
     },
     "output_type": "display_data"
    },
    {
     "data": {
      "image/png": "[encoded data removed]",
      "text/plain": [
       "<Figure size 432x288 with 1 Axes>"
      ]
     },
     "metadata": {
      "needs_background": "light"
     },
     "output_type": "display_data"
    }
   ],
   "source": [
    "df = load_data('tour_purpose_mode').rename(columns={'person_subarea':'subarea_flag'})\n",
    "\n",
    "df = df.pivot_table(index=['subarea_flag', 'pptyp'], columns='source', aggfunc='sum', values='toexpfac').reset_index(level=0)\n",
    "for county, _df_county in _df.groupby('subarea_flag'): \n",
    "    print(index_map.get(county))\n",
    "    print(_df_county.drop(columns='subarea_flag'))   \n",
    "    _df_county.drop(columns='subarea_flag').plot(kind='barh', alpha=0.6, title=index_map.get(county))"
   ]
  },
  {
   "cell_type": "markdown",
   "metadata": {},
   "source": [
    "## Work Tours by Person Type"
   ]
  },
  {
   "cell_type": "code",
   "execution_count": 13,
   "metadata": {
    "execution": {
     "iopub.execute_input": "2021-06-10T22:10:15.860451Z",
     "iopub.status.busy": "2021-06-10T22:10:15.860451Z",
     "iopub.status.idle": "2021-06-10T22:10:16.047977Z",
     "shell.execute_reply": "2021-06-10T22:10:16.047977Z"
    }
   },
   "outputs": [
    {
     "data": {
      "text/html": [
       "<div>\n",
       "<style scoped>\n",
       "    .dataframe tbody tr th:only-of-type {\n",
       "        vertical-align: middle;\n",
       "    }\n",
       "\n",
       "    .dataframe tbody tr th {\n",
       "        vertical-align: top;\n",
       "    }\n",
       "\n",
       "    .dataframe thead th {\n",
       "        text-align: right;\n",
       "    }\n",
       "</style>\n",
       "<table border=\"1\" class=\"dataframe\">\n",
       "  <thead>\n",
       "    <tr style=\"text-align: right;\">\n",
       "      <th>source</th>\n",
       "      <th>model</th>\n",
       "      <th>survey</th>\n",
       "    </tr>\n",
       "    <tr>\n",
       "      <th>pptyp</th>\n",
       "      <th></th>\n",
       "      <th></th>\n",
       "    </tr>\n",
       "  </thead>\n",
       "  <tbody>\n",
       "    <tr>\n",
       "      <th>Full-Time Worker</th>\n",
       "      <td>1,455,122</td>\n",
       "      <td>1,719,034</td>\n",
       "    </tr>\n",
       "    <tr>\n",
       "      <th>High School Student Age 16+</th>\n",
       "      <td>8,670</td>\n",
       "      <td>3,826</td>\n",
       "    </tr>\n",
       "    <tr>\n",
       "      <th>Part-Time Worker</th>\n",
       "      <td>186,742</td>\n",
       "      <td>191,551</td>\n",
       "    </tr>\n",
       "    <tr>\n",
       "      <th>University Student</th>\n",
       "      <td>55,761</td>\n",
       "      <td>48,417</td>\n",
       "    </tr>\n",
       "  </tbody>\n",
       "</table>\n",
       "</div>"
      ],
      "text/plain": [
       "source                          model    survey\n",
       "pptyp                                          \n",
       "Full-Time Worker            1,455,122 1,719,034\n",
       "High School Student Age 16+     8,670     3,826\n",
       "Part-Time Worker              186,742   191,551\n",
       "University Student             55,761    48,417"
      ]
     },
     "execution_count": 13,
     "metadata": {},
     "output_type": "execute_result"
    },
    {
     "data": {
      "image/png": "[encoded data removed]",
      "text/plain": [
       "<Figure size 432x288 with 1 Axes>"
      ]
     },
     "metadata": {
      "needs_background": "light"
     },
     "output_type": "display_data"
    }
   ],
   "source": [
    "pd.options.display.float_format = '{:0,.0f}'.format\n",
    "df = load_data('tour_purpose_mode')\n",
    "df = df[(df['pdpurp'] == 'Work') & (df['pptyp'].isin(['Full-Time Worker','High School Student Age 16+',\n",
    "                                                     'Part-Time Worker','University Student']))]\n",
    "df = df.pivot_table(index='pptyp', columns='source', aggfunc='sum', values='toexpfac')\n",
    "df.plot(kind='barh', alpha=0.6)\n",
    "df"
   ]
  },
  {
   "cell_type": "code",
   "execution_count": 14,
   "metadata": {
    "scrolled": false
   },
   "outputs": [
    {
     "name": "stdout",
     "output_type": "stream",
     "text": [
      "Other\n",
      "source             model  survey\n",
      "pdpurp                          \n",
      "Escort                 0       0\n",
      "Meal                   0       0\n",
      "Personal Business      0       0\n",
      "School                 0       0\n",
      "Shop                   0       0\n",
      "Social                 0       0\n",
      "Work                   0       1\n",
      "City of SeaTac\n",
      "source             model  survey\n",
      "pdpurp                          \n",
      "Escort                 0       0\n",
      "Meal                   0       0\n",
      "Personal Business      0       0\n",
      "School                 0       0\n",
      "Shop                   0       0\n",
      "Social                 0       0\n",
      "Work                   0       0\n"
     ]
    },
    {
     "data": {
      "image/png": "[encoded data removed]",
      "text/plain": [
       "<Figure size 432x288 with 1 Axes>"
      ]
     },
     "metadata": {
      "needs_background": "light"
     },
     "output_type": "display_data"
    },
    {
     "data": {
      "image/png": "[encoded data removed]",
      "text/plain": [
       "<Figure size 432x288 with 1 Axes>"
      ]
     },
     "metadata": {
      "needs_background": "light"
     },
     "output_type": "display_data"
    }
   ],
   "source": [
    "df = load_data('tour_purpose_mode').rename(columns={'person_subarea':'subarea_flag'})\n",
    "df = df[(df['pdpurp'] == 'Work') & (df['pptyp'].isin(['Full-Time Worker','High School Student Age 16+',\n",
    "                                                     'Part-Time Worker','University Student']))]\n",
    "df = df.pivot_table(index=['subarea_flag', 'pptyp'], columns='source', aggfunc='sum', values='toexpfac').reset_index(level=0)\n",
    "for county, _df_county in _df.groupby('subarea_flag'): \n",
    "    print(index_map.get(county))\n",
    "    print(_df_county.drop(columns='subarea_flag'))   \n",
    "    _df_county.drop(columns='subarea_flag').plot(kind='barh', alpha=0.6, title=index_map.get(county))"
   ]
  },
  {
   "cell_type": "code",
   "execution_count": null,
   "metadata": {},
   "outputs": [],
   "source": []
  }
 ],
 "metadata": {
  "kernelspec": {
   "display_name": "Python 3",
   "language": "python",
   "name": "python3"
  },
  "language_info": {
   "codemirror_mode": {
    "name": "ipython",
    "version": 3
   },
   "file_extension": ".py",
   "mimetype": "text/x-python",
   "name": "python",
   "nbconvert_exporter": "python",
   "pygments_lexer": "ipython3",
   "version": "3.7.10"
  }
 },
 "nbformat": 4,
 "nbformat_minor": 4
}
