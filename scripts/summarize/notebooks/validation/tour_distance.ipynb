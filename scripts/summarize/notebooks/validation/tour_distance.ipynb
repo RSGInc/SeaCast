{
 "cells": [
  {
   "cell_type": "code",
   "execution_count": 1,
   "metadata": {
    "execution": {
     "iopub.execute_input": "2021-06-10T22:11:19.873581Z",
     "iopub.status.busy": "2021-06-10T22:11:19.873581Z",
     "iopub.status.idle": "2021-06-10T22:11:20.779627Z",
     "shell.execute_reply": "2021-06-10T22:11:20.779627Z"
    }
   },
   "outputs": [],
   "source": [
    "import warnings\n",
    "warnings.simplefilter(action='ignore', category=FutureWarning)\n",
    "import pandas as pd\n",
    "import os, sys\n",
    "%matplotlib inline\n",
    "\n",
    "os.chdir('..\\..\\..\\..')\n",
    "\n",
    "# from input_configuration import base_year\n",
    "import toml\n",
    "config = toml.load(os.path.join(os.getcwd(), 'configuration/input_configuration.toml'))\n",
    "\n",
    "from IPython.display import display, HTML\n",
    "\n",
    "if (sys.version_info < (3, 0)):\n",
    "    HTML('''<script>\n",
    "    code_show=true; \n",
    "    function code_toggle() {\n",
    "     if (code_show){\n",
    "     $('div.input').hide();\n",
    "     } else {\n",
    "     $('div.input').show();\n",
    "     }\n",
    "     code_show = !code_show\n",
    "    } \n",
    "    $( document ).ready(code_toggle);\n",
    "    </script>\n",
    "    <form action=\"javascript:code_toggle()\"><input type=\"submit\" value=\"Click here to toggle on/off the raw code.\"></form>''')\n"
   ]
  },
  {
   "cell_type": "code",
   "execution_count": 2,
   "metadata": {
    "execution": {
     "iopub.execute_input": "2021-06-10T22:11:20.779627Z",
     "iopub.status.busy": "2021-06-10T22:11:20.779627Z",
     "iopub.status.idle": "2021-06-10T22:11:20.795247Z",
     "shell.execute_reply": "2021-06-10T22:11:20.795247Z"
    }
   },
   "outputs": [],
   "source": [
    "working_dir = r'outputs/agg/dash'\n",
    "# pd.options.display.float_format = '{:0,.0f}'.format\n",
    "format_percent = \"{:,.2%}\".format"
   ]
  },
  {
   "cell_type": "code",
   "execution_count": 3,
   "metadata": {
    "execution": {
     "iopub.execute_input": "2021-06-10T22:11:20.795247Z",
     "iopub.status.busy": "2021-06-10T22:11:20.795247Z",
     "iopub.status.idle": "2021-06-10T22:11:20.810870Z",
     "shell.execute_reply": "2021-06-10T22:11:20.810870Z"
    }
   },
   "outputs": [],
   "source": [
    "def load_data(fname):\n",
    "    \"\"\" open and join model and survey data \"\"\"\n",
    "\n",
    "    df_model = pd.read_csv(os.path.join(working_dir,fname+'.csv'))\n",
    "    df_model['source'] = 'model'\n",
    "    df_survey = pd.read_csv(os.path.join(working_dir,'survey',fname+'.csv'))\n",
    "    df_survey['source'] = 'survey'\n",
    "    df = df_model.append(df_survey)\n",
    "\n",
    "    return df"
   ]
  },
  {
   "cell_type": "code",
   "execution_count": 4,
   "metadata": {
    "execution": {
     "iopub.execute_input": "2021-06-10T22:11:20.810870Z",
     "iopub.status.busy": "2021-06-10T22:11:20.810870Z",
     "iopub.status.idle": "2021-06-10T22:11:23.240606Z",
     "shell.execute_reply": "2021-06-10T22:11:23.240606Z"
    }
   },
   "outputs": [],
   "source": [
    "parcel_geog = pd.read_sql_table('parcel_'+config['base_year']+'_geography', 'sqlite:///inputs/db/soundcast_inputs.db',\n",
    "        columns=['CountyName','ParcelID'])"
   ]
  },
  {
   "cell_type": "code",
   "execution_count": 5,
   "metadata": {
    "execution": {
     "iopub.execute_input": "2021-06-10T22:11:23.256225Z",
     "iopub.status.busy": "2021-06-10T22:11:23.256225Z",
     "iopub.status.idle": "2021-06-10T22:11:23.271848Z",
     "shell.execute_reply": "2021-06-10T22:11:23.271848Z"
    }
   },
   "outputs": [],
   "source": [
    "def dist_by_mode(purpose=None):\n",
    "    df = load_data('tour_distance')\n",
    "    # Trim any unreasonable survey distances off by taking max distance as max modeled bin value\n",
    "    max_model_dist = df.loc[(df['source']=='model'), 'tautodist_bin'].max()\n",
    "    df = df.loc[df['tautodist_bin'] <= max_model_dist]\n",
    "    df['wt_autodist'] = (df['tautodist_bin']+0.5)*(df['toexpfac'])\n",
    "    df_dist = pd.DataFrame()\n",
    "    for source in ['model','survey']:\n",
    "        if purpose is not None:\n",
    "            _df = df[(df['source'] == source) & (df['pdpurp'] == purpose)]\n",
    "        else:\n",
    "            _df = df[(df['source'] == source)]\n",
    "        df1 = _df.groupby('tmodetp').sum()[['wt_autodist']].reset_index()\n",
    "        df2 = _df.groupby('tmodetp').sum()[['toexpfac']].reset_index ()\n",
    "        _df = df1.merge(df2, on='tmodetp')\n",
    "        _df['commute_distance'] = _df['wt_autodist']/_df['toexpfac']\n",
    "        _df['source'] = source\n",
    "        df_dist = df_dist.append(_df)\n",
    "    df = df_dist.pivot_table(index='tmodetp', columns='source', aggfunc='first', values='commute_distance')\n",
    "    df.rename(columns={'tmodetp': 'Tour Mode'}, inplace=True)\n",
    "    for col in ['School Bus',' Park']:\n",
    "        if (col in df.index) & (purpose != 'School'):\n",
    "            df.drop(col, axis=0, inplace=True)\n",
    "        if (col != 'School Bus') & (col in df.index):\n",
    "            df.drop(col, axis=0, inplace=True)\n",
    "    \n",
    "    return df"
   ]
  },
  {
   "cell_type": "markdown",
   "metadata": {},
   "source": [
    "### Total"
   ]
  },
  {
   "cell_type": "code",
   "execution_count": 6,
   "metadata": {
    "execution": {
     "iopub.execute_input": "2021-06-10T22:11:23.271848Z",
     "iopub.status.busy": "2021-06-10T22:11:23.271848Z",
     "iopub.status.idle": "2021-06-10T22:11:23.381268Z",
     "shell.execute_reply": "2021-06-10T22:11:23.381268Z"
    }
   },
   "outputs": [
    {
     "data": {
      "text/html": [
       "<div>\n",
       "<style scoped>\n",
       "    .dataframe tbody tr th:only-of-type {\n",
       "        vertical-align: middle;\n",
       "    }\n",
       "\n",
       "    .dataframe tbody tr th {\n",
       "        vertical-align: top;\n",
       "    }\n",
       "\n",
       "    .dataframe thead th {\n",
       "        text-align: right;\n",
       "    }\n",
       "</style>\n",
       "<table border=\"1\" class=\"dataframe\">\n",
       "  <thead>\n",
       "    <tr style=\"text-align: right;\">\n",
       "      <th></th>\n",
       "      <th>School Distance (miles)</th>\n",
       "    </tr>\n",
       "    <tr>\n",
       "      <th>source</th>\n",
       "      <th></th>\n",
       "    </tr>\n",
       "  </thead>\n",
       "  <tbody>\n",
       "    <tr>\n",
       "      <th>model</th>\n",
       "      <td>3.741830</td>\n",
       "    </tr>\n",
       "    <tr>\n",
       "      <th>survey</th>\n",
       "      <td>4.283469</td>\n",
       "    </tr>\n",
       "  </tbody>\n",
       "</table>\n",
       "</div>"
      ],
      "text/plain": [
       "        School Distance (miles)\n",
       "source                         \n",
       "model                  3.741830\n",
       "survey                 4.283469"
      ]
     },
     "execution_count": 6,
     "metadata": {},
     "output_type": "execute_result"
    }
   ],
   "source": [
    "df = load_data('tour_distance')\n",
    "# Trim any unreasonable survey distances off by taking max distance as max modeled bin value\n",
    "max_model_dist = df.loc[(df['source']=='model'), 'tautodist_bin'].max()\n",
    "df = df.loc[df['tautodist_bin'] <= max_model_dist]\n",
    "df = df[(df['pdpurp'] == 'School')]\n",
    "df['wt_autodist'] = (df['tautodist_bin']+0.5)*(df['toexpfac'])\n",
    "df = df.groupby('source').sum()\n",
    "pd.DataFrame(df['wt_autodist']/df['toexpfac'], columns=['School Distance (miles)'])"
   ]
  },
  {
   "cell_type": "markdown",
   "metadata": {},
   "source": [
    "### By Purpose"
   ]
  },
  {
   "cell_type": "code",
   "execution_count": 7,
   "metadata": {
    "execution": {
     "iopub.execute_input": "2021-06-10T22:11:23.396892Z",
     "iopub.status.busy": "2021-06-10T22:11:23.396892Z",
     "iopub.status.idle": "2021-06-10T22:11:23.490617Z",
     "shell.execute_reply": "2021-06-10T22:11:23.490617Z"
    }
   },
   "outputs": [
    {
     "data": {
      "text/html": [
       "<div>\n",
       "<style scoped>\n",
       "    .dataframe tbody tr th:only-of-type {\n",
       "        vertical-align: middle;\n",
       "    }\n",
       "\n",
       "    .dataframe tbody tr th {\n",
       "        vertical-align: top;\n",
       "    }\n",
       "\n",
       "    .dataframe thead th {\n",
       "        text-align: right;\n",
       "    }\n",
       "</style>\n",
       "<table border=\"1\" class=\"dataframe\">\n",
       "  <thead>\n",
       "    <tr style=\"text-align: right;\">\n",
       "      <th>source</th>\n",
       "      <th>model</th>\n",
       "      <th>survey</th>\n",
       "    </tr>\n",
       "    <tr>\n",
       "      <th>pdpurp</th>\n",
       "      <th></th>\n",
       "      <th></th>\n",
       "    </tr>\n",
       "  </thead>\n",
       "  <tbody>\n",
       "    <tr>\n",
       "      <th>Escort</th>\n",
       "      <td>7.035416</td>\n",
       "      <td>3.884350</td>\n",
       "    </tr>\n",
       "    <tr>\n",
       "      <th>Meal</th>\n",
       "      <td>5.318385</td>\n",
       "      <td>4.223924</td>\n",
       "    </tr>\n",
       "    <tr>\n",
       "      <th>Personal Business</th>\n",
       "      <td>6.797567</td>\n",
       "      <td>5.486210</td>\n",
       "    </tr>\n",
       "    <tr>\n",
       "      <th>School</th>\n",
       "      <td>3.741830</td>\n",
       "      <td>4.283469</td>\n",
       "    </tr>\n",
       "    <tr>\n",
       "      <th>Shop</th>\n",
       "      <td>4.764763</td>\n",
       "      <td>4.527161</td>\n",
       "    </tr>\n",
       "    <tr>\n",
       "      <th>Social</th>\n",
       "      <td>4.505125</td>\n",
       "      <td>4.889143</td>\n",
       "    </tr>\n",
       "    <tr>\n",
       "      <th>Work</th>\n",
       "      <td>11.850228</td>\n",
       "      <td>11.508843</td>\n",
       "    </tr>\n",
       "  </tbody>\n",
       "</table>\n",
       "</div>"
      ],
      "text/plain": [
       "source                 model     survey\n",
       "pdpurp                                 \n",
       "Escort              7.035416   3.884350\n",
       "Meal                5.318385   4.223924\n",
       "Personal Business   6.797567   5.486210\n",
       "School              3.741830   4.283469\n",
       "Shop                4.764763   4.527161\n",
       "Social              4.505125   4.889143\n",
       "Work               11.850228  11.508843"
      ]
     },
     "execution_count": 7,
     "metadata": {},
     "output_type": "execute_result"
    }
   ],
   "source": [
    "df = load_data('tour_distance')\n",
    "# Trim any unreasonable survey distances off by taking max distance as max modeled bin value\n",
    "max_model_dist = df.loc[(df['source']=='model'), 'tautodist_bin'].max()\n",
    "df = df.loc[df['tautodist_bin'] <= max_model_dist]\n",
    "df['wt_autodist'] = (df['tautodist_bin']+0.5)*(df['toexpfac'])\n",
    "df_dist = pd.DataFrame()\n",
    "for source in ['model','survey']:\n",
    "    _df = df[(df['source'] == source)]\n",
    "    df1 = _df.groupby('pdpurp').sum()[['wt_autodist']].reset_index()\n",
    "    df2 = _df.groupby('pdpurp').sum()[['toexpfac']].reset_index ()\n",
    "    _df = df1.merge(df2, on='pdpurp')\n",
    "    _df['commute_distance'] = _df['wt_autodist']/_df['toexpfac']\n",
    "    _df['source'] = source\n",
    "    df_dist = df_dist.append(_df)\n",
    "df = df_dist.pivot_table(index='pdpurp', columns='source', aggfunc='first', values='commute_distance')\n",
    "df.rename(columns={'pdpurp': 'Tour Purpose'}, inplace=True)\n",
    "df.drop('Change Mode Inserted Purpose', axis=0, inplace=True)\n",
    "df"
   ]
  },
  {
   "cell_type": "markdown",
   "metadata": {},
   "source": [
    "# Tour Distance\n",
    "### All Tours"
   ]
  },
  {
   "cell_type": "code",
   "execution_count": 8,
   "metadata": {
    "execution": {
     "iopub.execute_input": "2021-06-10T22:11:23.490617Z",
     "iopub.status.busy": "2021-06-10T22:11:23.490617Z",
     "iopub.status.idle": "2021-06-10T22:11:23.568724Z",
     "shell.execute_reply": "2021-06-10T22:11:23.568724Z"
    }
   },
   "outputs": [
    {
     "data": {
      "text/html": [
       "<div>\n",
       "<style scoped>\n",
       "    .dataframe tbody tr th:only-of-type {\n",
       "        vertical-align: middle;\n",
       "    }\n",
       "\n",
       "    .dataframe tbody tr th {\n",
       "        vertical-align: top;\n",
       "    }\n",
       "\n",
       "    .dataframe thead th {\n",
       "        text-align: right;\n",
       "    }\n",
       "</style>\n",
       "<table border=\"1\" class=\"dataframe\">\n",
       "  <thead>\n",
       "    <tr style=\"text-align: right;\">\n",
       "      <th>source</th>\n",
       "      <th>model</th>\n",
       "      <th>survey</th>\n",
       "    </tr>\n",
       "    <tr>\n",
       "      <th>tmodetp</th>\n",
       "      <th></th>\n",
       "      <th></th>\n",
       "    </tr>\n",
       "  </thead>\n",
       "  <tbody>\n",
       "    <tr>\n",
       "      <th>Bike</th>\n",
       "      <td>3.907064</td>\n",
       "      <td>3.032501</td>\n",
       "    </tr>\n",
       "    <tr>\n",
       "      <th>HOV2</th>\n",
       "      <td>7.329418</td>\n",
       "      <td>6.698868</td>\n",
       "    </tr>\n",
       "    <tr>\n",
       "      <th>HOV3+</th>\n",
       "      <td>6.948536</td>\n",
       "      <td>6.216336</td>\n",
       "    </tr>\n",
       "    <tr>\n",
       "      <th>Park</th>\n",
       "      <td>16.341344</td>\n",
       "      <td>24.393105</td>\n",
       "    </tr>\n",
       "    <tr>\n",
       "      <th>SOV</th>\n",
       "      <td>8.866115</td>\n",
       "      <td>8.497786</td>\n",
       "    </tr>\n",
       "    <tr>\n",
       "      <th>TNC</th>\n",
       "      <td>2.502497</td>\n",
       "      <td>3.992971</td>\n",
       "    </tr>\n",
       "    <tr>\n",
       "      <th>Transit</th>\n",
       "      <td>9.932451</td>\n",
       "      <td>9.402977</td>\n",
       "    </tr>\n",
       "    <tr>\n",
       "      <th>Walk</th>\n",
       "      <td>0.932296</td>\n",
       "      <td>0.889081</td>\n",
       "    </tr>\n",
       "  </tbody>\n",
       "</table>\n",
       "</div>"
      ],
      "text/plain": [
       "source       model     survey\n",
       "tmodetp                      \n",
       "Bike      3.907064   3.032501\n",
       "HOV2      7.329418   6.698868\n",
       "HOV3+     6.948536   6.216336\n",
       "Park     16.341344  24.393105\n",
       "SOV       8.866115   8.497786\n",
       "TNC       2.502497   3.992971\n",
       "Transit   9.932451   9.402977\n",
       "Walk      0.932296   0.889081"
      ]
     },
     "execution_count": 8,
     "metadata": {},
     "output_type": "execute_result"
    }
   ],
   "source": [
    "dist_by_mode()"
   ]
  },
  {
   "cell_type": "markdown",
   "metadata": {},
   "source": [
    "### Average Work Tour Distance By Mode"
   ]
  },
  {
   "cell_type": "code",
   "execution_count": 9,
   "metadata": {
    "execution": {
     "iopub.execute_input": "2021-06-10T22:11:23.568724Z",
     "iopub.status.busy": "2021-06-10T22:11:23.568724Z",
     "iopub.status.idle": "2021-06-10T22:11:23.662452Z",
     "shell.execute_reply": "2021-06-10T22:11:23.662452Z"
    }
   },
   "outputs": [
    {
     "data": {
      "text/html": [
       "<div>\n",
       "<style scoped>\n",
       "    .dataframe tbody tr th:only-of-type {\n",
       "        vertical-align: middle;\n",
       "    }\n",
       "\n",
       "    .dataframe tbody tr th {\n",
       "        vertical-align: top;\n",
       "    }\n",
       "\n",
       "    .dataframe thead th {\n",
       "        text-align: right;\n",
       "    }\n",
       "</style>\n",
       "<table border=\"1\" class=\"dataframe\">\n",
       "  <thead>\n",
       "    <tr style=\"text-align: right;\">\n",
       "      <th>source</th>\n",
       "      <th>model</th>\n",
       "      <th>survey</th>\n",
       "    </tr>\n",
       "    <tr>\n",
       "      <th>tmodetp</th>\n",
       "      <th></th>\n",
       "      <th></th>\n",
       "    </tr>\n",
       "  </thead>\n",
       "  <tbody>\n",
       "    <tr>\n",
       "      <th>Bike</th>\n",
       "      <td>4.471315</td>\n",
       "      <td>4.307769</td>\n",
       "    </tr>\n",
       "    <tr>\n",
       "      <th>HOV2</th>\n",
       "      <td>11.831294</td>\n",
       "      <td>11.350996</td>\n",
       "    </tr>\n",
       "    <tr>\n",
       "      <th>HOV3+</th>\n",
       "      <td>12.243202</td>\n",
       "      <td>15.006290</td>\n",
       "    </tr>\n",
       "    <tr>\n",
       "      <th>Park</th>\n",
       "      <td>16.341344</td>\n",
       "      <td>23.257848</td>\n",
       "    </tr>\n",
       "    <tr>\n",
       "      <th>SOV</th>\n",
       "      <td>12.382694</td>\n",
       "      <td>11.779248</td>\n",
       "    </tr>\n",
       "    <tr>\n",
       "      <th>TNC</th>\n",
       "      <td>6.218314</td>\n",
       "      <td>4.858663</td>\n",
       "    </tr>\n",
       "    <tr>\n",
       "      <th>Transit</th>\n",
       "      <td>13.472853</td>\n",
       "      <td>10.774342</td>\n",
       "    </tr>\n",
       "    <tr>\n",
       "      <th>Walk</th>\n",
       "      <td>0.764163</td>\n",
       "      <td>1.290412</td>\n",
       "    </tr>\n",
       "  </tbody>\n",
       "</table>\n",
       "</div>"
      ],
      "text/plain": [
       "source       model     survey\n",
       "tmodetp                      \n",
       "Bike      4.471315   4.307769\n",
       "HOV2     11.831294  11.350996\n",
       "HOV3+    12.243202  15.006290\n",
       "Park     16.341344  23.257848\n",
       "SOV      12.382694  11.779248\n",
       "TNC       6.218314   4.858663\n",
       "Transit  13.472853  10.774342\n",
       "Walk      0.764163   1.290412"
      ]
     },
     "execution_count": 9,
     "metadata": {},
     "output_type": "execute_result"
    }
   ],
   "source": [
    "dist_by_mode('Work')"
   ]
  },
  {
   "cell_type": "markdown",
   "metadata": {},
   "source": [
    "### Average School Tour Distance by Mode"
   ]
  },
  {
   "cell_type": "code",
   "execution_count": 10,
   "metadata": {
    "execution": {
     "iopub.execute_input": "2021-06-10T22:11:23.662452Z",
     "iopub.status.busy": "2021-06-10T22:11:23.662452Z",
     "iopub.status.idle": "2021-06-10T22:11:23.756180Z",
     "shell.execute_reply": "2021-06-10T22:11:23.756180Z"
    }
   },
   "outputs": [
    {
     "data": {
      "text/html": [
       "<div>\n",
       "<style scoped>\n",
       "    .dataframe tbody tr th:only-of-type {\n",
       "        vertical-align: middle;\n",
       "    }\n",
       "\n",
       "    .dataframe tbody tr th {\n",
       "        vertical-align: top;\n",
       "    }\n",
       "\n",
       "    .dataframe thead th {\n",
       "        text-align: right;\n",
       "    }\n",
       "</style>\n",
       "<table border=\"1\" class=\"dataframe\">\n",
       "  <thead>\n",
       "    <tr style=\"text-align: right;\">\n",
       "      <th>source</th>\n",
       "      <th>model</th>\n",
       "      <th>survey</th>\n",
       "    </tr>\n",
       "    <tr>\n",
       "      <th>tmodetp</th>\n",
       "      <th></th>\n",
       "      <th></th>\n",
       "    </tr>\n",
       "  </thead>\n",
       "  <tbody>\n",
       "    <tr>\n",
       "      <th>Bike</th>\n",
       "      <td>2.120961</td>\n",
       "      <td>1.295566</td>\n",
       "    </tr>\n",
       "    <tr>\n",
       "      <th>HOV2</th>\n",
       "      <td>3.564949</td>\n",
       "      <td>5.358035</td>\n",
       "    </tr>\n",
       "    <tr>\n",
       "      <th>HOV3+</th>\n",
       "      <td>3.704412</td>\n",
       "      <td>3.623373</td>\n",
       "    </tr>\n",
       "    <tr>\n",
       "      <th>Park</th>\n",
       "      <td>NaN</td>\n",
       "      <td>28.455959</td>\n",
       "    </tr>\n",
       "    <tr>\n",
       "      <th>SOV</th>\n",
       "      <td>7.569908</td>\n",
       "      <td>6.082790</td>\n",
       "    </tr>\n",
       "    <tr>\n",
       "      <th>School Bus</th>\n",
       "      <td>3.204986</td>\n",
       "      <td>3.464268</td>\n",
       "    </tr>\n",
       "    <tr>\n",
       "      <th>TNC</th>\n",
       "      <td>2.335021</td>\n",
       "      <td>2.772132</td>\n",
       "    </tr>\n",
       "    <tr>\n",
       "      <th>Transit</th>\n",
       "      <td>6.325772</td>\n",
       "      <td>7.658118</td>\n",
       "    </tr>\n",
       "    <tr>\n",
       "      <th>Walk</th>\n",
       "      <td>1.126671</td>\n",
       "      <td>0.948390</td>\n",
       "    </tr>\n",
       "  </tbody>\n",
       "</table>\n",
       "</div>"
      ],
      "text/plain": [
       "source         model     survey\n",
       "tmodetp                        \n",
       "Bike        2.120961   1.295566\n",
       "HOV2        3.564949   5.358035\n",
       "HOV3+       3.704412   3.623373\n",
       "Park             NaN  28.455959\n",
       "SOV         7.569908   6.082790\n",
       "School Bus  3.204986   3.464268\n",
       "TNC         2.335021   2.772132\n",
       "Transit     6.325772   7.658118\n",
       "Walk        1.126671   0.948390"
      ]
     },
     "execution_count": 10,
     "metadata": {},
     "output_type": "execute_result"
    }
   ],
   "source": [
    "dist_by_mode('School')"
   ]
  },
  {
   "cell_type": "markdown",
   "metadata": {},
   "source": [
    "### Average Personal Business Tour Distance by Mode"
   ]
  },
  {
   "cell_type": "code",
   "execution_count": 11,
   "metadata": {
    "execution": {
     "iopub.execute_input": "2021-06-10T22:11:23.756180Z",
     "iopub.status.busy": "2021-06-10T22:11:23.756180Z",
     "iopub.status.idle": "2021-06-10T22:11:23.834285Z",
     "shell.execute_reply": "2021-06-10T22:11:23.834285Z"
    }
   },
   "outputs": [
    {
     "data": {
      "text/html": [
       "<div>\n",
       "<style scoped>\n",
       "    .dataframe tbody tr th:only-of-type {\n",
       "        vertical-align: middle;\n",
       "    }\n",
       "\n",
       "    .dataframe tbody tr th {\n",
       "        vertical-align: top;\n",
       "    }\n",
       "\n",
       "    .dataframe thead th {\n",
       "        text-align: right;\n",
       "    }\n",
       "</style>\n",
       "<table border=\"1\" class=\"dataframe\">\n",
       "  <thead>\n",
       "    <tr style=\"text-align: right;\">\n",
       "      <th>source</th>\n",
       "      <th>model</th>\n",
       "      <th>survey</th>\n",
       "    </tr>\n",
       "    <tr>\n",
       "      <th>tmodetp</th>\n",
       "      <th></th>\n",
       "      <th></th>\n",
       "    </tr>\n",
       "  </thead>\n",
       "  <tbody>\n",
       "    <tr>\n",
       "      <th>Bike</th>\n",
       "      <td>2.566291</td>\n",
       "      <td>3.049242</td>\n",
       "    </tr>\n",
       "    <tr>\n",
       "      <th>HOV2</th>\n",
       "      <td>7.843959</td>\n",
       "      <td>6.479523</td>\n",
       "    </tr>\n",
       "    <tr>\n",
       "      <th>HOV3+</th>\n",
       "      <td>7.824987</td>\n",
       "      <td>6.014153</td>\n",
       "    </tr>\n",
       "    <tr>\n",
       "      <th>Park</th>\n",
       "      <td>NaN</td>\n",
       "      <td>19.282414</td>\n",
       "    </tr>\n",
       "    <tr>\n",
       "      <th>SOV</th>\n",
       "      <td>6.638178</td>\n",
       "      <td>5.332477</td>\n",
       "    </tr>\n",
       "    <tr>\n",
       "      <th>TNC</th>\n",
       "      <td>2.025751</td>\n",
       "      <td>4.930529</td>\n",
       "    </tr>\n",
       "    <tr>\n",
       "      <th>Transit</th>\n",
       "      <td>6.732252</td>\n",
       "      <td>6.090867</td>\n",
       "    </tr>\n",
       "    <tr>\n",
       "      <th>Walk</th>\n",
       "      <td>1.179832</td>\n",
       "      <td>0.899835</td>\n",
       "    </tr>\n",
       "  </tbody>\n",
       "</table>\n",
       "</div>"
      ],
      "text/plain": [
       "source      model     survey\n",
       "tmodetp                     \n",
       "Bike     2.566291   3.049242\n",
       "HOV2     7.843959   6.479523\n",
       "HOV3+    7.824987   6.014153\n",
       "Park          NaN  19.282414\n",
       "SOV      6.638178   5.332477\n",
       "TNC      2.025751   4.930529\n",
       "Transit  6.732252   6.090867\n",
       "Walk     1.179832   0.899835"
      ]
     },
     "execution_count": 11,
     "metadata": {},
     "output_type": "execute_result"
    }
   ],
   "source": [
    "dist_by_mode('Personal Business')"
   ]
  },
  {
   "cell_type": "markdown",
   "metadata": {},
   "source": [
    "### Average Shopping Tour Distance by Mode"
   ]
  },
  {
   "cell_type": "code",
   "execution_count": 12,
   "metadata": {
    "execution": {
     "iopub.execute_input": "2021-06-10T22:11:23.834285Z",
     "iopub.status.busy": "2021-06-10T22:11:23.834285Z",
     "iopub.status.idle": "2021-06-10T22:11:23.931033Z",
     "shell.execute_reply": "2021-06-10T22:11:23.931033Z"
    }
   },
   "outputs": [
    {
     "data": {
      "text/html": [
       "<div>\n",
       "<style scoped>\n",
       "    .dataframe tbody tr th:only-of-type {\n",
       "        vertical-align: middle;\n",
       "    }\n",
       "\n",
       "    .dataframe tbody tr th {\n",
       "        vertical-align: top;\n",
       "    }\n",
       "\n",
       "    .dataframe thead th {\n",
       "        text-align: right;\n",
       "    }\n",
       "</style>\n",
       "<table border=\"1\" class=\"dataframe\">\n",
       "  <thead>\n",
       "    <tr style=\"text-align: right;\">\n",
       "      <th>source</th>\n",
       "      <th>model</th>\n",
       "      <th>survey</th>\n",
       "    </tr>\n",
       "    <tr>\n",
       "      <th>tmodetp</th>\n",
       "      <th></th>\n",
       "      <th></th>\n",
       "    </tr>\n",
       "  </thead>\n",
       "  <tbody>\n",
       "    <tr>\n",
       "      <th>Bike</th>\n",
       "      <td>1.978932</td>\n",
       "      <td>0.561337</td>\n",
       "    </tr>\n",
       "    <tr>\n",
       "      <th>HOV2</th>\n",
       "      <td>5.537448</td>\n",
       "      <td>4.915027</td>\n",
       "    </tr>\n",
       "    <tr>\n",
       "      <th>HOV3+</th>\n",
       "      <td>5.672026</td>\n",
       "      <td>6.499530</td>\n",
       "    </tr>\n",
       "    <tr>\n",
       "      <th>Park</th>\n",
       "      <td>NaN</td>\n",
       "      <td>0.500000</td>\n",
       "    </tr>\n",
       "    <tr>\n",
       "      <th>SOV</th>\n",
       "      <td>4.729405</td>\n",
       "      <td>3.756609</td>\n",
       "    </tr>\n",
       "    <tr>\n",
       "      <th>TNC</th>\n",
       "      <td>1.430952</td>\n",
       "      <td>2.642004</td>\n",
       "    </tr>\n",
       "    <tr>\n",
       "      <th>Transit</th>\n",
       "      <td>4.335031</td>\n",
       "      <td>2.258857</td>\n",
       "    </tr>\n",
       "    <tr>\n",
       "      <th>Walk</th>\n",
       "      <td>1.055000</td>\n",
       "      <td>0.630863</td>\n",
       "    </tr>\n",
       "  </tbody>\n",
       "</table>\n",
       "</div>"
      ],
      "text/plain": [
       "source      model    survey\n",
       "tmodetp                    \n",
       "Bike     1.978932  0.561337\n",
       "HOV2     5.537448  4.915027\n",
       "HOV3+    5.672026  6.499530\n",
       "Park          NaN  0.500000\n",
       "SOV      4.729405  3.756609\n",
       "TNC      1.430952  2.642004\n",
       "Transit  4.335031  2.258857\n",
       "Walk     1.055000  0.630863"
      ]
     },
     "execution_count": 12,
     "metadata": {},
     "output_type": "execute_result"
    }
   ],
   "source": [
    "dist_by_mode('Shop')"
   ]
  },
  {
   "cell_type": "markdown",
   "metadata": {},
   "source": [
    "### Average Meal Tour Distance by Mode"
   ]
  },
  {
   "cell_type": "code",
   "execution_count": 13,
   "metadata": {
    "execution": {
     "iopub.execute_input": "2021-06-10T22:11:23.931033Z",
     "iopub.status.busy": "2021-06-10T22:11:23.931033Z",
     "iopub.status.idle": "2021-06-10T22:11:23.993587Z",
     "shell.execute_reply": "2021-06-10T22:11:23.993587Z"
    }
   },
   "outputs": [
    {
     "data": {
      "text/html": [
       "<div>\n",
       "<style scoped>\n",
       "    .dataframe tbody tr th:only-of-type {\n",
       "        vertical-align: middle;\n",
       "    }\n",
       "\n",
       "    .dataframe tbody tr th {\n",
       "        vertical-align: top;\n",
       "    }\n",
       "\n",
       "    .dataframe thead th {\n",
       "        text-align: right;\n",
       "    }\n",
       "</style>\n",
       "<table border=\"1\" class=\"dataframe\">\n",
       "  <thead>\n",
       "    <tr style=\"text-align: right;\">\n",
       "      <th>source</th>\n",
       "      <th>model</th>\n",
       "      <th>survey</th>\n",
       "    </tr>\n",
       "    <tr>\n",
       "      <th>tmodetp</th>\n",
       "      <th></th>\n",
       "      <th></th>\n",
       "    </tr>\n",
       "  </thead>\n",
       "  <tbody>\n",
       "    <tr>\n",
       "      <th>Bike</th>\n",
       "      <td>0.966539</td>\n",
       "      <td>2.683948</td>\n",
       "    </tr>\n",
       "    <tr>\n",
       "      <th>HOV2</th>\n",
       "      <td>8.741753</td>\n",
       "      <td>4.585905</td>\n",
       "    </tr>\n",
       "    <tr>\n",
       "      <th>HOV3+</th>\n",
       "      <td>9.330263</td>\n",
       "      <td>6.294448</td>\n",
       "    </tr>\n",
       "    <tr>\n",
       "      <th>Park</th>\n",
       "      <td>NaN</td>\n",
       "      <td>30.114636</td>\n",
       "    </tr>\n",
       "    <tr>\n",
       "      <th>SOV</th>\n",
       "      <td>4.983511</td>\n",
       "      <td>4.501964</td>\n",
       "    </tr>\n",
       "    <tr>\n",
       "      <th>TNC</th>\n",
       "      <td>1.362860</td>\n",
       "      <td>2.337364</td>\n",
       "    </tr>\n",
       "    <tr>\n",
       "      <th>Transit</th>\n",
       "      <td>5.800043</td>\n",
       "      <td>8.467957</td>\n",
       "    </tr>\n",
       "    <tr>\n",
       "      <th>Walk</th>\n",
       "      <td>0.649389</td>\n",
       "      <td>0.704359</td>\n",
       "    </tr>\n",
       "  </tbody>\n",
       "</table>\n",
       "</div>"
      ],
      "text/plain": [
       "source      model     survey\n",
       "tmodetp                     \n",
       "Bike     0.966539   2.683948\n",
       "HOV2     8.741753   4.585905\n",
       "HOV3+    9.330263   6.294448\n",
       "Park          NaN  30.114636\n",
       "SOV      4.983511   4.501964\n",
       "TNC      1.362860   2.337364\n",
       "Transit  5.800043   8.467957\n",
       "Walk     0.649389   0.704359"
      ]
     },
     "execution_count": 13,
     "metadata": {},
     "output_type": "execute_result"
    }
   ],
   "source": [
    "dist_by_mode('Meal')"
   ]
  },
  {
   "cell_type": "markdown",
   "metadata": {},
   "source": [
    "### Average Social Tour Distance by Mode"
   ]
  },
  {
   "cell_type": "code",
   "execution_count": 14,
   "metadata": {
    "execution": {
     "iopub.execute_input": "2021-06-10T22:11:23.993587Z",
     "iopub.status.busy": "2021-06-10T22:11:23.993587Z",
     "iopub.status.idle": "2021-06-10T22:11:24.071696Z",
     "shell.execute_reply": "2021-06-10T22:11:24.071696Z"
    }
   },
   "outputs": [
    {
     "data": {
      "text/html": [
       "<div>\n",
       "<style scoped>\n",
       "    .dataframe tbody tr th:only-of-type {\n",
       "        vertical-align: middle;\n",
       "    }\n",
       "\n",
       "    .dataframe tbody tr th {\n",
       "        vertical-align: top;\n",
       "    }\n",
       "\n",
       "    .dataframe thead th {\n",
       "        text-align: right;\n",
       "    }\n",
       "</style>\n",
       "<table border=\"1\" class=\"dataframe\">\n",
       "  <thead>\n",
       "    <tr style=\"text-align: right;\">\n",
       "      <th>source</th>\n",
       "      <th>model</th>\n",
       "      <th>survey</th>\n",
       "    </tr>\n",
       "    <tr>\n",
       "      <th>tmodetp</th>\n",
       "      <th></th>\n",
       "      <th></th>\n",
       "    </tr>\n",
       "  </thead>\n",
       "  <tbody>\n",
       "    <tr>\n",
       "      <th>Bike</th>\n",
       "      <td>1.863318</td>\n",
       "      <td>2.334264</td>\n",
       "    </tr>\n",
       "    <tr>\n",
       "      <th>HOV2</th>\n",
       "      <td>6.052325</td>\n",
       "      <td>7.382173</td>\n",
       "    </tr>\n",
       "    <tr>\n",
       "      <th>HOV3+</th>\n",
       "      <td>6.041794</td>\n",
       "      <td>4.983953</td>\n",
       "    </tr>\n",
       "    <tr>\n",
       "      <th>Park</th>\n",
       "      <td>NaN</td>\n",
       "      <td>54.147252</td>\n",
       "    </tr>\n",
       "    <tr>\n",
       "      <th>SOV</th>\n",
       "      <td>5.373107</td>\n",
       "      <td>5.652026</td>\n",
       "    </tr>\n",
       "    <tr>\n",
       "      <th>TNC</th>\n",
       "      <td>1.397893</td>\n",
       "      <td>3.019705</td>\n",
       "    </tr>\n",
       "    <tr>\n",
       "      <th>Transit</th>\n",
       "      <td>5.075298</td>\n",
       "      <td>11.227402</td>\n",
       "    </tr>\n",
       "    <tr>\n",
       "      <th>Walk</th>\n",
       "      <td>0.953946</td>\n",
       "      <td>0.882807</td>\n",
       "    </tr>\n",
       "  </tbody>\n",
       "</table>\n",
       "</div>"
      ],
      "text/plain": [
       "source      model     survey\n",
       "tmodetp                     \n",
       "Bike     1.863318   2.334264\n",
       "HOV2     6.052325   7.382173\n",
       "HOV3+    6.041794   4.983953\n",
       "Park          NaN  54.147252\n",
       "SOV      5.373107   5.652026\n",
       "TNC      1.397893   3.019705\n",
       "Transit  5.075298  11.227402\n",
       "Walk     0.953946   0.882807"
      ]
     },
     "execution_count": 14,
     "metadata": {},
     "output_type": "execute_result"
    }
   ],
   "source": [
    "dist_by_mode('Social')"
   ]
  },
  {
   "cell_type": "markdown",
   "metadata": {},
   "source": [
    "### Average Escort Tour Distance by Mode"
   ]
  },
  {
   "cell_type": "code",
   "execution_count": 15,
   "metadata": {
    "execution": {
     "iopub.execute_input": "2021-06-10T22:11:24.071696Z",
     "iopub.status.busy": "2021-06-10T22:11:24.071696Z",
     "iopub.status.idle": "2021-06-10T22:11:24.165422Z",
     "shell.execute_reply": "2021-06-10T22:11:24.165422Z"
    }
   },
   "outputs": [
    {
     "data": {
      "text/html": [
       "<div>\n",
       "<style scoped>\n",
       "    .dataframe tbody tr th:only-of-type {\n",
       "        vertical-align: middle;\n",
       "    }\n",
       "\n",
       "    .dataframe tbody tr th {\n",
       "        vertical-align: top;\n",
       "    }\n",
       "\n",
       "    .dataframe thead th {\n",
       "        text-align: right;\n",
       "    }\n",
       "</style>\n",
       "<table border=\"1\" class=\"dataframe\">\n",
       "  <thead>\n",
       "    <tr style=\"text-align: right;\">\n",
       "      <th>source</th>\n",
       "      <th>model</th>\n",
       "      <th>survey</th>\n",
       "    </tr>\n",
       "    <tr>\n",
       "      <th>tmodetp</th>\n",
       "      <th></th>\n",
       "      <th></th>\n",
       "    </tr>\n",
       "  </thead>\n",
       "  <tbody>\n",
       "    <tr>\n",
       "      <th>Bike</th>\n",
       "      <td>8.631890</td>\n",
       "      <td>0.647842</td>\n",
       "    </tr>\n",
       "    <tr>\n",
       "      <th>HOV2</th>\n",
       "      <td>6.567642</td>\n",
       "      <td>4.363578</td>\n",
       "    </tr>\n",
       "    <tr>\n",
       "      <th>HOV3+</th>\n",
       "      <td>7.158640</td>\n",
       "      <td>3.749272</td>\n",
       "    </tr>\n",
       "    <tr>\n",
       "      <th>SOV</th>\n",
       "      <td>21.932969</td>\n",
       "      <td>3.974768</td>\n",
       "    </tr>\n",
       "    <tr>\n",
       "      <th>TNC</th>\n",
       "      <td>1.617702</td>\n",
       "      <td>0.500000</td>\n",
       "    </tr>\n",
       "    <tr>\n",
       "      <th>Transit</th>\n",
       "      <td>2.364706</td>\n",
       "      <td>2.256245</td>\n",
       "    </tr>\n",
       "    <tr>\n",
       "      <th>Walk</th>\n",
       "      <td>0.972597</td>\n",
       "      <td>0.552118</td>\n",
       "    </tr>\n",
       "  </tbody>\n",
       "</table>\n",
       "</div>"
      ],
      "text/plain": [
       "source       model    survey\n",
       "tmodetp                     \n",
       "Bike      8.631890  0.647842\n",
       "HOV2      6.567642  4.363578\n",
       "HOV3+     7.158640  3.749272\n",
       "SOV      21.932969  3.974768\n",
       "TNC       1.617702  0.500000\n",
       "Transit   2.364706  2.256245\n",
       "Walk      0.972597  0.552118"
      ]
     },
     "execution_count": 15,
     "metadata": {},
     "output_type": "execute_result"
    }
   ],
   "source": [
    "dist_by_mode('Escort')"
   ]
  },
  {
   "cell_type": "markdown",
   "metadata": {},
   "source": [
    "Survey Sample Size Reference by Mode and Purpose"
   ]
  },
  {
   "cell_type": "code",
   "execution_count": 16,
   "metadata": {
    "execution": {
     "iopub.execute_input": "2021-06-10T22:11:24.165422Z",
     "iopub.status.busy": "2021-06-10T22:11:24.165422Z",
     "iopub.status.idle": "2021-06-10T22:11:24.368501Z",
     "shell.execute_reply": "2021-06-10T22:11:24.368501Z"
    }
   },
   "outputs": [],
   "source": [
    "# Survey Sample size\n",
    "df_tour_survey = pd.read_csv(r'inputs/base_year/survey/_tour.tsv', delim_whitespace=True)"
   ]
  },
  {
   "cell_type": "code",
   "execution_count": 17,
   "metadata": {
    "execution": {
     "iopub.execute_input": "2021-06-10T22:11:24.384123Z",
     "iopub.status.busy": "2021-06-10T22:11:24.384123Z",
     "iopub.status.idle": "2021-06-10T22:11:24.399743Z",
     "shell.execute_reply": "2021-06-10T22:11:24.399743Z"
    }
   },
   "outputs": [
    {
     "data": {
      "text/html": [
       "<div>\n",
       "<style scoped>\n",
       "    .dataframe tbody tr th:only-of-type {\n",
       "        vertical-align: middle;\n",
       "    }\n",
       "\n",
       "    .dataframe tbody tr th {\n",
       "        vertical-align: top;\n",
       "    }\n",
       "\n",
       "    .dataframe thead th {\n",
       "        text-align: right;\n",
       "    }\n",
       "</style>\n",
       "<table border=\"1\" class=\"dataframe\">\n",
       "  <thead>\n",
       "    <tr style=\"text-align: right;\">\n",
       "      <th>pdpurp</th>\n",
       "      <th>1</th>\n",
       "      <th>2</th>\n",
       "      <th>3</th>\n",
       "      <th>4</th>\n",
       "      <th>5</th>\n",
       "      <th>6</th>\n",
       "      <th>7</th>\n",
       "      <th>10</th>\n",
       "    </tr>\n",
       "    <tr>\n",
       "      <th>tmodetp</th>\n",
       "      <th></th>\n",
       "      <th></th>\n",
       "      <th></th>\n",
       "      <th></th>\n",
       "      <th></th>\n",
       "      <th></th>\n",
       "      <th></th>\n",
       "      <th></th>\n",
       "    </tr>\n",
       "  </thead>\n",
       "  <tbody>\n",
       "    <tr>\n",
       "      <th>1</th>\n",
       "      <td>889.0</td>\n",
       "      <td>189.0</td>\n",
       "      <td>158.0</td>\n",
       "      <td>375.0</td>\n",
       "      <td>631.0</td>\n",
       "      <td>811.0</td>\n",
       "      <td>1613.0</td>\n",
       "      <td>NaN</td>\n",
       "    </tr>\n",
       "    <tr>\n",
       "      <th>2</th>\n",
       "      <td>234.0</td>\n",
       "      <td>38.0</td>\n",
       "      <td>8.0</td>\n",
       "      <td>19.0</td>\n",
       "      <td>19.0</td>\n",
       "      <td>19.0</td>\n",
       "      <td>81.0</td>\n",
       "      <td>NaN</td>\n",
       "    </tr>\n",
       "    <tr>\n",
       "      <th>3</th>\n",
       "      <td>3215.0</td>\n",
       "      <td>114.0</td>\n",
       "      <td>43.0</td>\n",
       "      <td>890.0</td>\n",
       "      <td>820.0</td>\n",
       "      <td>352.0</td>\n",
       "      <td>937.0</td>\n",
       "      <td>1.0</td>\n",
       "    </tr>\n",
       "    <tr>\n",
       "      <th>4</th>\n",
       "      <td>945.0</td>\n",
       "      <td>284.0</td>\n",
       "      <td>637.0</td>\n",
       "      <td>560.0</td>\n",
       "      <td>587.0</td>\n",
       "      <td>373.0</td>\n",
       "      <td>743.0</td>\n",
       "      <td>NaN</td>\n",
       "    </tr>\n",
       "    <tr>\n",
       "      <th>5</th>\n",
       "      <td>455.0</td>\n",
       "      <td>442.0</td>\n",
       "      <td>477.0</td>\n",
       "      <td>336.0</td>\n",
       "      <td>287.0</td>\n",
       "      <td>246.0</td>\n",
       "      <td>659.0</td>\n",
       "      <td>1.0</td>\n",
       "    </tr>\n",
       "    <tr>\n",
       "      <th>6</th>\n",
       "      <td>2293.0</td>\n",
       "      <td>257.0</td>\n",
       "      <td>26.0</td>\n",
       "      <td>253.0</td>\n",
       "      <td>146.0</td>\n",
       "      <td>115.0</td>\n",
       "      <td>314.0</td>\n",
       "      <td>1.0</td>\n",
       "    </tr>\n",
       "    <tr>\n",
       "      <th>7</th>\n",
       "      <td>101.0</td>\n",
       "      <td>2.0</td>\n",
       "      <td>NaN</td>\n",
       "      <td>7.0</td>\n",
       "      <td>1.0</td>\n",
       "      <td>4.0</td>\n",
       "      <td>10.0</td>\n",
       "      <td>NaN</td>\n",
       "    </tr>\n",
       "    <tr>\n",
       "      <th>8</th>\n",
       "      <td>9.0</td>\n",
       "      <td>253.0</td>\n",
       "      <td>1.0</td>\n",
       "      <td>20.0</td>\n",
       "      <td>NaN</td>\n",
       "      <td>NaN</td>\n",
       "      <td>7.0</td>\n",
       "      <td>NaN</td>\n",
       "    </tr>\n",
       "    <tr>\n",
       "      <th>9</th>\n",
       "      <td>119.0</td>\n",
       "      <td>12.0</td>\n",
       "      <td>1.0</td>\n",
       "      <td>29.0</td>\n",
       "      <td>6.0</td>\n",
       "      <td>42.0</td>\n",
       "      <td>49.0</td>\n",
       "      <td>NaN</td>\n",
       "    </tr>\n",
       "    <tr>\n",
       "      <th>10</th>\n",
       "      <td>128.0</td>\n",
       "      <td>27.0</td>\n",
       "      <td>8.0</td>\n",
       "      <td>32.0</td>\n",
       "      <td>17.0</td>\n",
       "      <td>11.0</td>\n",
       "      <td>47.0</td>\n",
       "      <td>NaN</td>\n",
       "    </tr>\n",
       "  </tbody>\n",
       "</table>\n",
       "</div>"
      ],
      "text/plain": [
       "pdpurp       1      2      3      4      5      6       7    10\n",
       "tmodetp                                                        \n",
       "1         889.0  189.0  158.0  375.0  631.0  811.0  1613.0  NaN\n",
       "2         234.0   38.0    8.0   19.0   19.0   19.0    81.0  NaN\n",
       "3        3215.0  114.0   43.0  890.0  820.0  352.0   937.0  1.0\n",
       "4         945.0  284.0  637.0  560.0  587.0  373.0   743.0  NaN\n",
       "5         455.0  442.0  477.0  336.0  287.0  246.0   659.0  1.0\n",
       "6        2293.0  257.0   26.0  253.0  146.0  115.0   314.0  1.0\n",
       "7         101.0    2.0    NaN    7.0    1.0    4.0    10.0  NaN\n",
       "8           9.0  253.0    1.0   20.0    NaN    NaN     7.0  NaN\n",
       "9         119.0   12.0    1.0   29.0    6.0   42.0    49.0  NaN\n",
       "10        128.0   27.0    8.0   32.0   17.0   11.0    47.0  NaN"
      ]
     },
     "execution_count": 17,
     "metadata": {},
     "output_type": "execute_result"
    }
   ],
   "source": [
    "df_tour_survey.pivot_table(index='tmodetp',columns='pdpurp', values='toexpfac', aggfunc='count')"
   ]
  },
  {
   "cell_type": "markdown",
   "metadata": {},
   "source": [
    "# Work Tour Distance by Worker Type"
   ]
  },
  {
   "cell_type": "code",
   "execution_count": 18,
   "metadata": {
    "execution": {
     "iopub.execute_input": "2021-06-10T22:11:24.415363Z",
     "iopub.status.busy": "2021-06-10T22:11:24.415363Z",
     "iopub.status.idle": "2021-06-10T22:11:24.509132Z",
     "shell.execute_reply": "2021-06-10T22:11:24.509132Z"
    }
   },
   "outputs": [
    {
     "data": {
      "text/html": [
       "<div>\n",
       "<style scoped>\n",
       "    .dataframe tbody tr th:only-of-type {\n",
       "        vertical-align: middle;\n",
       "    }\n",
       "\n",
       "    .dataframe tbody tr th {\n",
       "        vertical-align: top;\n",
       "    }\n",
       "\n",
       "    .dataframe thead th {\n",
       "        text-align: right;\n",
       "    }\n",
       "</style>\n",
       "<table border=\"1\" class=\"dataframe\">\n",
       "  <thead>\n",
       "    <tr style=\"text-align: right;\">\n",
       "      <th>source</th>\n",
       "      <th>Person Type</th>\n",
       "      <th>model</th>\n",
       "      <th>survey</th>\n",
       "    </tr>\n",
       "  </thead>\n",
       "  <tbody>\n",
       "    <tr>\n",
       "      <th>0</th>\n",
       "      <td>Full-Time Worker</td>\n",
       "      <td>12.318704</td>\n",
       "      <td>12.146355</td>\n",
       "    </tr>\n",
       "    <tr>\n",
       "      <th>1</th>\n",
       "      <td>Part-Time Worker</td>\n",
       "      <td>9.045174</td>\n",
       "      <td>7.607614</td>\n",
       "    </tr>\n",
       "    <tr>\n",
       "      <th>2</th>\n",
       "      <td>University Student</td>\n",
       "      <td>9.813586</td>\n",
       "      <td>9.322525</td>\n",
       "    </tr>\n",
       "  </tbody>\n",
       "</table>\n",
       "</div>"
      ],
      "text/plain": [
       "source         Person Type      model     survey\n",
       "0         Full-Time Worker  12.318704  12.146355\n",
       "1         Part-Time Worker   9.045174   7.607614\n",
       "2       University Student   9.813586   9.322525"
      ]
     },
     "execution_count": 18,
     "metadata": {},
     "output_type": "execute_result"
    }
   ],
   "source": [
    "df = load_data('tour_distance')\n",
    "# Trim any unreasonable survey distances off by taking max distance as max modeled bin value\n",
    "max_model_dist = df.loc[(df['source']=='model'), 'tautodist_bin'].max()\n",
    "df = df.loc[df['tautodist_bin'] <= max_model_dist]\n",
    "df['wt_autodist'] = (df['tautodist_bin']+0.5)*(df['toexpfac'])\n",
    "df_dist = pd.DataFrame()\n",
    "for source in ['model','survey']:\n",
    "    _df = df[(df['source'] == source) & \n",
    "             (df['pdpurp'] == 'Work') & \n",
    "             (df['pptyp'].isin(['Full-Time Worker','Part-Time Worker','University Student']))]\n",
    "    df1 = _df.groupby('pptyp').sum()[['wt_autodist']].reset_index()\n",
    "    df2 = _df.groupby('pptyp').sum()[['toexpfac']].reset_index()\n",
    "    _df = df1.merge(df2, on='pptyp')\n",
    "    _df['commute_distance'] = _df['wt_autodist']/_df['toexpfac']\n",
    "    _df['source'] = source\n",
    "    df_dist = df_dist.append(_df)\n",
    "df = df_dist.pivot_table(index='pptyp', columns='source', aggfunc='first', values='commute_distance').reset_index()\n",
    "df.rename(columns={'pptyp': 'Person Type'}, inplace=True)\n",
    "df"
   ]
  }
 ],
 "metadata": {
  "kernelspec": {
   "display_name": "Python 3",
   "language": "python",
   "name": "python3"
  },
  "language_info": {
   "codemirror_mode": {
    "name": "ipython",
    "version": 3
   },
   "file_extension": ".py",
   "mimetype": "text/x-python",
   "name": "python",
   "nbconvert_exporter": "python",
   "pygments_lexer": "ipython3",
   "version": "3.7.10"
  }
 },
 "nbformat": 4,
 "nbformat_minor": 4
}
