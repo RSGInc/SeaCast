{
 "cells": [
  {
   "cell_type": "code",
   "execution_count": 1,
   "metadata": {
    "execution": {
     "iopub.execute_input": "2021-06-10T22:11:28.077187Z",
     "iopub.status.busy": "2021-06-10T22:11:28.077187Z",
     "iopub.status.idle": "2021-06-10T22:11:28.983041Z",
     "shell.execute_reply": "2021-06-10T22:11:28.983041Z"
    }
   },
   "outputs": [],
   "source": [
    "import pandas as pd\n",
    "import os, sys\n",
    "%matplotlib inline\n",
    "\n",
    "from IPython.display import display, HTML\n",
    "\n",
    "if (sys.version_info < (3, 0)):\n",
    "    HTML('''<script>\n",
    "    code_show=true; \n",
    "    function code_toggle() {\n",
    "     if (code_show){\n",
    "     $('div.input').hide();\n",
    "     } else {\n",
    "     $('div.input').show();\n",
    "     }\n",
    "     code_show = !code_show\n",
    "    } \n",
    "    $( document ).ready(code_toggle);\n",
    "    </script>\n",
    "    <form action=\"javascript:code_toggle()\"><input type=\"submit\" value=\"Click here to toggle on/off the raw code.\"></form>''')\n"
   ]
  },
  {
   "cell_type": "code",
   "execution_count": 2,
   "metadata": {
    "execution": {
     "iopub.execute_input": "2021-06-10T22:11:28.983041Z",
     "iopub.status.busy": "2021-06-10T22:11:28.983041Z",
     "iopub.status.idle": "2021-06-10T22:11:28.998664Z",
     "shell.execute_reply": "2021-06-10T22:11:28.998664Z"
    }
   },
   "outputs": [],
   "source": [
    "working_dir = r'../../../../outputs/agg/dash'\n",
    "fname = 'tour_purpose_mode'\n",
    "index_map = {0:'Other',1:'City of SeTac'}"
   ]
  },
  {
   "cell_type": "code",
   "execution_count": 3,
   "metadata": {
    "execution": {
     "iopub.execute_input": "2021-06-10T22:11:28.998664Z",
     "iopub.status.busy": "2021-06-10T22:11:28.998664Z",
     "iopub.status.idle": "2021-06-10T22:11:29.014286Z",
     "shell.execute_reply": "2021-06-10T22:11:29.014286Z"
    }
   },
   "outputs": [],
   "source": [
    "def load_data(fname):\n",
    "    \"\"\" open and join model and survey data \"\"\"\n",
    "\n",
    "    df_model = pd.read_csv(os.path.join(working_dir,fname+'.csv'))\n",
    "    df_model['source'] = 'model'\n",
    "    df_survey = pd.read_csv(os.path.join(working_dir,'survey',fname+'.csv'))\n",
    "    df_survey['source'] = 'survey'\n",
    "    df = df_model.append(df_survey)\n",
    "\n",
    "    return df"
   ]
  },
  {
   "cell_type": "markdown",
   "metadata": {},
   "source": [
    "# Primary Tour Mode Share"
   ]
  },
  {
   "cell_type": "code",
   "execution_count": 4,
   "metadata": {
    "execution": {
     "iopub.execute_input": "2021-06-10T22:11:29.029905Z",
     "iopub.status.busy": "2021-06-10T22:11:29.014286Z",
     "iopub.status.idle": "2021-06-10T22:11:29.108026Z",
     "shell.execute_reply": "2021-06-10T22:11:29.108026Z"
    }
   },
   "outputs": [
    {
     "data": {
      "text/html": [
       "<div>\n",
       "<style scoped>\n",
       "    .dataframe tbody tr th:only-of-type {\n",
       "        vertical-align: middle;\n",
       "    }\n",
       "\n",
       "    .dataframe tbody tr th {\n",
       "        vertical-align: top;\n",
       "    }\n",
       "\n",
       "    .dataframe thead th {\n",
       "        text-align: right;\n",
       "    }\n",
       "</style>\n",
       "<table border=\"1\" class=\"dataframe\">\n",
       "  <thead>\n",
       "    <tr style=\"text-align: right;\">\n",
       "      <th></th>\n",
       "      <th>Model</th>\n",
       "      <th>Survey</th>\n",
       "    </tr>\n",
       "    <tr>\n",
       "      <th>Tour Mode</th>\n",
       "      <th></th>\n",
       "      <th></th>\n",
       "    </tr>\n",
       "  </thead>\n",
       "  <tbody>\n",
       "    <tr>\n",
       "      <th>Bike</th>\n",
       "      <td>1.3%</td>\n",
       "      <td>0.7%</td>\n",
       "    </tr>\n",
       "    <tr>\n",
       "      <th>HOV2</th>\n",
       "      <td>24.0%</td>\n",
       "      <td>22.8%</td>\n",
       "    </tr>\n",
       "    <tr>\n",
       "      <th>HOV3+</th>\n",
       "      <td>21.2%</td>\n",
       "      <td>24.4%</td>\n",
       "    </tr>\n",
       "    <tr>\n",
       "      <th>Park</th>\n",
       "      <td>0.6%</td>\n",
       "      <td>0.6%</td>\n",
       "    </tr>\n",
       "    <tr>\n",
       "      <th>SOV</th>\n",
       "      <td>34.7%</td>\n",
       "      <td>32.7%</td>\n",
       "    </tr>\n",
       "    <tr>\n",
       "      <th>School Bus</th>\n",
       "      <td>3.0%</td>\n",
       "      <td>2.4%</td>\n",
       "    </tr>\n",
       "    <tr>\n",
       "      <th>TNC</th>\n",
       "      <td>1.5%</td>\n",
       "      <td>0.4%</td>\n",
       "    </tr>\n",
       "    <tr>\n",
       "      <th>Transit</th>\n",
       "      <td>3.6%</td>\n",
       "      <td>5.7%</td>\n",
       "    </tr>\n",
       "    <tr>\n",
       "      <th>Walk</th>\n",
       "      <td>10.0%</td>\n",
       "      <td>9.6%</td>\n",
       "    </tr>\n",
       "  </tbody>\n",
       "</table>\n",
       "</div>"
      ],
      "text/plain": [
       "             Model   Survey\n",
       "Tour Mode                  \n",
       "Bike          1.3%     0.7%\n",
       "HOV2         24.0%    22.8%\n",
       "HOV3+        21.2%    24.4%\n",
       "Park          0.6%     0.6%\n",
       "SOV          34.7%    32.7%\n",
       "School Bus    3.0%     2.4%\n",
       "TNC           1.5%     0.4%\n",
       "Transit       3.6%     5.7%\n",
       "Walk         10.0%     9.6%"
      ]
     },
     "execution_count": 4,
     "metadata": {},
     "output_type": "execute_result"
    }
   ],
   "source": [
    "pd.options.display.float_format = '{:,.1%}'.format\n",
    "\n",
    "df_model = pd.read_csv(os.path.join(working_dir,fname+'.csv'))\n",
    "df_survey = pd.read_csv(os.path.join(working_dir,'survey',fname+'.csv'))\n",
    "df_model = (df_model.groupby('tmodetp').sum()[['toexpfac']]/df_model['toexpfac'].sum()).reset_index()\n",
    "df_survey = (df_survey.groupby('tmodetp').sum()[['toexpfac']]/df_survey['toexpfac'].sum()).reset_index()\n",
    "df = df_model.merge(df_survey, on='tmodetp', suffixes=['_model','_survey'], how = 'outer')\n",
    "df.columns = ['Tour Mode',' Model',' Survey']\n",
    "df.index = df['Tour Mode']\n",
    "df.drop('Tour Mode', axis=1, inplace=True)\n",
    "df"
   ]
  },
  {
   "cell_type": "code",
   "execution_count": 5,
   "metadata": {
    "execution": {
     "iopub.execute_input": "2021-06-10T22:11:29.108026Z",
     "iopub.status.busy": "2021-06-10T22:11:29.108026Z",
     "iopub.status.idle": "2021-06-10T22:11:29.373576Z",
     "shell.execute_reply": "2021-06-10T22:11:29.373576Z"
    }
   },
   "outputs": [
    {
     "data": {
      "text/plain": [
       "<AxesSubplot:ylabel='Tour Mode'>"
      ]
     },
     "execution_count": 5,
     "metadata": {},
     "output_type": "execute_result"
    },
    {
     "data": {
      "image/png": "[encoded data removed]",
      "text/plain": [
       "<Figure size 432x288 with 1 Axes>"
      ]
     },
     "metadata": {
      "needs_background": "light"
     },
     "output_type": "display_data"
    }
   ],
   "source": [
    "df.plot(kind='barh', alpha=0.6)"
   ]
  },
  {
   "cell_type": "markdown",
   "metadata": {},
   "source": [
    "# Primary Tour Mode Share - City of SeaTac"
   ]
  },
  {
   "cell_type": "code",
   "execution_count": 6,
   "metadata": {},
   "outputs": [
    {
     "data": {
      "text/html": [
       "<div>\n",
       "<style scoped>\n",
       "    .dataframe tbody tr th:only-of-type {\n",
       "        vertical-align: middle;\n",
       "    }\n",
       "\n",
       "    .dataframe tbody tr th {\n",
       "        vertical-align: top;\n",
       "    }\n",
       "\n",
       "    .dataframe thead th {\n",
       "        text-align: right;\n",
       "    }\n",
       "</style>\n",
       "<table border=\"1\" class=\"dataframe\">\n",
       "  <thead>\n",
       "    <tr style=\"text-align: right;\">\n",
       "      <th></th>\n",
       "      <th>Model</th>\n",
       "      <th>Survey</th>\n",
       "    </tr>\n",
       "    <tr>\n",
       "      <th>Tour Mode</th>\n",
       "      <th></th>\n",
       "      <th></th>\n",
       "    </tr>\n",
       "  </thead>\n",
       "  <tbody>\n",
       "    <tr>\n",
       "      <th>Bike</th>\n",
       "      <td>1.1%</td>\n",
       "      <td>6.3%</td>\n",
       "    </tr>\n",
       "    <tr>\n",
       "      <th>HOV2</th>\n",
       "      <td>24.6%</td>\n",
       "      <td>48.8%</td>\n",
       "    </tr>\n",
       "    <tr>\n",
       "      <th>HOV3+</th>\n",
       "      <td>23.6%</td>\n",
       "      <td>8.2%</td>\n",
       "    </tr>\n",
       "    <tr>\n",
       "      <th>Park</th>\n",
       "      <td>0.5%</td>\n",
       "      <td>0.0%</td>\n",
       "    </tr>\n",
       "    <tr>\n",
       "      <th>SOV</th>\n",
       "      <td>33.0%</td>\n",
       "      <td>21.5%</td>\n",
       "    </tr>\n",
       "    <tr>\n",
       "      <th>School Bus</th>\n",
       "      <td>3.1%</td>\n",
       "      <td>NaN</td>\n",
       "    </tr>\n",
       "    <tr>\n",
       "      <th>TNC</th>\n",
       "      <td>1.3%</td>\n",
       "      <td>NaN</td>\n",
       "    </tr>\n",
       "    <tr>\n",
       "      <th>Transit</th>\n",
       "      <td>5.9%</td>\n",
       "      <td>12.3%</td>\n",
       "    </tr>\n",
       "    <tr>\n",
       "      <th>Walk</th>\n",
       "      <td>6.8%</td>\n",
       "      <td>2.8%</td>\n",
       "    </tr>\n",
       "  </tbody>\n",
       "</table>\n",
       "</div>"
      ],
      "text/plain": [
       "             Model   Survey\n",
       "Tour Mode                  \n",
       "Bike          1.1%     6.3%\n",
       "HOV2         24.6%    48.8%\n",
       "HOV3+        23.6%     8.2%\n",
       "Park          0.5%     0.0%\n",
       "SOV          33.0%    21.5%\n",
       "School Bus    3.1%      NaN\n",
       "TNC           1.3%      NaN\n",
       "Transit       5.9%    12.3%\n",
       "Walk          6.8%     2.8%"
      ]
     },
     "execution_count": 6,
     "metadata": {},
     "output_type": "execute_result"
    }
   ],
   "source": [
    "df_model_seatac = pd.read_csv(os.path.join(working_dir,fname+'.csv'))\n",
    "df_survey_seatac = pd.read_csv(os.path.join(working_dir,'survey',fname+'.csv'))\n",
    "\n",
    "df_model_seatac = df_model_seatac[df_model_seatac['person_subarea'] == 1]\n",
    "df_survey_seatac = df_survey_seatac[df_survey_seatac['person_subarea'] == 1]\n",
    "\n",
    "df_model_seatac = (df_model_seatac.groupby('tmodetp').sum()[['toexpfac']]/df_model_seatac['toexpfac'].sum()).reset_index()\n",
    "df_survey_seatac = (df_survey_seatac.groupby('tmodetp').sum()[['toexpfac']]/df_survey_seatac['toexpfac'].sum()).reset_index()\n",
    "df = df_model_seatac.merge(df_survey_seatac, on='tmodetp', suffixes=['_model','_survey'], how = 'outer')\n",
    "df.columns = ['Tour Mode',' Model',' Survey']\n",
    "df.index = df['Tour Mode']\n",
    "df.drop('Tour Mode', axis=1, inplace=True)\n",
    "df"
   ]
  },
  {
   "cell_type": "code",
   "execution_count": 7,
   "metadata": {},
   "outputs": [
    {
     "data": {
      "text/plain": [
       "<AxesSubplot:ylabel='Tour Mode'>"
      ]
     },
     "execution_count": 7,
     "metadata": {},
     "output_type": "execute_result"
    },
    {
     "data": {
      "image/png": "[encoded data removed]",
      "text/plain": [
       "<Figure size 432x288 with 1 Axes>"
      ]
     },
     "metadata": {
      "needs_background": "light"
     },
     "output_type": "display_data"
    }
   ],
   "source": [
    "df.plot(kind='barh', alpha=0.6)"
   ]
  },
  {
   "cell_type": "markdown",
   "metadata": {},
   "source": [
    "# Work Tour Mode Share"
   ]
  },
  {
   "cell_type": "code",
   "execution_count": 8,
   "metadata": {
    "execution": {
     "iopub.execute_input": "2021-06-10T22:11:29.389195Z",
     "iopub.status.busy": "2021-06-10T22:11:29.389195Z",
     "iopub.status.idle": "2021-06-10T22:11:29.467302Z",
     "shell.execute_reply": "2021-06-10T22:11:29.467302Z"
    }
   },
   "outputs": [
    {
     "data": {
      "text/html": [
       "<div>\n",
       "<style scoped>\n",
       "    .dataframe tbody tr th:only-of-type {\n",
       "        vertical-align: middle;\n",
       "    }\n",
       "\n",
       "    .dataframe tbody tr th {\n",
       "        vertical-align: top;\n",
       "    }\n",
       "\n",
       "    .dataframe thead th {\n",
       "        text-align: right;\n",
       "    }\n",
       "</style>\n",
       "<table border=\"1\" class=\"dataframe\">\n",
       "  <thead>\n",
       "    <tr style=\"text-align: right;\">\n",
       "      <th></th>\n",
       "      <th>Model</th>\n",
       "      <th>Survey</th>\n",
       "    </tr>\n",
       "    <tr>\n",
       "      <th>Tour Mode</th>\n",
       "      <th></th>\n",
       "      <th></th>\n",
       "    </tr>\n",
       "  </thead>\n",
       "  <tbody>\n",
       "    <tr>\n",
       "      <th>Bike</th>\n",
       "      <td>1.4%</td>\n",
       "      <td>1.0%</td>\n",
       "    </tr>\n",
       "    <tr>\n",
       "      <th>HOV2</th>\n",
       "      <td>16.0%</td>\n",
       "      <td>14.0%</td>\n",
       "    </tr>\n",
       "    <tr>\n",
       "      <th>HOV3+</th>\n",
       "      <td>8.0%</td>\n",
       "      <td>10.4%</td>\n",
       "    </tr>\n",
       "    <tr>\n",
       "      <th>Park</th>\n",
       "      <td>2.3%</td>\n",
       "      <td>1.6%</td>\n",
       "    </tr>\n",
       "    <tr>\n",
       "      <th>SOV</th>\n",
       "      <td>60.2%</td>\n",
       "      <td>56.2%</td>\n",
       "    </tr>\n",
       "    <tr>\n",
       "      <th>TNC</th>\n",
       "      <td>1.0%</td>\n",
       "      <td>0.6%</td>\n",
       "    </tr>\n",
       "    <tr>\n",
       "      <th>Transit</th>\n",
       "      <td>7.2%</td>\n",
       "      <td>11.0%</td>\n",
       "    </tr>\n",
       "    <tr>\n",
       "      <th>Walk</th>\n",
       "      <td>4.0%</td>\n",
       "      <td>4.5%</td>\n",
       "    </tr>\n",
       "    <tr>\n",
       "      <th>School Bus</th>\n",
       "      <td>NaN</td>\n",
       "      <td>0.0%</td>\n",
       "    </tr>\n",
       "  </tbody>\n",
       "</table>\n",
       "</div>"
      ],
      "text/plain": [
       "             Model   Survey\n",
       "Tour Mode                  \n",
       "Bike          1.4%     1.0%\n",
       "HOV2         16.0%    14.0%\n",
       "HOV3+         8.0%    10.4%\n",
       "Park          2.3%     1.6%\n",
       "SOV          60.2%    56.2%\n",
       "TNC           1.0%     0.6%\n",
       "Transit       7.2%    11.0%\n",
       "Walk          4.0%     4.5%\n",
       "School Bus     NaN     0.0%"
      ]
     },
     "execution_count": 8,
     "metadata": {},
     "output_type": "execute_result"
    }
   ],
   "source": [
    "pd.options.display.float_format = '{:,.1%}'.format\n",
    "\n",
    "df_model = pd.read_csv(os.path.join(working_dir,fname+'.csv'))\n",
    "df_survey = pd.read_csv(os.path.join(working_dir,'survey',fname+'.csv'))\n",
    "df_model = df_model[df_model['pdpurp'] == 'Work']\n",
    "df_survey = df_survey[df_survey['pdpurp'] == 'Work']\n",
    "df_model = (df_model.groupby('tmodetp').sum()[['toexpfac']]/df_model['toexpfac'].sum()).reset_index()\n",
    "df_survey = (df_survey.groupby('tmodetp').sum()[['toexpfac']]/df_survey['toexpfac'].sum()).reset_index()\n",
    "df = df_model.merge(df_survey, on='tmodetp', suffixes=['_model','_survey'], how = 'outer')\n",
    "df.columns = ['Tour Mode',' Model',' Survey']\n",
    "df.index = df['Tour Mode']\n",
    "df.drop('Tour Mode', axis=1, inplace=True)\n",
    "df"
   ]
  },
  {
   "cell_type": "code",
   "execution_count": 9,
   "metadata": {
    "execution": {
     "iopub.execute_input": "2021-06-10T22:11:29.498546Z",
     "iopub.status.busy": "2021-06-10T22:11:29.498546Z",
     "iopub.status.idle": "2021-06-10T22:11:29.686002Z",
     "shell.execute_reply": "2021-06-10T22:11:29.686002Z"
    }
   },
   "outputs": [
    {
     "data": {
      "text/plain": [
       "<AxesSubplot:ylabel='Tour Mode'>"
      ]
     },
     "execution_count": 9,
     "metadata": {},
     "output_type": "execute_result"
    },
    {
     "data": {
      "image/png": "[encoded data removed]",
      "text/plain": [
       "<Figure size 432x288 with 1 Axes>"
      ]
     },
     "metadata": {
      "needs_background": "light"
     },
     "output_type": "display_data"
    }
   ],
   "source": [
    "df.plot(kind='barh', alpha=0.6)"
   ]
  },
  {
   "cell_type": "markdown",
   "metadata": {},
   "source": [
    "# Work Tour Mode Share - City of SeaTac"
   ]
  },
  {
   "cell_type": "code",
   "execution_count": 10,
   "metadata": {},
   "outputs": [
    {
     "data": {
      "text/html": [
       "<div>\n",
       "<style scoped>\n",
       "    .dataframe tbody tr th:only-of-type {\n",
       "        vertical-align: middle;\n",
       "    }\n",
       "\n",
       "    .dataframe tbody tr th {\n",
       "        vertical-align: top;\n",
       "    }\n",
       "\n",
       "    .dataframe thead th {\n",
       "        text-align: right;\n",
       "    }\n",
       "</style>\n",
       "<table border=\"1\" class=\"dataframe\">\n",
       "  <thead>\n",
       "    <tr style=\"text-align: right;\">\n",
       "      <th></th>\n",
       "      <th>Model</th>\n",
       "      <th>Survey</th>\n",
       "    </tr>\n",
       "    <tr>\n",
       "      <th>Tour Mode</th>\n",
       "      <th></th>\n",
       "      <th></th>\n",
       "    </tr>\n",
       "  </thead>\n",
       "  <tbody>\n",
       "    <tr>\n",
       "      <th>Bike</th>\n",
       "      <td>1.2%</td>\n",
       "      <td>1.1%</td>\n",
       "    </tr>\n",
       "    <tr>\n",
       "      <th>HOV2</th>\n",
       "      <td>16.9%</td>\n",
       "      <td>34.9%</td>\n",
       "    </tr>\n",
       "    <tr>\n",
       "      <th>HOV3+</th>\n",
       "      <td>8.6%</td>\n",
       "      <td>0.1%</td>\n",
       "    </tr>\n",
       "    <tr>\n",
       "      <th>Park</th>\n",
       "      <td>2.0%</td>\n",
       "      <td>NaN</td>\n",
       "    </tr>\n",
       "    <tr>\n",
       "      <th>SOV</th>\n",
       "      <td>57.1%</td>\n",
       "      <td>36.3%</td>\n",
       "    </tr>\n",
       "    <tr>\n",
       "      <th>TNC</th>\n",
       "      <td>0.9%</td>\n",
       "      <td>NaN</td>\n",
       "    </tr>\n",
       "    <tr>\n",
       "      <th>Transit</th>\n",
       "      <td>12.1%</td>\n",
       "      <td>27.6%</td>\n",
       "    </tr>\n",
       "    <tr>\n",
       "      <th>Walk</th>\n",
       "      <td>1.2%</td>\n",
       "      <td>NaN</td>\n",
       "    </tr>\n",
       "  </tbody>\n",
       "</table>\n",
       "</div>"
      ],
      "text/plain": [
       "            Model   Survey\n",
       "Tour Mode                 \n",
       "Bike         1.2%     1.1%\n",
       "HOV2        16.9%    34.9%\n",
       "HOV3+        8.6%     0.1%\n",
       "Park         2.0%      NaN\n",
       "SOV         57.1%    36.3%\n",
       "TNC          0.9%      NaN\n",
       "Transit     12.1%    27.6%\n",
       "Walk         1.2%      NaN"
      ]
     },
     "execution_count": 10,
     "metadata": {},
     "output_type": "execute_result"
    }
   ],
   "source": [
    "df_model_seatac = pd.read_csv(os.path.join(working_dir,fname+'.csv'))\n",
    "df_survey_seatac = pd.read_csv(os.path.join(working_dir,'survey',fname+'.csv'))\n",
    "\n",
    "df_model_seatac = df_model_seatac[df_model_seatac['person_subarea'] == 1]\n",
    "df_survey_seatac = df_survey_seatac[df_survey_seatac['person_subarea'] == 1]\n",
    "\n",
    "df_model_seatac = df_model_seatac[df_model_seatac['pdpurp'] == 'Work']\n",
    "df_survey_seatac = df_survey_seatac[df_survey_seatac['pdpurp'] == 'Work']\n",
    "df_model_seatac = (df_model_seatac.groupby('tmodetp').sum()[['toexpfac']]/df_model_seatac['toexpfac'].sum()).reset_index()\n",
    "df_survey_seatac = (df_survey_seatac.groupby('tmodetp').sum()[['toexpfac']]/df_survey_seatac['toexpfac'].sum()).reset_index()\n",
    "df = df_model_seatac.merge(df_survey_seatac, on='tmodetp', suffixes=['_model','_survey'], how = 'outer')\n",
    "df.columns = ['Tour Mode',' Model',' Survey']\n",
    "df.index = df['Tour Mode']\n",
    "df.drop('Tour Mode', axis=1, inplace=True)\n",
    "df"
   ]
  },
  {
   "cell_type": "code",
   "execution_count": 11,
   "metadata": {},
   "outputs": [
    {
     "data": {
      "text/plain": [
       "<AxesSubplot:ylabel='Tour Mode'>"
      ]
     },
     "execution_count": 11,
     "metadata": {},
     "output_type": "execute_result"
    },
    {
     "data": {
      "image/png": "[encoded data removed]",
      "text/plain": [
       "<Figure size 432x288 with 1 Axes>"
      ]
     },
     "metadata": {
      "needs_background": "light"
     },
     "output_type": "display_data"
    }
   ],
   "source": [
    "df.plot(kind='barh', alpha=0.6)"
   ]
  },
  {
   "cell_type": "markdown",
   "metadata": {},
   "source": [
    "# School Tour Mode Share"
   ]
  },
  {
   "cell_type": "code",
   "execution_count": 12,
   "metadata": {
    "execution": {
     "iopub.execute_input": "2021-06-10T22:11:29.701626Z",
     "iopub.status.busy": "2021-06-10T22:11:29.701626Z",
     "iopub.status.idle": "2021-06-10T22:11:29.748507Z",
     "shell.execute_reply": "2021-06-10T22:11:29.748507Z"
    }
   },
   "outputs": [
    {
     "data": {
      "text/html": [
       "<div>\n",
       "<style scoped>\n",
       "    .dataframe tbody tr th:only-of-type {\n",
       "        vertical-align: middle;\n",
       "    }\n",
       "\n",
       "    .dataframe tbody tr th {\n",
       "        vertical-align: top;\n",
       "    }\n",
       "\n",
       "    .dataframe thead th {\n",
       "        text-align: right;\n",
       "    }\n",
       "</style>\n",
       "<table border=\"1\" class=\"dataframe\">\n",
       "  <thead>\n",
       "    <tr style=\"text-align: right;\">\n",
       "      <th></th>\n",
       "      <th>Model</th>\n",
       "      <th>Survey</th>\n",
       "    </tr>\n",
       "    <tr>\n",
       "      <th>Tour Mode</th>\n",
       "      <th></th>\n",
       "      <th></th>\n",
       "    </tr>\n",
       "  </thead>\n",
       "  <tbody>\n",
       "    <tr>\n",
       "      <th>Bike</th>\n",
       "      <td>3.3%</td>\n",
       "      <td>0.4%</td>\n",
       "    </tr>\n",
       "    <tr>\n",
       "      <th>HOV2</th>\n",
       "      <td>19.1%</td>\n",
       "      <td>13.6%</td>\n",
       "    </tr>\n",
       "    <tr>\n",
       "      <th>HOV3+</th>\n",
       "      <td>29.5%</td>\n",
       "      <td>41.4%</td>\n",
       "    </tr>\n",
       "    <tr>\n",
       "      <th>SOV</th>\n",
       "      <td>7.3%</td>\n",
       "      <td>8.0%</td>\n",
       "    </tr>\n",
       "    <tr>\n",
       "      <th>School Bus</th>\n",
       "      <td>27.7%</td>\n",
       "      <td>20.0%</td>\n",
       "    </tr>\n",
       "    <tr>\n",
       "      <th>TNC</th>\n",
       "      <td>3.4%</td>\n",
       "      <td>0.4%</td>\n",
       "    </tr>\n",
       "    <tr>\n",
       "      <th>Transit</th>\n",
       "      <td>4.8%</td>\n",
       "      <td>8.0%</td>\n",
       "    </tr>\n",
       "    <tr>\n",
       "      <th>Walk</th>\n",
       "      <td>4.9%</td>\n",
       "      <td>6.4%</td>\n",
       "    </tr>\n",
       "    <tr>\n",
       "      <th>Park</th>\n",
       "      <td>NaN</td>\n",
       "      <td>0.6%</td>\n",
       "    </tr>\n",
       "  </tbody>\n",
       "</table>\n",
       "</div>"
      ],
      "text/plain": [
       "             Model   Survey\n",
       "Tour Mode                  \n",
       "Bike          3.3%     0.4%\n",
       "HOV2         19.1%    13.6%\n",
       "HOV3+        29.5%    41.4%\n",
       "SOV           7.3%     8.0%\n",
       "School Bus   27.7%    20.0%\n",
       "TNC           3.4%     0.4%\n",
       "Transit       4.8%     8.0%\n",
       "Walk          4.9%     6.4%\n",
       "Park           NaN     0.6%"
      ]
     },
     "execution_count": 12,
     "metadata": {},
     "output_type": "execute_result"
    }
   ],
   "source": [
    "pd.options.display.float_format = '{:,.1%}'.format\n",
    "\n",
    "df_model = pd.read_csv(os.path.join(working_dir,fname+'.csv'))\n",
    "df_survey = pd.read_csv(os.path.join(working_dir,'survey',fname+'.csv'))\n",
    "df_model = df_model[df_model['pdpurp'] == 'School']\n",
    "df_survey = df_survey[df_survey['pdpurp'] == 'School']\n",
    "df_model = (df_model.groupby('tmodetp').sum()[['toexpfac']]/df_model['toexpfac'].sum()).reset_index()\n",
    "df_survey = (df_survey.groupby('tmodetp').sum()[['toexpfac']]/df_survey['toexpfac'].sum()).reset_index()\n",
    "df = df_model.merge(df_survey, on='tmodetp', suffixes=['_model','_survey'], how = 'outer')\n",
    "df.columns = ['Tour Mode',' Model',' Survey']\n",
    "df.index = df['Tour Mode']\n",
    "df.drop('Tour Mode', axis=1, inplace=True)\n",
    "df"
   ]
  },
  {
   "cell_type": "code",
   "execution_count": 13,
   "metadata": {
    "execution": {
     "iopub.execute_input": "2021-06-10T22:11:29.779730Z",
     "iopub.status.busy": "2021-06-10T22:11:29.764106Z",
     "iopub.status.idle": "2021-06-10T22:11:29.982807Z",
     "shell.execute_reply": "2021-06-10T22:11:29.982807Z"
    }
   },
   "outputs": [
    {
     "data": {
      "text/plain": [
       "<AxesSubplot:ylabel='Tour Mode'>"
      ]
     },
     "execution_count": 13,
     "metadata": {},
     "output_type": "execute_result"
    },
    {
     "data": {
      "image/png": "[encoded data removed]",
      "text/plain": [
       "<Figure size 432x288 with 1 Axes>"
      ]
     },
     "metadata": {
      "needs_background": "light"
     },
     "output_type": "display_data"
    }
   ],
   "source": [
    "df.plot(kind='barh', alpha=0.6)"
   ]
  },
  {
   "cell_type": "markdown",
   "metadata": {},
   "source": [
    "# School Tour Mode Share - City of SeaTac"
   ]
  },
  {
   "cell_type": "code",
   "execution_count": 14,
   "metadata": {},
   "outputs": [
    {
     "data": {
      "text/html": [
       "<div>\n",
       "<style scoped>\n",
       "    .dataframe tbody tr th:only-of-type {\n",
       "        vertical-align: middle;\n",
       "    }\n",
       "\n",
       "    .dataframe tbody tr th {\n",
       "        vertical-align: top;\n",
       "    }\n",
       "\n",
       "    .dataframe thead th {\n",
       "        text-align: right;\n",
       "    }\n",
       "</style>\n",
       "<table border=\"1\" class=\"dataframe\">\n",
       "  <thead>\n",
       "    <tr style=\"text-align: right;\">\n",
       "      <th></th>\n",
       "      <th>Model</th>\n",
       "      <th>Survey</th>\n",
       "    </tr>\n",
       "    <tr>\n",
       "      <th>Tour Mode</th>\n",
       "      <th></th>\n",
       "      <th></th>\n",
       "    </tr>\n",
       "  </thead>\n",
       "  <tbody>\n",
       "    <tr>\n",
       "      <th>Bike</th>\n",
       "      <td>2.6%</td>\n",
       "      <td>NaN</td>\n",
       "    </tr>\n",
       "    <tr>\n",
       "      <th>HOV2</th>\n",
       "      <td>19.6%</td>\n",
       "      <td>51.3%</td>\n",
       "    </tr>\n",
       "    <tr>\n",
       "      <th>HOV3+</th>\n",
       "      <td>29.8%</td>\n",
       "      <td>48.7%</td>\n",
       "    </tr>\n",
       "    <tr>\n",
       "      <th>SOV</th>\n",
       "      <td>5.9%</td>\n",
       "      <td>NaN</td>\n",
       "    </tr>\n",
       "    <tr>\n",
       "      <th>School Bus</th>\n",
       "      <td>28.0%</td>\n",
       "      <td>NaN</td>\n",
       "    </tr>\n",
       "    <tr>\n",
       "      <th>TNC</th>\n",
       "      <td>3.3%</td>\n",
       "      <td>NaN</td>\n",
       "    </tr>\n",
       "    <tr>\n",
       "      <th>Transit</th>\n",
       "      <td>6.5%</td>\n",
       "      <td>NaN</td>\n",
       "    </tr>\n",
       "    <tr>\n",
       "      <th>Walk</th>\n",
       "      <td>4.4%</td>\n",
       "      <td>NaN</td>\n",
       "    </tr>\n",
       "  </tbody>\n",
       "</table>\n",
       "</div>"
      ],
      "text/plain": [
       "             Model   Survey\n",
       "Tour Mode                  \n",
       "Bike          2.6%      NaN\n",
       "HOV2         19.6%    51.3%\n",
       "HOV3+        29.8%    48.7%\n",
       "SOV           5.9%      NaN\n",
       "School Bus   28.0%      NaN\n",
       "TNC           3.3%      NaN\n",
       "Transit       6.5%      NaN\n",
       "Walk          4.4%      NaN"
      ]
     },
     "execution_count": 14,
     "metadata": {},
     "output_type": "execute_result"
    }
   ],
   "source": [
    "df_model_seatac = pd.read_csv(os.path.join(working_dir,fname+'.csv'))\n",
    "df_survey_seatac = pd.read_csv(os.path.join(working_dir,'survey',fname+'.csv'))\n",
    "\n",
    "df_model_seatac = df_model_seatac[df_model_seatac['person_subarea'] == 1]\n",
    "df_survey_seatac = df_survey_seatac[df_survey_seatac['person_subarea'] == 1]\n",
    "\n",
    "df_model_seatac = df_model_seatac[df_model_seatac['pdpurp'] == 'School']\n",
    "df_survey_seatac = df_survey_seatac[df_survey_seatac['pdpurp'] == 'School']\n",
    "df_model_seatac = (df_model_seatac.groupby('tmodetp').sum()[['toexpfac']]/df_model_seatac['toexpfac'].sum()).reset_index()\n",
    "df_survey_seatac = (df_survey_seatac.groupby('tmodetp').sum()[['toexpfac']]/df_survey_seatac['toexpfac'].sum()).reset_index()\n",
    "df = df_model_seatac.merge(df_survey_seatac, on='tmodetp', suffixes=['_model','_survey'], how = 'outer')\n",
    "df.columns = ['Tour Mode',' Model',' Survey']\n",
    "df.index = df['Tour Mode']\n",
    "df.drop('Tour Mode', axis=1, inplace=True)\n",
    "df"
   ]
  },
  {
   "cell_type": "code",
   "execution_count": 15,
   "metadata": {},
   "outputs": [
    {
     "data": {
      "text/plain": [
       "<AxesSubplot:ylabel='Tour Mode'>"
      ]
     },
     "execution_count": 15,
     "metadata": {},
     "output_type": "execute_result"
    },
    {
     "data": {
      "image/png": "[encoded data removed]",
      "text/plain": [
       "<Figure size 432x288 with 1 Axes>"
      ]
     },
     "metadata": {
      "needs_background": "light"
     },
     "output_type": "display_data"
    }
   ],
   "source": [
    "df.plot(kind='barh', alpha=0.6)"
   ]
  },
  {
   "cell_type": "markdown",
   "metadata": {},
   "source": [
    "# Escort Tour Mode Share"
   ]
  },
  {
   "cell_type": "code",
   "execution_count": 16,
   "metadata": {
    "execution": {
     "iopub.execute_input": "2021-06-10T22:11:29.998429Z",
     "iopub.status.busy": "2021-06-10T22:11:29.998429Z",
     "iopub.status.idle": "2021-06-10T22:11:30.060915Z",
     "shell.execute_reply": "2021-06-10T22:11:30.060915Z"
    }
   },
   "outputs": [
    {
     "data": {
      "text/html": [
       "<div>\n",
       "<style scoped>\n",
       "    .dataframe tbody tr th:only-of-type {\n",
       "        vertical-align: middle;\n",
       "    }\n",
       "\n",
       "    .dataframe tbody tr th {\n",
       "        vertical-align: top;\n",
       "    }\n",
       "\n",
       "    .dataframe thead th {\n",
       "        text-align: right;\n",
       "    }\n",
       "</style>\n",
       "<table border=\"1\" class=\"dataframe\">\n",
       "  <thead>\n",
       "    <tr style=\"text-align: right;\">\n",
       "      <th></th>\n",
       "      <th>Model</th>\n",
       "      <th>Survey</th>\n",
       "    </tr>\n",
       "    <tr>\n",
       "      <th>Tour Mode</th>\n",
       "      <th></th>\n",
       "      <th></th>\n",
       "    </tr>\n",
       "  </thead>\n",
       "  <tbody>\n",
       "    <tr>\n",
       "      <th>Bike</th>\n",
       "      <td>2.2%</td>\n",
       "      <td>0.2%</td>\n",
       "    </tr>\n",
       "    <tr>\n",
       "      <th>HOV2</th>\n",
       "      <td>43.5%</td>\n",
       "      <td>44.2%</td>\n",
       "    </tr>\n",
       "    <tr>\n",
       "      <th>HOV3+</th>\n",
       "      <td>48.0%</td>\n",
       "      <td>46.1%</td>\n",
       "    </tr>\n",
       "    <tr>\n",
       "      <th>SOV</th>\n",
       "      <td>2.3%</td>\n",
       "      <td>4.9%</td>\n",
       "    </tr>\n",
       "    <tr>\n",
       "      <th>TNC</th>\n",
       "      <td>0.1%</td>\n",
       "      <td>0.0%</td>\n",
       "    </tr>\n",
       "    <tr>\n",
       "      <th>Transit</th>\n",
       "      <td>0.0%</td>\n",
       "      <td>0.3%</td>\n",
       "    </tr>\n",
       "    <tr>\n",
       "      <th>Walk</th>\n",
       "      <td>3.9%</td>\n",
       "      <td>3.7%</td>\n",
       "    </tr>\n",
       "    <tr>\n",
       "      <th>School Bus</th>\n",
       "      <td>NaN</td>\n",
       "      <td>0.2%</td>\n",
       "    </tr>\n",
       "  </tbody>\n",
       "</table>\n",
       "</div>"
      ],
      "text/plain": [
       "             Model   Survey\n",
       "Tour Mode                  \n",
       "Bike          2.2%     0.2%\n",
       "HOV2         43.5%    44.2%\n",
       "HOV3+        48.0%    46.1%\n",
       "SOV           2.3%     4.9%\n",
       "TNC           0.1%     0.0%\n",
       "Transit       0.0%     0.3%\n",
       "Walk          3.9%     3.7%\n",
       "School Bus     NaN     0.2%"
      ]
     },
     "execution_count": 16,
     "metadata": {},
     "output_type": "execute_result"
    }
   ],
   "source": [
    "pd.options.display.float_format = '{:,.1%}'.format\n",
    "\n",
    "df_model = pd.read_csv(os.path.join(working_dir,fname+'.csv'))\n",
    "df_survey = pd.read_csv(os.path.join(working_dir,'survey',fname+'.csv'))\n",
    "df_model = df_model[df_model['pdpurp'] == 'Escort']\n",
    "df_survey = df_survey[df_survey['pdpurp'] == 'Escort']\n",
    "df_model = (df_model.groupby('tmodetp').sum()[['toexpfac']]/df_model['toexpfac'].sum()).reset_index()\n",
    "df_survey = (df_survey.groupby('tmodetp').sum()[['toexpfac']]/df_survey['toexpfac'].sum()).reset_index()\n",
    "df = df_model.merge(df_survey, on='tmodetp', suffixes=['_model','_survey'], how = 'outer')\n",
    "df.columns = ['Tour Mode',' Model',' Survey']\n",
    "df.index = df['Tour Mode']\n",
    "df.drop('Tour Mode', axis=1, inplace=True)\n",
    "df"
   ]
  },
  {
   "cell_type": "code",
   "execution_count": 17,
   "metadata": {
    "execution": {
     "iopub.execute_input": "2021-06-10T22:11:30.092157Z",
     "iopub.status.busy": "2021-06-10T22:11:30.092157Z",
     "iopub.status.idle": "2021-06-10T22:11:30.263989Z",
     "shell.execute_reply": "2021-06-10T22:11:30.263989Z"
    }
   },
   "outputs": [
    {
     "data": {
      "text/plain": [
       "<AxesSubplot:ylabel='Tour Mode'>"
      ]
     },
     "execution_count": 17,
     "metadata": {},
     "output_type": "execute_result"
    },
    {
     "data": {
      "image/png": "[encoded data removed]",
      "text/plain": [
       "<Figure size 432x288 with 1 Axes>"
      ]
     },
     "metadata": {
      "needs_background": "light"
     },
     "output_type": "display_data"
    }
   ],
   "source": [
    "df.plot(kind='barh', alpha=0.6)"
   ]
  },
  {
   "cell_type": "markdown",
   "metadata": {},
   "source": [
    "# Escort Tour Mode Share - City of SeaTac"
   ]
  },
  {
   "cell_type": "code",
   "execution_count": 18,
   "metadata": {},
   "outputs": [
    {
     "data": {
      "text/html": [
       "<div>\n",
       "<style scoped>\n",
       "    .dataframe tbody tr th:only-of-type {\n",
       "        vertical-align: middle;\n",
       "    }\n",
       "\n",
       "    .dataframe tbody tr th {\n",
       "        vertical-align: top;\n",
       "    }\n",
       "\n",
       "    .dataframe thead th {\n",
       "        text-align: right;\n",
       "    }\n",
       "</style>\n",
       "<table border=\"1\" class=\"dataframe\">\n",
       "  <thead>\n",
       "    <tr style=\"text-align: right;\">\n",
       "      <th></th>\n",
       "      <th>Model</th>\n",
       "      <th>Survey</th>\n",
       "    </tr>\n",
       "    <tr>\n",
       "      <th>Tour Mode</th>\n",
       "      <th></th>\n",
       "      <th></th>\n",
       "    </tr>\n",
       "  </thead>\n",
       "  <tbody>\n",
       "    <tr>\n",
       "      <th>Bike</th>\n",
       "      <td>2.1%</td>\n",
       "      <td>NaN</td>\n",
       "    </tr>\n",
       "    <tr>\n",
       "      <th>HOV2</th>\n",
       "      <td>37.8%</td>\n",
       "      <td>100.0%</td>\n",
       "    </tr>\n",
       "    <tr>\n",
       "      <th>HOV3+</th>\n",
       "      <td>55.3%</td>\n",
       "      <td>NaN</td>\n",
       "    </tr>\n",
       "    <tr>\n",
       "      <th>SOV</th>\n",
       "      <td>1.6%</td>\n",
       "      <td>NaN</td>\n",
       "    </tr>\n",
       "    <tr>\n",
       "      <th>TNC</th>\n",
       "      <td>0.1%</td>\n",
       "      <td>NaN</td>\n",
       "    </tr>\n",
       "    <tr>\n",
       "      <th>Transit</th>\n",
       "      <td>0.0%</td>\n",
       "      <td>NaN</td>\n",
       "    </tr>\n",
       "    <tr>\n",
       "      <th>Walk</th>\n",
       "      <td>3.1%</td>\n",
       "      <td>NaN</td>\n",
       "    </tr>\n",
       "  </tbody>\n",
       "</table>\n",
       "</div>"
      ],
      "text/plain": [
       "            Model   Survey\n",
       "Tour Mode                 \n",
       "Bike         2.1%      NaN\n",
       "HOV2        37.8%   100.0%\n",
       "HOV3+       55.3%      NaN\n",
       "SOV          1.6%      NaN\n",
       "TNC          0.1%      NaN\n",
       "Transit      0.0%      NaN\n",
       "Walk         3.1%      NaN"
      ]
     },
     "execution_count": 18,
     "metadata": {},
     "output_type": "execute_result"
    }
   ],
   "source": [
    "df_model_seatac = pd.read_csv(os.path.join(working_dir,fname+'.csv'))\n",
    "df_survey_seatac = pd.read_csv(os.path.join(working_dir,'survey',fname+'.csv'))\n",
    "\n",
    "df_model_seatac = df_model_seatac[df_model_seatac['person_subarea'] == 1]\n",
    "df_survey_seatac = df_survey_seatac[df_survey_seatac['person_subarea'] == 1]\n",
    "\n",
    "df_model_seatac = df_model_seatac[df_model_seatac['pdpurp'] == 'Escort']\n",
    "df_survey_seatac = df_survey_seatac[df_survey_seatac['pdpurp'] == 'Escort']\n",
    "df_model_seatac = (df_model_seatac.groupby('tmodetp').sum()[['toexpfac']]/df_model_seatac['toexpfac'].sum()).reset_index()\n",
    "df_survey_seatac = (df_survey_seatac.groupby('tmodetp').sum()[['toexpfac']]/df_survey_seatac['toexpfac'].sum()).reset_index()\n",
    "df = df_model_seatac.merge(df_survey_seatac, on='tmodetp', suffixes=['_model','_survey'], how = 'outer')\n",
    "df.columns = ['Tour Mode',' Model',' Survey']\n",
    "df.index = df['Tour Mode']\n",
    "df.drop('Tour Mode', axis=1, inplace=True)\n",
    "df"
   ]
  },
  {
   "cell_type": "code",
   "execution_count": 19,
   "metadata": {},
   "outputs": [
    {
     "data": {
      "text/plain": [
       "<AxesSubplot:ylabel='Tour Mode'>"
      ]
     },
     "execution_count": 19,
     "metadata": {},
     "output_type": "execute_result"
    },
    {
     "data": {
      "image/png": "[encoded data removed]",
      "text/plain": [
       "<Figure size 432x288 with 1 Axes>"
      ]
     },
     "metadata": {
      "needs_background": "light"
     },
     "output_type": "display_data"
    }
   ],
   "source": [
    "df.plot(kind='barh', alpha=0.6)"
   ]
  },
  {
   "cell_type": "markdown",
   "metadata": {},
   "source": [
    "# Other Tour Mode Share"
   ]
  },
  {
   "cell_type": "code",
   "execution_count": 20,
   "metadata": {
    "execution": {
     "iopub.execute_input": "2021-06-10T22:11:30.279610Z",
     "iopub.status.busy": "2021-06-10T22:11:30.279610Z",
     "iopub.status.idle": "2021-06-10T22:11:30.342096Z",
     "shell.execute_reply": "2021-06-10T22:11:30.342096Z"
    }
   },
   "outputs": [
    {
     "data": {
      "text/html": [
       "<div>\n",
       "<style scoped>\n",
       "    .dataframe tbody tr th:only-of-type {\n",
       "        vertical-align: middle;\n",
       "    }\n",
       "\n",
       "    .dataframe tbody tr th {\n",
       "        vertical-align: top;\n",
       "    }\n",
       "\n",
       "    .dataframe thead th {\n",
       "        text-align: right;\n",
       "    }\n",
       "</style>\n",
       "<table border=\"1\" class=\"dataframe\">\n",
       "  <thead>\n",
       "    <tr style=\"text-align: right;\">\n",
       "      <th></th>\n",
       "      <th>Model</th>\n",
       "      <th>Survey</th>\n",
       "    </tr>\n",
       "    <tr>\n",
       "      <th>Tour Mode</th>\n",
       "      <th></th>\n",
       "      <th></th>\n",
       "    </tr>\n",
       "  </thead>\n",
       "  <tbody>\n",
       "    <tr>\n",
       "      <th>Bike</th>\n",
       "      <td>0.7%</td>\n",
       "      <td>0.8%</td>\n",
       "    </tr>\n",
       "    <tr>\n",
       "      <th>HOV2</th>\n",
       "      <td>24.9%</td>\n",
       "      <td>26.2%</td>\n",
       "    </tr>\n",
       "    <tr>\n",
       "      <th>HOV3+</th>\n",
       "      <td>20.3%</td>\n",
       "      <td>25.3%</td>\n",
       "    </tr>\n",
       "    <tr>\n",
       "      <th>SOV</th>\n",
       "      <td>34.5%</td>\n",
       "      <td>28.9%</td>\n",
       "    </tr>\n",
       "    <tr>\n",
       "      <th>TNC</th>\n",
       "      <td>1.7%</td>\n",
       "      <td>0.2%</td>\n",
       "    </tr>\n",
       "    <tr>\n",
       "      <th>Transit</th>\n",
       "      <td>2.2%</td>\n",
       "      <td>3.0%</td>\n",
       "    </tr>\n",
       "    <tr>\n",
       "      <th>Walk</th>\n",
       "      <td>15.6%</td>\n",
       "      <td>14.5%</td>\n",
       "    </tr>\n",
       "    <tr>\n",
       "      <th>Park</th>\n",
       "      <td>NaN</td>\n",
       "      <td>0.1%</td>\n",
       "    </tr>\n",
       "    <tr>\n",
       "      <th>School Bus</th>\n",
       "      <td>NaN</td>\n",
       "      <td>0.6%</td>\n",
       "    </tr>\n",
       "  </tbody>\n",
       "</table>\n",
       "</div>"
      ],
      "text/plain": [
       "             Model   Survey\n",
       "Tour Mode                  \n",
       "Bike          0.7%     0.8%\n",
       "HOV2         24.9%    26.2%\n",
       "HOV3+        20.3%    25.3%\n",
       "SOV          34.5%    28.9%\n",
       "TNC           1.7%     0.2%\n",
       "Transit       2.2%     3.0%\n",
       "Walk         15.6%    14.5%\n",
       "Park           NaN     0.1%\n",
       "School Bus     NaN     0.6%"
      ]
     },
     "execution_count": 20,
     "metadata": {},
     "output_type": "execute_result"
    }
   ],
   "source": [
    "pd.options.display.float_format = '{:,.1%}'.format\n",
    "\n",
    "df_model = pd.read_csv(os.path.join(working_dir,fname+'.csv'))\n",
    "df_survey = pd.read_csv(os.path.join(working_dir,'survey',fname+'.csv'))\n",
    "df_model = df_model[-df_model['pdpurp'].isin(['School','Work','Escort'])]\n",
    "df_survey = df_survey[-df_survey['pdpurp'].isin(['School','Work','Escort'])]\n",
    "df_model = (df_model.groupby('tmodetp').sum()[['toexpfac']]/df_model['toexpfac'].sum()).reset_index()\n",
    "df_survey = (df_survey.groupby('tmodetp').sum()[['toexpfac']]/df_survey['toexpfac'].sum()).reset_index()\n",
    "df = df_model.merge(df_survey, on='tmodetp', suffixes=['_model','_survey'], how = 'outer')\n",
    "df.columns = ['Tour Mode',' Model',' Survey']\n",
    "df.index = df['Tour Mode']\n",
    "df.drop('Tour Mode', axis=1, inplace=True)\n",
    "df"
   ]
  },
  {
   "cell_type": "code",
   "execution_count": 21,
   "metadata": {
    "execution": {
     "iopub.execute_input": "2021-06-10T22:11:30.373340Z",
     "iopub.status.busy": "2021-06-10T22:11:30.373340Z",
     "iopub.status.idle": "2021-06-10T22:11:30.576416Z",
     "shell.execute_reply": "2021-06-10T22:11:30.576416Z"
    }
   },
   "outputs": [
    {
     "data": {
      "text/plain": [
       "<AxesSubplot:ylabel='Tour Mode'>"
      ]
     },
     "execution_count": 21,
     "metadata": {},
     "output_type": "execute_result"
    },
    {
     "data": {
      "image/png": "[encoded data removed]",
      "text/plain": [
       "<Figure size 432x288 with 1 Axes>"
      ]
     },
     "metadata": {
      "needs_background": "light"
     },
     "output_type": "display_data"
    }
   ],
   "source": [
    "df.plot(kind='barh', alpha=0.6)"
   ]
  },
  {
   "cell_type": "markdown",
   "metadata": {},
   "source": [
    "# Other Tour Mode Share - City of SeaTac"
   ]
  },
  {
   "cell_type": "code",
   "execution_count": 22,
   "metadata": {},
   "outputs": [
    {
     "data": {
      "text/html": [
       "<div>\n",
       "<style scoped>\n",
       "    .dataframe tbody tr th:only-of-type {\n",
       "        vertical-align: middle;\n",
       "    }\n",
       "\n",
       "    .dataframe tbody tr th {\n",
       "        vertical-align: top;\n",
       "    }\n",
       "\n",
       "    .dataframe thead th {\n",
       "        text-align: right;\n",
       "    }\n",
       "</style>\n",
       "<table border=\"1\" class=\"dataframe\">\n",
       "  <thead>\n",
       "    <tr style=\"text-align: right;\">\n",
       "      <th></th>\n",
       "      <th>Model</th>\n",
       "      <th>Survey</th>\n",
       "    </tr>\n",
       "    <tr>\n",
       "      <th>Tour Mode</th>\n",
       "      <th></th>\n",
       "      <th></th>\n",
       "    </tr>\n",
       "  </thead>\n",
       "  <tbody>\n",
       "    <tr>\n",
       "      <th>Bike</th>\n",
       "      <td>0.5%</td>\n",
       "      <td>11.7%</td>\n",
       "    </tr>\n",
       "    <tr>\n",
       "      <th>HOV2</th>\n",
       "      <td>26.8%</td>\n",
       "      <td>54.6%</td>\n",
       "    </tr>\n",
       "    <tr>\n",
       "      <th>HOV3+</th>\n",
       "      <td>22.8%</td>\n",
       "      <td>8.5%</td>\n",
       "    </tr>\n",
       "    <tr>\n",
       "      <th>SOV</th>\n",
       "      <td>33.3%</td>\n",
       "      <td>15.7%</td>\n",
       "    </tr>\n",
       "    <tr>\n",
       "      <th>TNC</th>\n",
       "      <td>1.5%</td>\n",
       "      <td>NaN</td>\n",
       "    </tr>\n",
       "    <tr>\n",
       "      <th>Transit</th>\n",
       "      <td>3.9%</td>\n",
       "      <td>4.0%</td>\n",
       "    </tr>\n",
       "    <tr>\n",
       "      <th>Walk</th>\n",
       "      <td>11.2%</td>\n",
       "      <td>5.5%</td>\n",
       "    </tr>\n",
       "    <tr>\n",
       "      <th>Park</th>\n",
       "      <td>NaN</td>\n",
       "      <td>0.1%</td>\n",
       "    </tr>\n",
       "  </tbody>\n",
       "</table>\n",
       "</div>"
      ],
      "text/plain": [
       "            Model   Survey\n",
       "Tour Mode                 \n",
       "Bike         0.5%    11.7%\n",
       "HOV2        26.8%    54.6%\n",
       "HOV3+       22.8%     8.5%\n",
       "SOV         33.3%    15.7%\n",
       "TNC          1.5%      NaN\n",
       "Transit      3.9%     4.0%\n",
       "Walk        11.2%     5.5%\n",
       "Park          NaN     0.1%"
      ]
     },
     "execution_count": 22,
     "metadata": {},
     "output_type": "execute_result"
    }
   ],
   "source": [
    "df_model_seatac = pd.read_csv(os.path.join(working_dir,fname+'.csv'))\n",
    "df_survey_seatac = pd.read_csv(os.path.join(working_dir,'survey',fname+'.csv'))\n",
    "\n",
    "df_model_seatac = df_model_seatac[df_model_seatac['person_subarea'] == 1]\n",
    "df_survey_seatac = df_survey_seatac[df_survey_seatac['person_subarea'] == 1]\n",
    "\n",
    "df_model_seatac = df_model_seatac[-df_model_seatac['pdpurp'].isin(['School','Work','Escort'])]\n",
    "df_survey_seatac = df_survey_seatac[-df_survey_seatac['pdpurp'].isin(['School','Work','Escort'])]\n",
    "df_model_seatac = (df_model_seatac.groupby('tmodetp').sum()[['toexpfac']]/df_model_seatac['toexpfac'].sum()).reset_index()\n",
    "df_survey_seatac = (df_survey_seatac.groupby('tmodetp').sum()[['toexpfac']]/df_survey_seatac['toexpfac'].sum()).reset_index()\n",
    "df = df_model_seatac.merge(df_survey_seatac, on='tmodetp', suffixes=['_model','_survey'], how = 'outer')\n",
    "df.columns = ['Tour Mode',' Model',' Survey']\n",
    "df.index = df['Tour Mode']\n",
    "df.drop('Tour Mode', axis=1, inplace=True)\n",
    "df"
   ]
  },
  {
   "cell_type": "code",
   "execution_count": 23,
   "metadata": {},
   "outputs": [
    {
     "data": {
      "text/plain": [
       "<AxesSubplot:ylabel='Tour Mode'>"
      ]
     },
     "execution_count": 23,
     "metadata": {},
     "output_type": "execute_result"
    },
    {
     "data": {
      "image/png": "[encoded data removed]",
      "text/plain": [
       "<Figure size 432x288 with 1 Axes>"
      ]
     },
     "metadata": {
      "needs_background": "light"
     },
     "output_type": "display_data"
    }
   ],
   "source": [
    "df.plot(kind='barh', alpha=0.6)"
   ]
  },
  {
   "cell_type": "code",
   "execution_count": null,
   "metadata": {},
   "outputs": [],
   "source": []
  }
 ],
 "metadata": {
  "kernelspec": {
   "display_name": "Python 3",
   "language": "python",
   "name": "python3"
  },
  "language_info": {
   "codemirror_mode": {
    "name": "ipython",
    "version": 3
   },
   "file_extension": ".py",
   "mimetype": "text/x-python",
   "name": "python",
   "nbconvert_exporter": "python",
   "pygments_lexer": "ipython3",
   "version": "3.7.10"
  }
 },
 "nbformat": 4,
 "nbformat_minor": 2
}
