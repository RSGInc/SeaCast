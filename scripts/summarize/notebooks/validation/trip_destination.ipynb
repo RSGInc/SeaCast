{
 "cells": [
  {
   "cell_type": "code",
   "execution_count": 1,
   "metadata": {
    "execution": {
     "iopub.execute_input": "2021-06-10T22:11:35.327029Z",
     "iopub.status.busy": "2021-06-10T22:11:35.327029Z",
     "iopub.status.idle": "2021-06-10T22:11:36.205054Z",
     "shell.execute_reply": "2021-06-10T22:11:36.205054Z"
    }
   },
   "outputs": [],
   "source": [
    "import pandas as pd\n",
    "import os, sys\n",
    "%matplotlib inline\n",
    "\n",
    "from IPython.display import display, HTML\n",
    "\n",
    "if (sys.version_info < (3, 0)):\n",
    "    HTML('''<script>\n",
    "    code_show=true; \n",
    "    function code_toggle() {\n",
    "     if (code_show){\n",
    "     $('div.input').hide();\n",
    "     } else {\n",
    "     $('div.input').show();\n",
    "     }\n",
    "     code_show = !code_show\n",
    "    } \n",
    "    $( document ).ready(code_toggle);\n",
    "    </script>\n",
    "    <form action=\"javascript:code_toggle()\"><input type=\"submit\" value=\"Click here to toggle on/off the raw code.\"></form>''')\n"
   ]
  },
  {
   "cell_type": "code",
   "execution_count": 2,
   "metadata": {
    "execution": {
     "iopub.execute_input": "2021-06-10T22:11:36.205054Z",
     "iopub.status.busy": "2021-06-10T22:11:36.205054Z",
     "iopub.status.idle": "2021-06-10T22:11:36.220670Z",
     "shell.execute_reply": "2021-06-10T22:11:36.220670Z"
    }
   },
   "outputs": [],
   "source": [
    "working_dir = r'../../../../outputs/agg/dash'\n"
   ]
  },
  {
   "cell_type": "code",
   "execution_count": 3,
   "metadata": {
    "execution": {
     "iopub.execute_input": "2021-06-10T22:11:36.220670Z",
     "iopub.status.busy": "2021-06-10T22:11:36.220670Z",
     "iopub.status.idle": "2021-06-10T22:11:36.236291Z",
     "shell.execute_reply": "2021-06-10T22:11:36.236291Z"
    }
   },
   "outputs": [],
   "source": [
    "def load_data(fname):\n",
    "    \"\"\" open and join model and survey data \"\"\"\n",
    "\n",
    "    df_model = pd.read_csv(os.path.join(working_dir,fname+'.csv'))\n",
    "    df_model['source'] = 'model'\n",
    "    df_survey = pd.read_csv(os.path.join(working_dir,'survey',fname+'.csv'))\n",
    "    df_survey['source'] = 'survey'\n",
    "    df = df_model.append(df_survey)\n",
    "\n",
    "    return df"
   ]
  },
  {
   "cell_type": "code",
   "execution_count": 4,
   "metadata": {
    "execution": {
     "iopub.execute_input": "2021-06-10T22:11:36.236291Z",
     "iopub.status.busy": "2021-06-10T22:11:36.236291Z",
     "iopub.status.idle": "2021-06-10T22:11:36.251912Z",
     "shell.execute_reply": "2021-06-10T22:11:36.251912Z"
    }
   },
   "outputs": [],
   "source": [
    "district_lookup = {1: 'Suburban Snohomish',\n",
    "                  2: 'Everett-Lynwood-Edmonds',\n",
    "                  3: 'North Seattle-Shoreline',\n",
    "                  4: 'Seattle CBD',\n",
    "                  5: 'West-South Seattle',\n",
    "                  6: 'East Side',\n",
    "                   7: 'Renton-FedWay-Kent',\n",
    "                   8: 'Tacoma',\n",
    "                   9: 'Kitsap',\n",
    "                   10: 'South Pierce',\n",
    "                   11: 'S.Kitsap'\n",
    "                  }"
   ]
  },
  {
   "cell_type": "markdown",
   "metadata": {},
   "source": [
    "# Trips by Purpose"
   ]
  },
  {
   "cell_type": "code",
   "execution_count": 28,
   "metadata": {},
   "outputs": [
    {
     "data": {
      "text/html": [
       "<div>\n",
       "<style scoped>\n",
       "    .dataframe tbody tr th:only-of-type {\n",
       "        vertical-align: middle;\n",
       "    }\n",
       "\n",
       "    .dataframe tbody tr th {\n",
       "        vertical-align: top;\n",
       "    }\n",
       "\n",
       "    .dataframe thead th {\n",
       "        text-align: right;\n",
       "    }\n",
       "</style>\n",
       "<table border=\"1\" class=\"dataframe\">\n",
       "  <thead>\n",
       "    <tr style=\"text-align: right;\">\n",
       "      <th>source</th>\n",
       "      <th>model</th>\n",
       "      <th>survey</th>\n",
       "    </tr>\n",
       "    <tr>\n",
       "      <th>dpurp</th>\n",
       "      <th></th>\n",
       "      <th></th>\n",
       "    </tr>\n",
       "  </thead>\n",
       "  <tbody>\n",
       "    <tr>\n",
       "      <th>Change Mode Inserted Purpose</th>\n",
       "      <td>0.5%</td>\n",
       "      <td>0.2%</td>\n",
       "    </tr>\n",
       "    <tr>\n",
       "      <th>Escort</th>\n",
       "      <td>7.9%</td>\n",
       "      <td>7.3%</td>\n",
       "    </tr>\n",
       "    <tr>\n",
       "      <th>Meal</th>\n",
       "      <td>4.9%</td>\n",
       "      <td>6.0%</td>\n",
       "    </tr>\n",
       "    <tr>\n",
       "      <th>None/Home</th>\n",
       "      <td>37.0%</td>\n",
       "      <td>32.2%</td>\n",
       "    </tr>\n",
       "    <tr>\n",
       "      <th>Personal Business</th>\n",
       "      <td>9.8%</td>\n",
       "      <td>10.0%</td>\n",
       "    </tr>\n",
       "    <tr>\n",
       "      <th>School</th>\n",
       "      <td>4.8%</td>\n",
       "      <td>3.8%</td>\n",
       "    </tr>\n",
       "    <tr>\n",
       "      <th>Shop</th>\n",
       "      <td>10.1%</td>\n",
       "      <td>13.6%</td>\n",
       "    </tr>\n",
       "    <tr>\n",
       "      <th>Social</th>\n",
       "      <td>10.2%</td>\n",
       "      <td>10.6%</td>\n",
       "    </tr>\n",
       "    <tr>\n",
       "      <th>Work</th>\n",
       "      <td>14.9%</td>\n",
       "      <td>16.2%</td>\n",
       "    </tr>\n",
       "  </tbody>\n",
       "</table>\n",
       "</div>"
      ],
      "text/plain": [
       "source                        model  survey\n",
       "dpurp                                      \n",
       "Change Mode Inserted Purpose   0.5%    0.2%\n",
       "Escort                         7.9%    7.3%\n",
       "Meal                           4.9%    6.0%\n",
       "None/Home                     37.0%   32.2%\n",
       "Personal Business              9.8%   10.0%\n",
       "School                         4.8%    3.8%\n",
       "Shop                          10.1%   13.6%\n",
       "Social                        10.2%   10.6%\n",
       "Work                          14.9%   16.2%"
      ]
     },
     "execution_count": 28,
     "metadata": {},
     "output_type": "execute_result"
    },
    {
     "data": {
      "image/png": "[encoded data removed]",
      "text/plain": [
       "<Figure size 432x288 with 1 Axes>"
      ]
     },
     "metadata": {
      "needs_background": "light"
     },
     "output_type": "display_data"
    }
   ],
   "source": [
    "pd.options.display.float_format = '{:0,.1%}'.format\n",
    "\n",
    "df = load_data('trip_purpose_mode')\n",
    "df_purp = pd.DataFrame()\n",
    "for source in ['model','survey']:\n",
    "    _df = df[(df['source'] == source)]\n",
    "    df2 = _df.groupby('dpurp').sum()[['trexpfac']].reset_index()\n",
    "    df2['source'] = source\n",
    "    df_purp = df_purp.append(df2)\n",
    "\n",
    "df = df_purp.pivot_table(index='dpurp', columns='source', aggfunc='sum', values='trexpfac')\n",
    "df = df/df.sum()\n",
    "df.plot(kind='barh', alpha=0.6)\n",
    "df"
   ]
  },
  {
   "cell_type": "markdown",
   "metadata": {},
   "source": [
    "# Average Distance by Trip Purpose "
   ]
  },
  {
   "cell_type": "code",
   "execution_count": 29,
   "metadata": {
    "execution": {
     "iopub.execute_input": "2021-06-10T22:11:36.267534Z",
     "iopub.status.busy": "2021-06-10T22:11:36.267534Z",
     "iopub.status.idle": "2021-06-10T22:11:36.720573Z",
     "shell.execute_reply": "2021-06-10T22:11:36.720573Z"
    }
   },
   "outputs": [
    {
     "data": {
      "text/html": [
       "<div>\n",
       "<style scoped>\n",
       "    .dataframe tbody tr th:only-of-type {\n",
       "        vertical-align: middle;\n",
       "    }\n",
       "\n",
       "    .dataframe tbody tr th {\n",
       "        vertical-align: top;\n",
       "    }\n",
       "\n",
       "    .dataframe thead th {\n",
       "        text-align: right;\n",
       "    }\n",
       "</style>\n",
       "<table border=\"1\" class=\"dataframe\">\n",
       "  <thead>\n",
       "    <tr style=\"text-align: right;\">\n",
       "      <th>source</th>\n",
       "      <th>model</th>\n",
       "      <th>survey</th>\n",
       "    </tr>\n",
       "    <tr>\n",
       "      <th>dpurp</th>\n",
       "      <th></th>\n",
       "      <th></th>\n",
       "    </tr>\n",
       "  </thead>\n",
       "  <tbody>\n",
       "    <tr>\n",
       "      <th>Escort</th>\n",
       "      <td>5.64</td>\n",
       "      <td>4.85</td>\n",
       "    </tr>\n",
       "    <tr>\n",
       "      <th>Meal</th>\n",
       "      <td>4.70</td>\n",
       "      <td>4.04</td>\n",
       "    </tr>\n",
       "    <tr>\n",
       "      <th>None/Home</th>\n",
       "      <td>6.01</td>\n",
       "      <td>6.07</td>\n",
       "    </tr>\n",
       "    <tr>\n",
       "      <th>Personal Business</th>\n",
       "      <td>4.92</td>\n",
       "      <td>5.25</td>\n",
       "    </tr>\n",
       "    <tr>\n",
       "      <th>School</th>\n",
       "      <td>3.41</td>\n",
       "      <td>4.65</td>\n",
       "    </tr>\n",
       "    <tr>\n",
       "      <th>Shop</th>\n",
       "      <td>4.19</td>\n",
       "      <td>4.42</td>\n",
       "    </tr>\n",
       "    <tr>\n",
       "      <th>Social</th>\n",
       "      <td>4.35</td>\n",
       "      <td>4.71</td>\n",
       "    </tr>\n",
       "    <tr>\n",
       "      <th>Work</th>\n",
       "      <td>8.70</td>\n",
       "      <td>8.60</td>\n",
       "    </tr>\n",
       "  </tbody>\n",
       "</table>\n",
       "</div>"
      ],
      "text/plain": [
       "source             model  survey\n",
       "dpurp                           \n",
       "Escort              5.64    4.85\n",
       "Meal                4.70    4.04\n",
       "None/Home           6.01    6.07\n",
       "Personal Business   4.92    5.25\n",
       "School              3.41    4.65\n",
       "Shop                4.19    4.42\n",
       "Social              4.35    4.71\n",
       "Work                8.70    8.60"
      ]
     },
     "execution_count": 29,
     "metadata": {},
     "output_type": "execute_result"
    },
    {
     "data": {
      "image/png": "[encoded data removed]",
      "text/plain": [
       "<Figure size 432x288 with 1 Axes>"
      ]
     },
     "metadata": {
      "needs_background": "light"
     },
     "output_type": "display_data"
    }
   ],
   "source": [
    "pd.options.display.float_format = '{:0,.2f}'.format\n",
    "df = load_data('trip_distance')\n",
    "# Trim any unreasonable survey distances off by taking max distance as max modeled bin value\n",
    "max_model_dist = df.loc[(df['source']=='model'), 'travdist_bin'].max()\n",
    "df = df.loc[df['travdist_bin'] <= max_model_dist]\n",
    "df['wt_autodist'] = (df['travdist_bin']+0.5)*(df['trexpfac'])\n",
    "df_dist = pd.DataFrame()\n",
    "for source in ['model','survey']:\n",
    "    _df = df[(df['source'] == source)]\n",
    "    df1 = _df.groupby('dpurp').sum()[['wt_autodist']].reset_index()\n",
    "    df2 = _df.groupby('dpurp').sum()[['trexpfac']].reset_index ()\n",
    "    _df = df1.merge(df2, on='dpurp')\n",
    "    _df['wt_distance'] = _df['wt_autodist']/_df['trexpfac']\n",
    "    _df['source'] = source\n",
    "    df_dist = df_dist.append(_df)\n",
    "df = df_dist.pivot_table(index='dpurp', columns='source', aggfunc='first', values='wt_distance')\n",
    "df.rename(columns={'dpurp': 'Tour Purpose'}, inplace=True)\n",
    "df.drop('Change Mode Inserted Purpose', axis=0, inplace=True)\n",
    "df.plot(kind='barh', alpha=0.6)\n",
    "df"
   ]
  },
  {
   "cell_type": "markdown",
   "metadata": {},
   "source": [
    "# Average Distance by Trip Mode"
   ]
  },
  {
   "cell_type": "code",
   "execution_count": 30,
   "metadata": {
    "execution": {
     "iopub.execute_input": "2021-06-10T22:11:36.736175Z",
     "iopub.status.busy": "2021-06-10T22:11:36.736175Z",
     "iopub.status.idle": "2021-06-10T22:11:36.970492Z",
     "shell.execute_reply": "2021-06-10T22:11:36.970492Z"
    }
   },
   "outputs": [
    {
     "data": {
      "text/html": [
       "<div>\n",
       "<style scoped>\n",
       "    .dataframe tbody tr th:only-of-type {\n",
       "        vertical-align: middle;\n",
       "    }\n",
       "\n",
       "    .dataframe tbody tr th {\n",
       "        vertical-align: top;\n",
       "    }\n",
       "\n",
       "    .dataframe thead th {\n",
       "        text-align: right;\n",
       "    }\n",
       "</style>\n",
       "<table border=\"1\" class=\"dataframe\">\n",
       "  <thead>\n",
       "    <tr style=\"text-align: right;\">\n",
       "      <th>source</th>\n",
       "      <th>model</th>\n",
       "      <th>survey</th>\n",
       "    </tr>\n",
       "    <tr>\n",
       "      <th>mode</th>\n",
       "      <th></th>\n",
       "      <th></th>\n",
       "    </tr>\n",
       "  </thead>\n",
       "  <tbody>\n",
       "    <tr>\n",
       "      <th>Bike</th>\n",
       "      <td>4.92</td>\n",
       "      <td>3.68</td>\n",
       "    </tr>\n",
       "    <tr>\n",
       "      <th>HOV2</th>\n",
       "      <td>5.80</td>\n",
       "      <td>5.96</td>\n",
       "    </tr>\n",
       "    <tr>\n",
       "      <th>HOV3+</th>\n",
       "      <td>5.82</td>\n",
       "      <td>5.08</td>\n",
       "    </tr>\n",
       "    <tr>\n",
       "      <th>SOV</th>\n",
       "      <td>7.12</td>\n",
       "      <td>7.16</td>\n",
       "    </tr>\n",
       "    <tr>\n",
       "      <th>School Bus</th>\n",
       "      <td>3.04</td>\n",
       "      <td>3.55</td>\n",
       "    </tr>\n",
       "    <tr>\n",
       "      <th>TNC</th>\n",
       "      <td>2.28</td>\n",
       "      <td>4.94</td>\n",
       "    </tr>\n",
       "    <tr>\n",
       "      <th>Transit</th>\n",
       "      <td>9.05</td>\n",
       "      <td>9.06</td>\n",
       "    </tr>\n",
       "    <tr>\n",
       "      <th>Walk</th>\n",
       "      <td>1.01</td>\n",
       "      <td>0.82</td>\n",
       "    </tr>\n",
       "  </tbody>\n",
       "</table>\n",
       "</div>"
      ],
      "text/plain": [
       "source      model  survey\n",
       "mode                     \n",
       "Bike         4.92    3.68\n",
       "HOV2         5.80    5.96\n",
       "HOV3+        5.82    5.08\n",
       "SOV          7.12    7.16\n",
       "School Bus   3.04    3.55\n",
       "TNC          2.28    4.94\n",
       "Transit      9.05    9.06\n",
       "Walk         1.01    0.82"
      ]
     },
     "execution_count": 30,
     "metadata": {},
     "output_type": "execute_result"
    },
    {
     "data": {
      "image/png": "[encoded data removed]",
      "text/plain": [
       "<Figure size 432x288 with 1 Axes>"
      ]
     },
     "metadata": {
      "needs_background": "light"
     },
     "output_type": "display_data"
    }
   ],
   "source": [
    "df = load_data('trip_distance')\n",
    "# Trim any unreasonable survey distances off by taking max distance as max modeled bin value\n",
    "max_model_dist = df.loc[(df['source']=='model'), 'travdist_bin'].max()\n",
    "df = df.loc[df['travdist_bin'] <= max_model_dist]\n",
    "df['wt_autodist'] = (df['travdist_bin']+0.5)*(df['trexpfac'])\n",
    "df_dist = pd.DataFrame()\n",
    "for source in ['model','survey']:\n",
    "    _df = df[(df['source'] == source)]\n",
    "    df1 = _df.groupby('mode').sum()[['wt_autodist']].reset_index()\n",
    "    df2 = _df.groupby('mode').sum()[['trexpfac']].reset_index ()\n",
    "    _df = df1.merge(df2, on='mode')\n",
    "    _df['wt_distance'] = _df['wt_autodist']/_df['trexpfac']\n",
    "    _df['source'] = source\n",
    "    df_dist = df_dist.append(_df)\n",
    "df = df_dist.pivot_table(index='mode', columns='source', aggfunc='first', values='wt_distance')\n",
    "df.rename(columns={'dpurp': 'Tour Purpose'}, inplace=True)\n",
    "df.plot(kind='barh', alpha=0.6)\n",
    "df"
   ]
  },
  {
   "cell_type": "markdown",
   "metadata": {},
   "source": [
    "# Trip Destination District"
   ]
  },
  {
   "cell_type": "code",
   "execution_count": 31,
   "metadata": {
    "execution": {
     "iopub.execute_input": "2021-06-10T22:11:36.986114Z",
     "iopub.status.busy": "2021-06-10T22:11:36.970492Z",
     "iopub.status.idle": "2021-06-10T22:11:37.298540Z",
     "shell.execute_reply": "2021-06-10T22:11:37.298540Z"
    }
   },
   "outputs": [
    {
     "data": {
      "text/html": [
       "<div>\n",
       "<style scoped>\n",
       "    .dataframe tbody tr th:only-of-type {\n",
       "        vertical-align: middle;\n",
       "    }\n",
       "\n",
       "    .dataframe tbody tr th {\n",
       "        vertical-align: top;\n",
       "    }\n",
       "\n",
       "    .dataframe thead th {\n",
       "        text-align: right;\n",
       "    }\n",
       "</style>\n",
       "<table border=\"1\" class=\"dataframe\">\n",
       "  <thead>\n",
       "    <tr style=\"text-align: right;\">\n",
       "      <th></th>\n",
       "      <th>model</th>\n",
       "      <th>survey</th>\n",
       "    </tr>\n",
       "  </thead>\n",
       "  <tbody>\n",
       "    <tr>\n",
       "      <th>Suburban Snohomish</th>\n",
       "      <td>8.20%</td>\n",
       "      <td>8.82%</td>\n",
       "    </tr>\n",
       "    <tr>\n",
       "      <th>Everett-Lynwood-Edmonds</th>\n",
       "      <td>8.32%</td>\n",
       "      <td>7.36%</td>\n",
       "    </tr>\n",
       "    <tr>\n",
       "      <th>North Seattle-Shoreline</th>\n",
       "      <td>8.56%</td>\n",
       "      <td>10.19%</td>\n",
       "    </tr>\n",
       "    <tr>\n",
       "      <th>Seattle CBD</th>\n",
       "      <td>11.47%</td>\n",
       "      <td>10.76%</td>\n",
       "    </tr>\n",
       "    <tr>\n",
       "      <th>West-South Seattle</th>\n",
       "      <td>6.24%</td>\n",
       "      <td>5.75%</td>\n",
       "    </tr>\n",
       "    <tr>\n",
       "      <th>East Side</th>\n",
       "      <td>16.52%</td>\n",
       "      <td>19.50%</td>\n",
       "    </tr>\n",
       "    <tr>\n",
       "      <th>Renton-FedWay-Kent</th>\n",
       "      <td>16.33%</td>\n",
       "      <td>11.70%</td>\n",
       "    </tr>\n",
       "    <tr>\n",
       "      <th>Tacoma</th>\n",
       "      <td>7.21%</td>\n",
       "      <td>7.21%</td>\n",
       "    </tr>\n",
       "    <tr>\n",
       "      <th>Kitsap</th>\n",
       "      <td>5.72%</td>\n",
       "      <td>6.63%</td>\n",
       "    </tr>\n",
       "    <tr>\n",
       "      <th>South Pierce</th>\n",
       "      <td>9.99%</td>\n",
       "      <td>9.97%</td>\n",
       "    </tr>\n",
       "    <tr>\n",
       "      <th>S.Kitsap</th>\n",
       "      <td>1.45%</td>\n",
       "      <td>2.12%</td>\n",
       "    </tr>\n",
       "  </tbody>\n",
       "</table>\n",
       "</div>"
      ],
      "text/plain": [
       "                         model  survey\n",
       "Suburban Snohomish       8.20%   8.82%\n",
       "Everett-Lynwood-Edmonds  8.32%   7.36%\n",
       "North Seattle-Shoreline  8.56%  10.19%\n",
       "Seattle CBD             11.47%  10.76%\n",
       "West-South Seattle       6.24%   5.75%\n",
       "East Side               16.52%  19.50%\n",
       "Renton-FedWay-Kent      16.33%  11.70%\n",
       "Tacoma                   7.21%   7.21%\n",
       "Kitsap                   5.72%   6.63%\n",
       "South Pierce             9.99%   9.97%\n",
       "S.Kitsap                 1.45%   2.12%"
      ]
     },
     "execution_count": 31,
     "metadata": {},
     "output_type": "execute_result"
    },
    {
     "data": {
      "image/png": "[encoded data removed]",
      "text/plain": [
       "<Figure size 432x288 with 1 Axes>"
      ]
     },
     "metadata": {
      "needs_background": "light"
     },
     "output_type": "display_data"
    }
   ],
   "source": [
    "pd.options.display.float_format = '{:0,.2%}'.format\n",
    "\n",
    "_df = pd.DataFrame()\n",
    "for id, name in district_lookup.items():\n",
    "    df = load_data('tour_total_tour_d_district_'+name)\n",
    "    for source in ['model','survey']:\n",
    "        _df.loc[name,source] = df[df['source'] == source]['toexpfac'].sum()\n",
    "        \n",
    "_df = _df/_df.sum()\n",
    "_df.plot(kind='barh', alpha=0.6)\n",
    "_df"
   ]
  },
  {
   "cell_type": "code",
   "execution_count": null,
   "metadata": {},
   "outputs": [],
   "source": []
  },
  {
   "cell_type": "code",
   "execution_count": null,
   "metadata": {},
   "outputs": [],
   "source": []
  }
 ],
 "metadata": {
  "kernelspec": {
   "display_name": "Python 3",
   "language": "python",
   "name": "python3"
  },
  "language_info": {
   "codemirror_mode": {
    "name": "ipython",
    "version": 3
   },
   "file_extension": ".py",
   "mimetype": "text/x-python",
   "name": "python",
   "nbconvert_exporter": "python",
   "pygments_lexer": "ipython3",
   "version": "3.7.10"
  }
 },
 "nbformat": 4,
 "nbformat_minor": 4
}
