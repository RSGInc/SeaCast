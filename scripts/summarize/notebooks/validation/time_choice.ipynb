{
 "cells": [
  {
   "cell_type": "code",
   "execution_count": 1,
   "metadata": {
    "execution": {
     "iopub.execute_input": "2021-06-10T22:11:05.654909Z",
     "iopub.status.busy": "2021-06-10T22:11:05.654909Z",
     "iopub.status.idle": "2021-06-10T22:11:06.564409Z",
     "shell.execute_reply": "2021-06-10T22:11:06.564409Z"
    }
   },
   "outputs": [],
   "source": [
    "import warnings\n",
    "warnings.simplefilter(action='ignore', category=FutureWarning)\n",
    "import pandas as pd\n",
    "import os, sys\n",
    "%matplotlib inline\n",
    "\n",
    "os.chdir('..\\..\\..\\..')\n",
    "\n",
    "from input_configuration import base_year\n",
    "\n",
    "from IPython.display import display, HTML\n",
    "\n",
    "if (sys.version_info < (3, 0)):\n",
    "    HTML('''<script>\n",
    "    code_show=true; \n",
    "    function code_toggle() {\n",
    "     if (code_show){\n",
    "     $('div.input').hide();\n",
    "     } else {\n",
    "     $('div.input').show();\n",
    "     }\n",
    "     code_show = !code_show\n",
    "    } \n",
    "    $( document ).ready(code_toggle);\n",
    "    </script>\n",
    "    <form action=\"javascript:code_toggle()\"><input type=\"submit\" value=\"Click here to toggle on/off the raw code.\"></form>''')\n"
   ]
  },
  {
   "cell_type": "code",
   "execution_count": 2,
   "metadata": {
    "execution": {
     "iopub.execute_input": "2021-06-10T22:11:06.564409Z",
     "iopub.status.busy": "2021-06-10T22:11:06.564409Z",
     "iopub.status.idle": "2021-06-10T22:11:06.580037Z",
     "shell.execute_reply": "2021-06-10T22:11:06.580037Z"
    }
   },
   "outputs": [],
   "source": [
    "working_dir = r'outputs/agg/dash'\n",
    "pd.options.display.float_format = '{:0,.0f}'.format\n",
    "format_percent = \"{:,.1%}\".format"
   ]
  },
  {
   "cell_type": "code",
   "execution_count": 3,
   "metadata": {
    "execution": {
     "iopub.execute_input": "2021-06-10T22:11:06.580037Z",
     "iopub.status.busy": "2021-06-10T22:11:06.580037Z",
     "iopub.status.idle": "2021-06-10T22:11:06.595650Z",
     "shell.execute_reply": "2021-06-10T22:11:06.595650Z"
    }
   },
   "outputs": [],
   "source": [
    "def load_data(fname):\n",
    "    \"\"\" open and join model and survey data \"\"\"\n",
    "\n",
    "    df_model = pd.read_csv(os.path.join(working_dir,fname+'.csv'))\n",
    "    df_model['source'] = 'model'\n",
    "    df_survey = pd.read_csv(os.path.join(working_dir,'survey',fname+'.csv'))\n",
    "    df_survey['source'] = 'survey'\n",
    "    df = df_model.append(df_survey)\n",
    "\n",
    "    return df"
   ]
  },
  {
   "cell_type": "markdown",
   "metadata": {},
   "source": [
    "# Trip Departure Hour"
   ]
  },
  {
   "cell_type": "code",
   "execution_count": 4,
   "metadata": {
    "execution": {
     "iopub.execute_input": "2021-06-10T22:11:06.595650Z",
     "iopub.status.busy": "2021-06-10T22:11:06.595650Z",
     "iopub.status.idle": "2021-06-10T22:11:06.736242Z",
     "shell.execute_reply": "2021-06-10T22:11:06.736242Z"
    }
   },
   "outputs": [],
   "source": [
    "df = load_data('trip_purpose_mode')\n",
    "_df = df.pivot_table(index='deptm_hr', columns='source', aggfunc='sum', values='trexpfac')"
   ]
  },
  {
   "cell_type": "code",
   "execution_count": 5,
   "metadata": {
    "execution": {
     "iopub.execute_input": "2021-06-10T22:11:06.736242Z",
     "iopub.status.busy": "2021-06-10T22:11:06.736242Z",
     "iopub.status.idle": "2021-06-10T22:11:07.095533Z",
     "shell.execute_reply": "2021-06-10T22:11:07.095533Z"
    }
   },
   "outputs": [
    {
     "data": {
      "text/plain": [
       "<AxesSubplot:xlabel='deptm_hr'>"
      ]
     },
     "execution_count": 1,
     "metadata": {},
     "output_type": "execute_result"
    },
    {
     "data": {
      "image/png": "[encoded data removed]",
      "text/plain": [
       "<Figure size 432x288 with 1 Axes>"
      ]
     },
     "metadata": {
      "needs_background": "light"
     },
     "output_type": "display_data"
    }
   ],
   "source": [
    "_df = _df/_df.sum()\n",
    "_df.plot(kind='bar')"
   ]
  },
  {
   "cell_type": "markdown",
   "metadata": {},
   "source": [
    "# Tour Origin Departure Hour"
   ]
  },
  {
   "cell_type": "code",
   "execution_count": 6,
   "metadata": {
    "execution": {
     "iopub.execute_input": "2021-06-10T22:11:07.095533Z",
     "iopub.status.busy": "2021-06-10T22:11:07.095533Z",
     "iopub.status.idle": "2021-06-10T22:11:07.173639Z",
     "shell.execute_reply": "2021-06-10T22:11:07.173639Z"
    }
   },
   "outputs": [
    {
     "data": {
      "text/html": [
       "<div>\n",
       "<style scoped>\n",
       "    .dataframe tbody tr th:only-of-type {\n",
       "        vertical-align: middle;\n",
       "    }\n",
       "\n",
       "    .dataframe tbody tr th {\n",
       "        vertical-align: top;\n",
       "    }\n",
       "\n",
       "    .dataframe thead th {\n",
       "        text-align: right;\n",
       "    }\n",
       "</style>\n",
       "<table border=\"1\" class=\"dataframe\">\n",
       "  <thead>\n",
       "    <tr style=\"text-align: right;\">\n",
       "      <th>source</th>\n",
       "      <th>model</th>\n",
       "      <th>survey</th>\n",
       "    </tr>\n",
       "    <tr>\n",
       "      <th>tlvorg_hr</th>\n",
       "      <th></th>\n",
       "      <th></th>\n",
       "    </tr>\n",
       "  </thead>\n",
       "  <tbody>\n",
       "    <tr>\n",
       "      <th>0</th>\n",
       "      <td>4,347</td>\n",
       "      <td>6,725</td>\n",
       "    </tr>\n",
       "    <tr>\n",
       "      <th>1</th>\n",
       "      <td>2,850</td>\n",
       "      <td>15,677</td>\n",
       "    </tr>\n",
       "    <tr>\n",
       "      <th>2</th>\n",
       "      <td>1,172</td>\n",
       "      <td>55,540</td>\n",
       "    </tr>\n",
       "    <tr>\n",
       "      <th>3</th>\n",
       "      <td>80,293</td>\n",
       "      <td>221,312</td>\n",
       "    </tr>\n",
       "    <tr>\n",
       "      <th>4</th>\n",
       "      <td>68,652</td>\n",
       "      <td>399,436</td>\n",
       "    </tr>\n",
       "    <tr>\n",
       "      <th>5</th>\n",
       "      <td>162,728</td>\n",
       "      <td>451,156</td>\n",
       "    </tr>\n",
       "    <tr>\n",
       "      <th>6</th>\n",
       "      <td>441,183</td>\n",
       "      <td>643,285</td>\n",
       "    </tr>\n",
       "    <tr>\n",
       "      <th>7</th>\n",
       "      <td>709,162</td>\n",
       "      <td>811,628</td>\n",
       "    </tr>\n",
       "    <tr>\n",
       "      <th>8</th>\n",
       "      <td>754,077</td>\n",
       "      <td>690,156</td>\n",
       "    </tr>\n",
       "    <tr>\n",
       "      <th>9</th>\n",
       "      <td>557,982</td>\n",
       "      <td>428,277</td>\n",
       "    </tr>\n",
       "    <tr>\n",
       "      <th>10</th>\n",
       "      <td>452,118</td>\n",
       "      <td>358,075</td>\n",
       "    </tr>\n",
       "    <tr>\n",
       "      <th>11</th>\n",
       "      <td>385,890</td>\n",
       "      <td>325,471</td>\n",
       "    </tr>\n",
       "    <tr>\n",
       "      <th>12</th>\n",
       "      <td>366,800</td>\n",
       "      <td>331,180</td>\n",
       "    </tr>\n",
       "    <tr>\n",
       "      <th>13</th>\n",
       "      <td>335,522</td>\n",
       "      <td>252,723</td>\n",
       "    </tr>\n",
       "    <tr>\n",
       "      <th>14</th>\n",
       "      <td>312,387</td>\n",
       "      <td>313,129</td>\n",
       "    </tr>\n",
       "    <tr>\n",
       "      <th>15</th>\n",
       "      <td>292,700</td>\n",
       "      <td>355,208</td>\n",
       "    </tr>\n",
       "    <tr>\n",
       "      <th>16</th>\n",
       "      <td>327,637</td>\n",
       "      <td>312,977</td>\n",
       "    </tr>\n",
       "    <tr>\n",
       "      <th>17</th>\n",
       "      <td>333,317</td>\n",
       "      <td>352,623</td>\n",
       "    </tr>\n",
       "    <tr>\n",
       "      <th>18</th>\n",
       "      <td>327,027</td>\n",
       "      <td>235,928</td>\n",
       "    </tr>\n",
       "    <tr>\n",
       "      <th>19</th>\n",
       "      <td>208,884</td>\n",
       "      <td>143,042</td>\n",
       "    </tr>\n",
       "    <tr>\n",
       "      <th>20</th>\n",
       "      <td>159,781</td>\n",
       "      <td>78,930</td>\n",
       "    </tr>\n",
       "    <tr>\n",
       "      <th>21</th>\n",
       "      <td>99,702</td>\n",
       "      <td>18,038</td>\n",
       "    </tr>\n",
       "    <tr>\n",
       "      <th>22</th>\n",
       "      <td>24,296</td>\n",
       "      <td>4,211</td>\n",
       "    </tr>\n",
       "    <tr>\n",
       "      <th>23</th>\n",
       "      <td>11,414</td>\n",
       "      <td>2,905</td>\n",
       "    </tr>\n",
       "  </tbody>\n",
       "</table>\n",
       "</div>"
      ],
      "text/plain": [
       "source      model  survey\n",
       "tlvorg_hr                \n",
       "0           4,347   6,725\n",
       "1           2,850  15,677\n",
       "2           1,172  55,540\n",
       "3          80,293 221,312\n",
       "4          68,652 399,436\n",
       "5         162,728 451,156\n",
       "6         441,183 643,285\n",
       "7         709,162 811,628\n",
       "8         754,077 690,156\n",
       "9         557,982 428,277\n",
       "10        452,118 358,075\n",
       "11        385,890 325,471\n",
       "12        366,800 331,180\n",
       "13        335,522 252,723\n",
       "14        312,387 313,129\n",
       "15        292,700 355,208\n",
       "16        327,637 312,977\n",
       "17        333,317 352,623\n",
       "18        327,027 235,928\n",
       "19        208,884 143,042\n",
       "20        159,781  78,930\n",
       "21         99,702  18,038\n",
       "22         24,296   4,211\n",
       "23         11,414   2,905"
      ]
     },
     "execution_count": 1,
     "metadata": {},
     "output_type": "execute_result"
    }
   ],
   "source": [
    "df = load_data('tour_purpose_mode')\n",
    "_df = df.pivot_table(index='tlvorg_hr', columns='source', aggfunc='sum', values='toexpfac')\n",
    "_df"
   ]
  },
  {
   "cell_type": "code",
   "execution_count": 7,
   "metadata": {
    "execution": {
     "iopub.execute_input": "2021-06-10T22:11:07.204885Z",
     "iopub.status.busy": "2021-06-10T22:11:07.204885Z",
     "iopub.status.idle": "2021-06-10T22:11:07.454824Z",
     "shell.execute_reply": "2021-06-10T22:11:07.454824Z"
    }
   },
   "outputs": [
    {
     "data": {
      "text/plain": [
       "<AxesSubplot:xlabel='tlvorg_hr'>"
      ]
     },
     "execution_count": 1,
     "metadata": {},
     "output_type": "execute_result"
    },
    {
     "data": {
      "image/png": "[encoded data removed]",
      "text/plain": [
       "<Figure size 432x288 with 1 Axes>"
      ]
     },
     "metadata": {
      "needs_background": "light"
     },
     "output_type": "display_data"
    }
   ],
   "source": [
    "_df = _df/_df.sum()\n",
    "_df.plot(kind='bar')"
   ]
  },
  {
   "cell_type": "code",
   "execution_count": 8,
   "metadata": {
    "execution": {
     "iopub.execute_input": "2021-06-10T22:11:07.470444Z",
     "iopub.status.busy": "2021-06-10T22:11:07.454824Z",
     "iopub.status.idle": "2021-06-10T22:11:07.470444Z",
     "shell.execute_reply": "2021-06-10T22:11:07.470444Z"
    }
   },
   "outputs": [
    {
     "data": {
      "text/plain": [
       "source\n",
       "model    1\n",
       "survey   1\n",
       "dtype: float64"
      ]
     },
     "execution_count": 1,
     "metadata": {},
     "output_type": "execute_result"
    }
   ],
   "source": [
    "_df.sum()"
   ]
  },
  {
   "cell_type": "code",
   "execution_count": null,
   "metadata": {},
   "outputs": [],
   "source": []
  }
 ],
 "metadata": {
  "kernelspec": {
   "display_name": "Python 3",
   "language": "python",
   "name": "python3"
  },
  "language_info": {
   "codemirror_mode": {
    "name": "ipython",
    "version": 3
   },
   "file_extension": ".py",
   "mimetype": "text/x-python",
   "name": "python",
   "nbconvert_exporter": "python",
   "pygments_lexer": "ipython3",
   "version": "3.7.10"
  }
 },
 "nbformat": 4,
 "nbformat_minor": 4
}
