{
 "cells": [
  {
   "cell_type": "code",
   "execution_count": 13,
   "metadata": {
    "execution": {
     "iopub.execute_input": "2021-06-10T22:08:00.311088Z",
     "iopub.status.busy": "2021-06-10T22:08:00.311088Z",
     "iopub.status.idle": "2021-06-10T22:08:00.905102Z",
     "shell.execute_reply": "2021-06-10T22:08:00.905102Z"
    }
   },
   "outputs": [],
   "source": [
    "import pandas as pd\n",
    "import os\n",
    "from settings import comparison_dict"
   ]
  },
  {
   "cell_type": "code",
   "execution_count": 14,
   "metadata": {
    "execution": {
     "iopub.execute_input": "2021-06-10T22:08:00.920804Z",
     "iopub.status.busy": "2021-06-10T22:08:00.920804Z",
     "iopub.status.idle": "2021-06-10T22:08:00.936389Z",
     "shell.execute_reply": "2021-06-10T22:08:00.936389Z"
    }
   },
   "outputs": [],
   "source": [
    "def load_data(fname, geog):\n",
    "    df = pd.DataFrame()\n",
    "    for scen_name, scen_path in comparison_dict.items():\n",
    "        _df = pd.read_csv(os.path.join(scen_path,r'outputs\\compare', geog ,fname))\n",
    "        _df['source'] = scen_name\n",
    "        df = df.append(_df)\n",
    "    \n",
    "    return df"
   ]
  },
  {
   "cell_type": "code",
   "execution_count": 15,
   "metadata": {
    "execution": {
     "iopub.execute_input": "2021-06-10T22:08:00.936389Z",
     "iopub.status.busy": "2021-06-10T22:08:00.936389Z",
     "iopub.status.idle": "2021-06-10T22:08:00.952092Z",
     "shell.execute_reply": "2021-06-10T22:08:00.952092Z"
    }
   },
   "outputs": [],
   "source": [
    "geog = 'lowinc'\n",
    "geog_col = 'hh_lowinc'"
   ]
  },
  {
   "cell_type": "markdown",
   "metadata": {},
   "source": [
    "# Population"
   ]
  },
  {
   "cell_type": "code",
   "execution_count": 16,
   "metadata": {
    "execution": {
     "iopub.execute_input": "2021-06-10T22:08:00.952092Z",
     "iopub.status.busy": "2021-06-10T22:08:00.952092Z",
     "iopub.status.idle": "2021-06-10T22:08:01.014588Z",
     "shell.execute_reply": "2021-06-10T22:08:01.014588Z"
    }
   },
   "outputs": [],
   "source": [
    "pd.options.display.float_format = '{:0,.0f}'.format\n",
    "df = load_data('1_population.csv', geog)\n",
    "df = df.pivot_table(index=geog_col, columns='source', aggfunc='sum', values='Persons')"
   ]
  },
  {
   "cell_type": "code",
   "execution_count": 17,
   "metadata": {
    "execution": {
     "iopub.execute_input": "2021-06-10T22:08:01.014588Z",
     "iopub.status.busy": "2021-06-10T22:08:01.014588Z",
     "iopub.status.idle": "2021-06-10T22:08:01.530056Z",
     "shell.execute_reply": "2021-06-10T22:08:01.530056Z"
    }
   },
   "outputs": [
    {
     "data": {
      "text/html": [
       "<div>\n",
       "<style scoped>\n",
       "    .dataframe tbody tr th:only-of-type {\n",
       "        vertical-align: middle;\n",
       "    }\n",
       "\n",
       "    .dataframe tbody tr th {\n",
       "        vertical-align: top;\n",
       "    }\n",
       "\n",
       "    .dataframe thead th {\n",
       "        text-align: right;\n",
       "    }\n",
       "</style>\n",
       "<table border=\"1\" class=\"dataframe\">\n",
       "  <thead>\n",
       "    <tr style=\"text-align: right;\">\n",
       "      <th>source</th>\n",
       "      <th>Base</th>\n",
       "      <th>Scenario 1</th>\n",
       "      <th>Scenario 2</th>\n",
       "    </tr>\n",
       "    <tr>\n",
       "      <th>hh_lowinc</th>\n",
       "      <th></th>\n",
       "      <th></th>\n",
       "      <th></th>\n",
       "    </tr>\n",
       "  </thead>\n",
       "  <tbody>\n",
       "    <tr>\n",
       "      <th>0</th>\n",
       "      <td>3,752,530</td>\n",
       "      <td>3,752,530</td>\n",
       "      <td>3,752,530</td>\n",
       "    </tr>\n",
       "    <tr>\n",
       "      <th>1</th>\n",
       "      <td>287,483</td>\n",
       "      <td>287,483</td>\n",
       "      <td>287,483</td>\n",
       "    </tr>\n",
       "  </tbody>\n",
       "</table>\n",
       "</div>"
      ],
      "text/plain": [
       "source         Base  Scenario 1  Scenario 2\n",
       "hh_lowinc                                  \n",
       "0         3,752,530   3,752,530   3,752,530\n",
       "1           287,483     287,483     287,483"
      ]
     },
     "execution_count": 17,
     "metadata": {},
     "output_type": "execute_result"
    },
    {
     "data": {
      "image/png": "[encoded data removed]",
      "text/plain": [
       "<Figure size 432x288 with 1 Axes>"
      ]
     },
     "metadata": {
      "needs_background": "light"
     },
     "output_type": "display_data"
    }
   ],
   "source": [
    "df.plot(kind='barh', alpha=0.6).invert_yaxis()\n",
    "df"
   ]
  },
  {
   "cell_type": "markdown",
   "metadata": {},
   "source": [
    "# Employment"
   ]
  },
  {
   "cell_type": "code",
   "execution_count": 18,
   "metadata": {
    "execution": {
     "iopub.execute_input": "2021-06-10T22:08:01.530056Z",
     "iopub.status.busy": "2021-06-10T22:08:01.530056Z",
     "iopub.status.idle": "2021-06-10T22:08:01.592542Z",
     "shell.execute_reply": "2021-06-10T22:08:01.592542Z"
    }
   },
   "outputs": [
    {
     "data": {
      "text/html": [
       "<div>\n",
       "<style scoped>\n",
       "    .dataframe tbody tr th:only-of-type {\n",
       "        vertical-align: middle;\n",
       "    }\n",
       "\n",
       "    .dataframe tbody tr th {\n",
       "        vertical-align: top;\n",
       "    }\n",
       "\n",
       "    .dataframe thead th {\n",
       "        text-align: right;\n",
       "    }\n",
       "</style>\n",
       "<table border=\"1\" class=\"dataframe\">\n",
       "  <thead>\n",
       "    <tr style=\"text-align: right;\">\n",
       "      <th>source</th>\n",
       "      <th>Base</th>\n",
       "      <th>Scenario 1</th>\n",
       "      <th>Scenario 2</th>\n",
       "    </tr>\n",
       "    <tr>\n",
       "      <th>hh_lowinc</th>\n",
       "      <th></th>\n",
       "      <th></th>\n",
       "      <th></th>\n",
       "    </tr>\n",
       "  </thead>\n",
       "  <tbody>\n",
       "    <tr>\n",
       "      <th>0</th>\n",
       "      <td>1,887,165</td>\n",
       "      <td>1,887,165</td>\n",
       "      <td>1,887,165</td>\n",
       "    </tr>\n",
       "    <tr>\n",
       "      <th>1</th>\n",
       "      <td>131,419</td>\n",
       "      <td>131,419</td>\n",
       "      <td>131,419</td>\n",
       "    </tr>\n",
       "  </tbody>\n",
       "</table>\n",
       "</div>"
      ],
      "text/plain": [
       "source         Base  Scenario 1  Scenario 2\n",
       "hh_lowinc                                  \n",
       "0         1,887,165   1,887,165   1,887,165\n",
       "1           131,419     131,419     131,419"
      ]
     },
     "execution_count": 18,
     "metadata": {},
     "output_type": "execute_result"
    }
   ],
   "source": [
    "df = load_data('2_employment.csv', geog)\n",
    "df['Workers'] = df['Paid Full-Time Worker']+df['Paid Part-Time Worker']\n",
    "df = df.pivot_table(index=geog_col, columns='source', aggfunc='sum', values='Workers')\n",
    "df"
   ]
  },
  {
   "cell_type": "markdown",
   "metadata": {},
   "source": [
    "# Transit Ridership"
   ]
  },
  {
   "cell_type": "code",
   "execution_count": 19,
   "metadata": {
    "execution": {
     "iopub.execute_input": "2021-06-10T22:08:01.592542Z",
     "iopub.status.busy": "2021-06-10T22:08:01.592542Z",
     "iopub.status.idle": "2021-06-10T22:08:01.826660Z",
     "shell.execute_reply": "2021-06-10T22:08:01.826660Z"
    }
   },
   "outputs": [
    {
     "data": {
      "text/html": [
       "<div>\n",
       "<style scoped>\n",
       "    .dataframe tbody tr th:only-of-type {\n",
       "        vertical-align: middle;\n",
       "    }\n",
       "\n",
       "    .dataframe tbody tr th {\n",
       "        vertical-align: top;\n",
       "    }\n",
       "\n",
       "    .dataframe thead th {\n",
       "        text-align: right;\n",
       "    }\n",
       "</style>\n",
       "<table border=\"1\" class=\"dataframe\">\n",
       "  <thead>\n",
       "    <tr style=\"text-align: right;\">\n",
       "      <th>source</th>\n",
       "      <th>Base</th>\n",
       "      <th>Scenario 1</th>\n",
       "      <th>Scenario 2</th>\n",
       "    </tr>\n",
       "    <tr>\n",
       "      <th>hh_lowinc</th>\n",
       "      <th></th>\n",
       "      <th></th>\n",
       "      <th></th>\n",
       "    </tr>\n",
       "  </thead>\n",
       "  <tbody>\n",
       "    <tr>\n",
       "      <th>0</th>\n",
       "      <td>422,039</td>\n",
       "      <td>422,039</td>\n",
       "      <td>422,039</td>\n",
       "    </tr>\n",
       "    <tr>\n",
       "      <th>1</th>\n",
       "      <td>48,120</td>\n",
       "      <td>48,120</td>\n",
       "      <td>48,120</td>\n",
       "    </tr>\n",
       "  </tbody>\n",
       "</table>\n",
       "</div>"
      ],
      "text/plain": [
       "source       Base  Scenario 1  Scenario 2\n",
       "hh_lowinc                                \n",
       "0         422,039     422,039     422,039\n",
       "1          48,120      48,120      48,120"
      ]
     },
     "execution_count": 19,
     "metadata": {},
     "output_type": "execute_result"
    },
    {
     "data": {
      "image/png": "[encoded data removed]",
      "text/plain": [
       "<Figure size 432x288 with 1 Axes>"
      ]
     },
     "metadata": {
      "needs_background": "light"
     },
     "output_type": "display_data"
    }
   ],
   "source": [
    "df = load_data('3_transit_trips.csv', geog)\n",
    "df = df.pivot_table(index=geog_col, columns='source', aggfunc='sum', values='trexpfac')\n",
    "df.plot(kind='barh', alpha=0.6).invert_yaxis()\n",
    "df"
   ]
  },
  {
   "cell_type": "markdown",
   "metadata": {},
   "source": [
    "## Transit Commute Mode Share"
   ]
  },
  {
   "cell_type": "code",
   "execution_count": 20,
   "metadata": {
    "execution": {
     "iopub.execute_input": "2021-06-10T22:08:01.826660Z",
     "iopub.status.busy": "2021-06-10T22:08:01.826660Z",
     "iopub.status.idle": "2021-06-10T22:08:02.045358Z",
     "shell.execute_reply": "2021-06-10T22:08:02.045358Z"
    }
   },
   "outputs": [
    {
     "data": {
      "text/html": [
       "<div>\n",
       "<style scoped>\n",
       "    .dataframe tbody tr th:only-of-type {\n",
       "        vertical-align: middle;\n",
       "    }\n",
       "\n",
       "    .dataframe tbody tr th {\n",
       "        vertical-align: top;\n",
       "    }\n",
       "\n",
       "    .dataframe thead th {\n",
       "        text-align: right;\n",
       "    }\n",
       "</style>\n",
       "<table border=\"1\" class=\"dataframe\">\n",
       "  <thead>\n",
       "    <tr style=\"text-align: right;\">\n",
       "      <th>source</th>\n",
       "      <th>Base</th>\n",
       "      <th>Scenario 1</th>\n",
       "      <th>Scenario 2</th>\n",
       "    </tr>\n",
       "    <tr>\n",
       "      <th>hh_lowinc</th>\n",
       "      <th></th>\n",
       "      <th></th>\n",
       "      <th></th>\n",
       "    </tr>\n",
       "  </thead>\n",
       "  <tbody>\n",
       "    <tr>\n",
       "      <th>0</th>\n",
       "      <td>5.7%</td>\n",
       "      <td>5.7%</td>\n",
       "      <td>5.7%</td>\n",
       "    </tr>\n",
       "    <tr>\n",
       "      <th>1</th>\n",
       "      <td>8.1%</td>\n",
       "      <td>8.1%</td>\n",
       "      <td>8.1%</td>\n",
       "    </tr>\n",
       "  </tbody>\n",
       "</table>\n",
       "</div>"
      ],
      "text/plain": [
       "source     Base  Scenario 1  Scenario 2\n",
       "hh_lowinc                              \n",
       "0          5.7%        5.7%        5.7%\n",
       "1          8.1%        8.1%        8.1%"
      ]
     },
     "execution_count": 20,
     "metadata": {},
     "output_type": "execute_result"
    },
    {
     "data": {
      "image/png": "[encoded data removed]",
      "text/plain": [
       "<Figure size 432x288 with 1 Axes>"
      ]
     },
     "metadata": {
      "needs_background": "light"
     },
     "output_type": "display_data"
    }
   ],
   "source": [
    "pd.options.display.float_format = '{:0,.1%}'.format\n",
    "df = load_data('4_transit_commute_share.csv', geog)\n",
    "df = df.pivot_table(index=geog_col, columns='source', aggfunc='sum', values='mode_share')\n",
    "df.plot(kind='barh', alpha=0.6).invert_yaxis()\n",
    "df"
   ]
  },
  {
   "cell_type": "markdown",
   "metadata": {},
   "source": [
    "# VMT"
   ]
  },
  {
   "cell_type": "code",
   "execution_count": 21,
   "metadata": {
    "execution": {
     "iopub.execute_input": "2021-06-10T22:08:02.045358Z",
     "iopub.status.busy": "2021-06-10T22:08:02.045358Z",
     "iopub.status.idle": "2021-06-10T22:08:02.248732Z",
     "shell.execute_reply": "2021-06-10T22:08:02.248732Z"
    }
   },
   "outputs": [
    {
     "data": {
      "text/html": [
       "<div>\n",
       "<style scoped>\n",
       "    .dataframe tbody tr th:only-of-type {\n",
       "        vertical-align: middle;\n",
       "    }\n",
       "\n",
       "    .dataframe tbody tr th {\n",
       "        vertical-align: top;\n",
       "    }\n",
       "\n",
       "    .dataframe thead th {\n",
       "        text-align: right;\n",
       "    }\n",
       "</style>\n",
       "<table border=\"1\" class=\"dataframe\">\n",
       "  <thead>\n",
       "    <tr style=\"text-align: right;\">\n",
       "      <th>source</th>\n",
       "      <th>Base</th>\n",
       "      <th>Scenario 1</th>\n",
       "      <th>Scenario 2</th>\n",
       "    </tr>\n",
       "    <tr>\n",
       "      <th>hh_lowinc</th>\n",
       "      <th></th>\n",
       "      <th></th>\n",
       "      <th></th>\n",
       "    </tr>\n",
       "  </thead>\n",
       "  <tbody>\n",
       "    <tr>\n",
       "      <th>0</th>\n",
       "      <td>64,863,159</td>\n",
       "      <td>64,863,159</td>\n",
       "      <td>64,863,159</td>\n",
       "    </tr>\n",
       "    <tr>\n",
       "      <th>1</th>\n",
       "      <td>3,638,585</td>\n",
       "      <td>3,638,585</td>\n",
       "      <td>3,638,585</td>\n",
       "    </tr>\n",
       "    <tr>\n",
       "      <th>Total</th>\n",
       "      <td>68,501,744</td>\n",
       "      <td>68,501,744</td>\n",
       "      <td>68,501,744</td>\n",
       "    </tr>\n",
       "  </tbody>\n",
       "</table>\n",
       "</div>"
      ],
      "text/plain": [
       "source          Base  Scenario 1  Scenario 2\n",
       "hh_lowinc                                   \n",
       "0         64,863,159  64,863,159  64,863,159\n",
       "1          3,638,585   3,638,585   3,638,585\n",
       "Total     68,501,744  68,501,744  68,501,744"
      ]
     },
     "execution_count": 21,
     "metadata": {},
     "output_type": "execute_result"
    },
    {
     "data": {
      "image/png": "[encoded data removed]",
      "text/plain": [
       "<Figure size 432x288 with 1 Axes>"
      ]
     },
     "metadata": {
      "needs_background": "light"
     },
     "output_type": "display_data"
    }
   ],
   "source": [
    "pd.options.display.float_format = '{:0,.0f}'.format\n",
    "df = load_data('5_vmt.csv', geog)\n",
    "df = df.pivot_table(index=geog_col, columns='source', aggfunc='sum', values='VMT')\n",
    "df.plot(kind='barh', alpha=0.6).invert_yaxis()\n",
    "df.loc['Total'] = df.sum(axis=0)\n",
    "df"
   ]
  },
  {
   "cell_type": "code",
   "execution_count": 22,
   "metadata": {},
   "outputs": [
    {
     "data": {
      "text/html": [
       "<div>\n",
       "<style scoped>\n",
       "    .dataframe tbody tr th:only-of-type {\n",
       "        vertical-align: middle;\n",
       "    }\n",
       "\n",
       "    .dataframe tbody tr th {\n",
       "        vertical-align: top;\n",
       "    }\n",
       "\n",
       "    .dataframe thead th {\n",
       "        text-align: right;\n",
       "    }\n",
       "</style>\n",
       "<table border=\"1\" class=\"dataframe\">\n",
       "  <thead>\n",
       "    <tr style=\"text-align: right;\">\n",
       "      <th>source</th>\n",
       "      <th>Base</th>\n",
       "      <th>Scenario 1</th>\n",
       "      <th>Scenario 2</th>\n",
       "    </tr>\n",
       "    <tr>\n",
       "      <th>hh_lowinc</th>\n",
       "      <th></th>\n",
       "      <th></th>\n",
       "      <th></th>\n",
       "    </tr>\n",
       "  </thead>\n",
       "  <tbody>\n",
       "    <tr>\n",
       "      <th>0</th>\n",
       "      <td>64,863,159</td>\n",
       "      <td>64,863,159</td>\n",
       "      <td>64,863,159</td>\n",
       "    </tr>\n",
       "    <tr>\n",
       "      <th>1</th>\n",
       "      <td>3,638,585</td>\n",
       "      <td>3,638,585</td>\n",
       "      <td>3,638,585</td>\n",
       "    </tr>\n",
       "    <tr>\n",
       "      <th>Total</th>\n",
       "      <td>68,501,744</td>\n",
       "      <td>68,501,744</td>\n",
       "      <td>68,501,744</td>\n",
       "    </tr>\n",
       "  </tbody>\n",
       "</table>\n",
       "</div>"
      ],
      "text/plain": [
       "source          Base  Scenario 1  Scenario 2\n",
       "hh_lowinc                                   \n",
       "0         64,863,159  64,863,159  64,863,159\n",
       "1          3,638,585   3,638,585   3,638,585\n",
       "Total     68,501,744  68,501,744  68,501,744"
      ]
     },
     "execution_count": 22,
     "metadata": {},
     "output_type": "execute_result"
    },
    {
     "data": {
      "image/png": "[encoded data removed]",
      "text/plain": [
       "<Figure size 432x288 with 1 Axes>"
      ]
     },
     "metadata": {
      "needs_background": "light"
     },
     "output_type": "display_data"
    }
   ],
   "source": [
    "pd.options.display.float_format = '{:0,.0f}'.format\n",
    "df = load_data('5_vmt.csv', geog)\n",
    "df = df.pivot_table(index=geog_col, columns='source', aggfunc='sum', values='VMT')\n",
    "df.plot(kind='barh', alpha=0.6).invert_yaxis()\n",
    "df.loc['Total'] = df.sum(axis=0)\n",
    "df"
   ]
  },
  {
   "cell_type": "markdown",
   "metadata": {},
   "source": [
    "# Delay\n",
    "**Total Delay Hours per Day**"
   ]
  },
  {
   "cell_type": "code",
   "execution_count": 23,
   "metadata": {},
   "outputs": [
    {
     "data": {
      "text/html": [
       "<div>\n",
       "<style scoped>\n",
       "    .dataframe tbody tr th:only-of-type {\n",
       "        vertical-align: middle;\n",
       "    }\n",
       "\n",
       "    .dataframe tbody tr th {\n",
       "        vertical-align: top;\n",
       "    }\n",
       "\n",
       "    .dataframe thead th {\n",
       "        text-align: right;\n",
       "    }\n",
       "</style>\n",
       "<table border=\"1\" class=\"dataframe\">\n",
       "  <thead>\n",
       "    <tr style=\"text-align: right;\">\n",
       "      <th>source</th>\n",
       "      <th>Base</th>\n",
       "      <th>Scenario 1</th>\n",
       "      <th>Scenario 2</th>\n",
       "    </tr>\n",
       "    <tr>\n",
       "      <th>hh_lowinc</th>\n",
       "      <th></th>\n",
       "      <th></th>\n",
       "      <th></th>\n",
       "    </tr>\n",
       "  </thead>\n",
       "  <tbody>\n",
       "    <tr>\n",
       "      <th>0</th>\n",
       "      <td>310,302</td>\n",
       "      <td>310,302</td>\n",
       "      <td>310,302</td>\n",
       "    </tr>\n",
       "    <tr>\n",
       "      <th>1</th>\n",
       "      <td>16,983</td>\n",
       "      <td>16,983</td>\n",
       "      <td>16,983</td>\n",
       "    </tr>\n",
       "    <tr>\n",
       "      <th>Total</th>\n",
       "      <td>327,285</td>\n",
       "      <td>327,285</td>\n",
       "      <td>327,285</td>\n",
       "    </tr>\n",
       "  </tbody>\n",
       "</table>\n",
       "</div>"
      ],
      "text/plain": [
       "source       Base  Scenario 1  Scenario 2\n",
       "hh_lowinc                                \n",
       "0         310,302     310,302     310,302\n",
       "1          16,983      16,983      16,983\n",
       "Total     327,285     327,285     327,285"
      ]
     },
     "execution_count": 23,
     "metadata": {},
     "output_type": "execute_result"
    },
    {
     "data": {
      "image/png": "[encoded data removed]",
      "text/plain": [
       "<Figure size 432x288 with 1 Axes>"
      ]
     },
     "metadata": {
      "needs_background": "light"
     },
     "output_type": "display_data"
    }
   ],
   "source": [
    "pd.options.display.float_format = '{:0,.0f}'.format\n",
    "df = load_data('7_delay.csv', geog)\n",
    "df = df.pivot_table(index=geog_col, columns='source', aggfunc='sum', values='Total Delay Hours')\n",
    "df = df.clip(lower=0)\n",
    "df.plot(kind='barh', alpha=0.6).invert_yaxis()\n",
    "df.loc['Total'] = df.sum(axis=0)\n",
    "df"
   ]
  },
  {
   "cell_type": "markdown",
   "metadata": {},
   "source": [
    "**Delay Hours per Household**\n"
   ]
  },
  {
   "cell_type": "code",
   "execution_count": 24,
   "metadata": {},
   "outputs": [
    {
     "data": {
      "text/html": [
       "<div>\n",
       "<style scoped>\n",
       "    .dataframe tbody tr th:only-of-type {\n",
       "        vertical-align: middle;\n",
       "    }\n",
       "\n",
       "    .dataframe tbody tr th {\n",
       "        vertical-align: top;\n",
       "    }\n",
       "\n",
       "    .dataframe thead th {\n",
       "        text-align: right;\n",
       "    }\n",
       "</style>\n",
       "<table border=\"1\" class=\"dataframe\">\n",
       "  <thead>\n",
       "    <tr style=\"text-align: right;\">\n",
       "      <th>source</th>\n",
       "      <th>Base</th>\n",
       "      <th>Scenario 1</th>\n",
       "      <th>Scenario 2</th>\n",
       "    </tr>\n",
       "    <tr>\n",
       "      <th>hh_lowinc</th>\n",
       "      <th></th>\n",
       "      <th></th>\n",
       "      <th></th>\n",
       "    </tr>\n",
       "  </thead>\n",
       "  <tbody>\n",
       "    <tr>\n",
       "      <th>0</th>\n",
       "      <td>12.5</td>\n",
       "      <td>12.5</td>\n",
       "      <td>12.5</td>\n",
       "    </tr>\n",
       "    <tr>\n",
       "      <th>1</th>\n",
       "      <td>8.7</td>\n",
       "      <td>8.7</td>\n",
       "      <td>8.7</td>\n",
       "    </tr>\n",
       "    <tr>\n",
       "      <th>Total</th>\n",
       "      <td>21.3</td>\n",
       "      <td>21.3</td>\n",
       "      <td>21.3</td>\n",
       "    </tr>\n",
       "  </tbody>\n",
       "</table>\n",
       "</div>"
      ],
      "text/plain": [
       "source     Base  Scenario 1  Scenario 2\n",
       "hh_lowinc                              \n",
       "0          12.5        12.5        12.5\n",
       "1           8.7         8.7         8.7\n",
       "Total      21.3        21.3        21.3"
      ]
     },
     "execution_count": 24,
     "metadata": {},
     "output_type": "execute_result"
    },
    {
     "data": {
      "image/png": "[encoded data removed]",
      "text/plain": [
       "<Figure size 432x288 with 1 Axes>"
      ]
     },
     "metadata": {
      "needs_background": "light"
     },
     "output_type": "display_data"
    }
   ],
   "source": [
    "pd.options.display.float_format = '{:0,.1f}'.format\n",
    "df = load_data('7_delay.csv', geog)\n",
    "df = df.pivot_table(index=geog_col, columns='source', \n",
    "                    aggfunc='sum', values='Avg. Minutes of Delay per Household')\n",
    "df = df.clip(lower=0)\n",
    "df.plot(kind='barh', alpha=0.6).invert_yaxis()\n",
    "df.loc['Total'] = df.sum(axis=0)\n",
    "df"
   ]
  }
 ],
 "metadata": {
  "kernelspec": {
   "display_name": "Python 3",
   "language": "python",
   "name": "python3"
  },
  "language_info": {
   "codemirror_mode": {
    "name": "ipython",
    "version": 3
   },
   "file_extension": ".py",
   "mimetype": "text/x-python",
   "name": "python",
   "nbconvert_exporter": "python",
   "pygments_lexer": "ipython3",
   "version": "3.7.10"
  }
 },
 "nbformat": 4,
 "nbformat_minor": 4
}
