{
 "cells": [
  {
   "cell_type": "code",
   "execution_count": 1,
   "metadata": {},
   "outputs": [
    {
     "data": {
      "text/html": [
       "<script>\n",
       "code_show=true; \n",
       "function code_toggle() {\n",
       " if (code_show){\n",
       " $('div.input').hide();\n",
       " } else {\n",
       " $('div.input').show();\n",
       " }\n",
       " code_show = !code_show\n",
       "} \n",
       "$( document ).ready(code_toggle);\n",
       "</script>\n",
       "<form action=\"javascript:code_toggle()\"><input type=\"submit\" value=\"Click here to toggle on/off the raw code.\"></form>"
      ],
      "text/plain": [
       "<IPython.core.display.HTML object>"
      ]
     },
     "execution_count": 1,
     "metadata": {},
     "output_type": "execute_result"
    }
   ],
   "source": [
    "import os, time\n",
    "from scipy import stats\n",
    "import warnings\n",
    "warnings.simplefilter(action='ignore', category=FutureWarning)\n",
    "import pandas as pd\n",
    "import numpy as np\n",
    "%matplotlib inline\n",
    "\n",
    "from IPython.display import display, HTML\n",
    "\n",
    "HTML('''<script>\n",
    "code_show=true; \n",
    "function code_toggle() {\n",
    " if (code_show){\n",
    " $('div.input').hide();\n",
    " } else {\n",
    " $('div.input').show();\n",
    " }\n",
    " code_show = !code_show\n",
    "} \n",
    "$( document ).ready(code_toggle);\n",
    "</script>\n",
    "<form action=\"javascript:code_toggle()\"><input type=\"submit\" value=\"Click here to toggle on/off the raw code.\"></form>''')"
   ]
  },
  {
   "cell_type": "code",
   "execution_count": 2,
   "metadata": {},
   "outputs": [
    {
     "name": "stdout",
     "output_type": "stream",
     "text": [
      "Summary run: Tue, 07 Jul 2020 19:03\n"
     ]
    }
   ],
   "source": [
    "# Create timestamp to show when this summary was run\n",
    "print 'Summary run: ' + time.strftime(\"%a, %d %b %Y %H:%M\")"
   ]
  },
  {
   "cell_type": "code",
   "execution_count": 3,
   "metadata": {},
   "outputs": [],
   "source": [
    "base_path = os.getcwd().split('\\\\scripts')[0]\n",
    "relative_path = '../../../outputs'\n",
    "pd.options.display.float_format = '{:,.3f}'.format\n",
    "format_percent = \"{:,.2%}\".format"
   ]
  },
  {
   "cell_type": "markdown",
   "metadata": {},
   "source": [
    "# Workers by County"
   ]
  },
  {
   "cell_type": "code",
   "execution_count": 4,
   "metadata": {},
   "outputs": [
    {
     "data": {
      "text/html": [
       "<div>\n",
       "<table border=\"1\" class=\"dataframe\">\n",
       "  <thead>\n",
       "    <tr style=\"text-align: right;\">\n",
       "      <th></th>\n",
       "      <th>WFH Workers</th>\n",
       "      <th>Total Workers</th>\n",
       "      <th>% WFH Workers</th>\n",
       "    </tr>\n",
       "    <tr>\n",
       "      <th>person_county</th>\n",
       "      <th></th>\n",
       "      <th></th>\n",
       "      <th></th>\n",
       "    </tr>\n",
       "  </thead>\n",
       "  <tbody>\n",
       "    <tr>\n",
       "      <th>King</th>\n",
       "      <td>12669</td>\n",
       "      <td>758295</td>\n",
       "      <td>0.017</td>\n",
       "    </tr>\n",
       "    <tr>\n",
       "      <th>Kitsap</th>\n",
       "      <td>729</td>\n",
       "      <td>184592</td>\n",
       "      <td>0.004</td>\n",
       "    </tr>\n",
       "    <tr>\n",
       "      <th>Pierce</th>\n",
       "      <td>2912</td>\n",
       "      <td>466837</td>\n",
       "      <td>0.006</td>\n",
       "    </tr>\n",
       "    <tr>\n",
       "      <th>Snohomish</th>\n",
       "      <td>2095</td>\n",
       "      <td>469391</td>\n",
       "      <td>0.004</td>\n",
       "    </tr>\n",
       "    <tr>\n",
       "      <th>Region</th>\n",
       "      <td>18405</td>\n",
       "      <td>1879115</td>\n",
       "      <td>0.010</td>\n",
       "    </tr>\n",
       "  </tbody>\n",
       "</table>\n",
       "</div>"
      ],
      "text/plain": [
       "               WFH Workers  Total Workers  % WFH Workers\n",
       "person_county                                           \n",
       "King                 12669         758295          0.017\n",
       "Kitsap                 729         184592          0.004\n",
       "Pierce                2912         466837          0.006\n",
       "Snohomish             2095         469391          0.004\n",
       "Region               18405        1879115          0.010"
      ]
     },
     "execution_count": 4,
     "metadata": {},
     "output_type": "execute_result"
    }
   ],
   "source": [
    "df_wfh = pd.read_csv(os.path.join(relative_path,'agg','wfh_county.csv'))\n",
    "df_wfh_survey = pd.read_csv(os.path.join(relative_path,'agg','survey','wfh_county.csv'))\n",
    "\n",
    "# Total Workers by County\n",
    "df_tot = pd.read_csv(os.path.join(relative_path,'agg','pptyp_county.csv'))\n",
    "df_tot = df_tot[df_tot['pptyp'].isin(['Full-Time Worker', 'Part-Time Worker'])]\n",
    "df_tot = df_tot.groupby('person_county').sum()[['psexpfac']].reset_index()\n",
    "\n",
    "df_tot_survey = pd.read_csv(os.path.join(relative_path,'agg','survey','pptyp_county.csv'))\n",
    "df_tot_survey = df_tot_survey[df_tot_survey['pptyp'].isin(['Full-Time Worker', 'Part-Time Worker'])]\n",
    "df_tot_survey = df_tot_survey.groupby('person_county').sum()[['psexpfac']].reset_index()\n",
    "\n",
    "\n",
    "df = df_wfh.merge(df_tot, on='person_county')\n",
    "df.index = df['person_county']\n",
    "df.drop('person_county', axis=1,inplace=True)\n",
    "df.columns = ['WFH Workers', 'Total Workers']\n",
    "df.loc['Region'] = df.sum(axis=0)\n",
    "df['% WFH Workers'] = df['WFH Workers']/df['Total Workers']\n",
    "df"
   ]
  },
  {
   "cell_type": "markdown",
   "metadata": {},
   "source": [
    "# Tour Rate for Work-at-Home Workers"
   ]
  },
  {
   "cell_type": "code",
   "execution_count": 5,
   "metadata": {},
   "outputs": [
    {
     "data": {
      "text/html": [
       "<div>\n",
       "<table border=\"1\" class=\"dataframe\">\n",
       "  <thead>\n",
       "    <tr style=\"text-align: right;\">\n",
       "      <th></th>\n",
       "      <th>pdpurp</th>\n",
       "      <th>tours_model</th>\n",
       "      <th>tours_survey</th>\n",
       "      <th>tour_rate_model</th>\n",
       "      <th>tour_rate_survey</th>\n",
       "    </tr>\n",
       "  </thead>\n",
       "  <tbody>\n",
       "    <tr>\n",
       "      <th>0</th>\n",
       "      <td>Escort</td>\n",
       "      <td>7090</td>\n",
       "      <td>23855</td>\n",
       "      <td>0.385</td>\n",
       "      <td>1.296</td>\n",
       "    </tr>\n",
       "    <tr>\n",
       "      <th>1</th>\n",
       "      <td>Meal</td>\n",
       "      <td>908</td>\n",
       "      <td>13909</td>\n",
       "      <td>0.049</td>\n",
       "      <td>0.756</td>\n",
       "    </tr>\n",
       "    <tr>\n",
       "      <th>2</th>\n",
       "      <td>Personal Business</td>\n",
       "      <td>4871</td>\n",
       "      <td>37415</td>\n",
       "      <td>0.265</td>\n",
       "      <td>2.033</td>\n",
       "    </tr>\n",
       "    <tr>\n",
       "      <th>3</th>\n",
       "      <td>School</td>\n",
       "      <td>444</td>\n",
       "      <td>675</td>\n",
       "      <td>0.024</td>\n",
       "      <td>0.037</td>\n",
       "    </tr>\n",
       "    <tr>\n",
       "      <th>4</th>\n",
       "      <td>Shop</td>\n",
       "      <td>5867</td>\n",
       "      <td>51951</td>\n",
       "      <td>0.319</td>\n",
       "      <td>2.823</td>\n",
       "    </tr>\n",
       "    <tr>\n",
       "      <th>5</th>\n",
       "      <td>Social</td>\n",
       "      <td>5811</td>\n",
       "      <td>76870</td>\n",
       "      <td>0.316</td>\n",
       "      <td>4.177</td>\n",
       "    </tr>\n",
       "    <tr>\n",
       "      <th>6</th>\n",
       "      <td>Work</td>\n",
       "      <td>2608</td>\n",
       "      <td>25577</td>\n",
       "      <td>0.142</td>\n",
       "      <td>1.390</td>\n",
       "    </tr>\n",
       "  </tbody>\n",
       "</table>\n",
       "</div>"
      ],
      "text/plain": [
       "              pdpurp  tours_model  tours_survey  tour_rate_model  \\\n",
       "0             Escort         7090         23855            0.385   \n",
       "1               Meal          908         13909            0.049   \n",
       "2  Personal Business         4871         37415            0.265   \n",
       "3             School          444           675            0.024   \n",
       "4               Shop         5867         51951            0.319   \n",
       "5             Social         5811         76870            0.316   \n",
       "6               Work         2608         25577            0.142   \n",
       "\n",
       "   tour_rate_survey  \n",
       "0             1.296  \n",
       "1             0.756  \n",
       "2             2.033  \n",
       "3             0.037  \n",
       "4             2.823  \n",
       "5             4.177  \n",
       "6             1.390  "
      ]
     },
     "execution_count": 5,
     "metadata": {},
     "output_type": "execute_result"
    }
   ],
   "source": [
    "df_tours = pd.read_csv(os.path.join(relative_path,'agg','work_from_home_tours.csv'))\n",
    "total_wfh_workers = df_wfh.psexpfac.sum()\n",
    "df = df_tours.groupby('pdpurp').sum()[['toexpfac']].reset_index()\n",
    "df['tour_rate'] = df['toexpfac']/total_wfh_workers\n",
    "df\n",
    "\n",
    "df_tours_survey = pd.read_csv(os.path.join(relative_path,'agg','survey','work_from_home_tours.csv'))\n",
    "total_wfh_workers_survey = df_wfh.psexpfac.sum()\n",
    "df_survey = df_tours_survey.groupby('pdpurp').sum()[['toexpfac']].reset_index()\n",
    "df_survey['tour_rate'] = df_survey['toexpfac']/total_wfh_workers_survey\n",
    "df = df.merge(df_survey,on='pdpurp',suffixes=['_model','_survey'])\n",
    "df.rename(columns={'toexpfac_model': 'tours_model', 'toexpfac_survey': 'tours_survey'}, inplace=True)\n",
    "df['tours_survey'] = df['tours_survey'].astype('int')\n",
    "df[['pdpurp','tours_model','tours_survey','tour_rate_model','tour_rate_survey']]"
   ]
  },
  {
   "cell_type": "markdown",
   "metadata": {},
   "source": [
    "### Tour Rates for Workers that do NOT WF"
   ]
  },
  {
   "cell_type": "code",
   "execution_count": 6,
   "metadata": {},
   "outputs": [
    {
     "data": {
      "text/html": [
       "<div>\n",
       "<table border=\"1\" class=\"dataframe\">\n",
       "  <thead>\n",
       "    <tr style=\"text-align: right;\">\n",
       "      <th></th>\n",
       "      <th>pdpurp</th>\n",
       "      <th>total_tours_model</th>\n",
       "      <th>total_tours_survey</th>\n",
       "      <th>tour_rate_model</th>\n",
       "      <th>tour_rate_survey</th>\n",
       "    </tr>\n",
       "  </thead>\n",
       "  <tbody>\n",
       "    <tr>\n",
       "      <th>0</th>\n",
       "      <td>Escort</td>\n",
       "      <td>223704</td>\n",
       "      <td>173,138.190</td>\n",
       "      <td>0.119</td>\n",
       "      <td>0.091</td>\n",
       "    </tr>\n",
       "    <tr>\n",
       "      <th>1</th>\n",
       "      <td>Meal</td>\n",
       "      <td>360456</td>\n",
       "      <td>233,295.070</td>\n",
       "      <td>0.192</td>\n",
       "      <td>0.123</td>\n",
       "    </tr>\n",
       "    <tr>\n",
       "      <th>2</th>\n",
       "      <td>Personal Business</td>\n",
       "      <td>188492</td>\n",
       "      <td>265,388.630</td>\n",
       "      <td>0.100</td>\n",
       "      <td>0.140</td>\n",
       "    </tr>\n",
       "    <tr>\n",
       "      <th>3</th>\n",
       "      <td>School</td>\n",
       "      <td>27685</td>\n",
       "      <td>15,916.400</td>\n",
       "      <td>0.015</td>\n",
       "      <td>0.008</td>\n",
       "    </tr>\n",
       "    <tr>\n",
       "      <th>4</th>\n",
       "      <td>Shop</td>\n",
       "      <td>251921</td>\n",
       "      <td>247,085.710</td>\n",
       "      <td>0.134</td>\n",
       "      <td>0.131</td>\n",
       "    </tr>\n",
       "    <tr>\n",
       "      <th>5</th>\n",
       "      <td>Social</td>\n",
       "      <td>508689</td>\n",
       "      <td>442,733.820</td>\n",
       "      <td>0.271</td>\n",
       "      <td>0.234</td>\n",
       "    </tr>\n",
       "    <tr>\n",
       "      <th>6</th>\n",
       "      <td>Work</td>\n",
       "      <td>1714874</td>\n",
       "      <td>1,870,382.830</td>\n",
       "      <td>0.913</td>\n",
       "      <td>0.988</td>\n",
       "    </tr>\n",
       "  </tbody>\n",
       "</table>\n",
       "</div>"
      ],
      "text/plain": [
       "              pdpurp  total_tours_model  total_tours_survey  tour_rate_model  \\\n",
       "0             Escort             223704         173,138.190            0.119   \n",
       "1               Meal             360456         233,295.070            0.192   \n",
       "2  Personal Business             188492         265,388.630            0.100   \n",
       "3             School              27685          15,916.400            0.015   \n",
       "4               Shop             251921         247,085.710            0.134   \n",
       "5             Social             508689         442,733.820            0.271   \n",
       "6               Work            1714874       1,870,382.830            0.913   \n",
       "\n",
       "   tour_rate_survey  \n",
       "0             0.091  \n",
       "1             0.123  \n",
       "2             0.140  \n",
       "3             0.008  \n",
       "4             0.131  \n",
       "5             0.234  \n",
       "6             0.988  "
      ]
     },
     "execution_count": 6,
     "metadata": {},
     "output_type": "execute_result"
    }
   ],
   "source": [
    "# Tour Rates by purpose by worker type\n",
    "df = pd.read_csv(os.path.join(relative_path,'agg','non_wfh_tours.csv'))\n",
    "df = df[df['pptyp'].isin(['Full-Time Worker', 'Part-Time Worker'])]\n",
    "df = df.groupby('pdpurp').sum().reset_index()\n",
    "df['tour_rate'] = df['toexpfac']/df_tot.sum()[['psexpfac']].values[0]\n",
    "\n",
    "df_survey = pd.read_csv(os.path.join(relative_path,'agg','survey','non_wfh_tours.csv'))\n",
    "df_survey = df_survey[df_survey['pptyp'].isin(['Full-Time Worker', 'Part-Time Worker'])]\n",
    "df_survey = df_survey.groupby('pdpurp').sum().reset_index()\n",
    "df_survey['tour_rate'] = df_survey['toexpfac']/df_tot_survey.sum()[['psexpfac']].values[0]\n",
    "\n",
    "df = df.merge(df_survey, on='pdpurp', suffixes=['_model','_survey'])\n",
    "df.rename(columns={'toexpfac_model':'total_tours_model','toexpfac_survey':'total_tours_survey'},\n",
    "         inplace=True)\n",
    "df[['pdpurp','total_tours_model','total_tours_survey','tour_rate_model','tour_rate_survey']]"
   ]
  },
  {
   "cell_type": "markdown",
   "metadata": {},
   "source": [
    "### Tour Rates for Non-Workers"
   ]
  },
  {
   "cell_type": "code",
   "execution_count": 7,
   "metadata": {},
   "outputs": [
    {
     "data": {
      "text/html": [
       "<div>\n",
       "<table border=\"1\" class=\"dataframe\">\n",
       "  <thead>\n",
       "    <tr style=\"text-align: right;\">\n",
       "      <th></th>\n",
       "      <th>pdpurp</th>\n",
       "      <th>total_tours_model</th>\n",
       "      <th>total_tours_survey</th>\n",
       "      <th>tour_rate_model</th>\n",
       "      <th>tour_rate_survey</th>\n",
       "    </tr>\n",
       "  </thead>\n",
       "  <tbody>\n",
       "    <tr>\n",
       "      <th>0</th>\n",
       "      <td>Escort</td>\n",
       "      <td>492759</td>\n",
       "      <td>422,966.420</td>\n",
       "      <td>0.260</td>\n",
       "      <td>0.223</td>\n",
       "    </tr>\n",
       "    <tr>\n",
       "      <th>1</th>\n",
       "      <td>Meal</td>\n",
       "      <td>132668</td>\n",
       "      <td>163,207.570</td>\n",
       "      <td>0.070</td>\n",
       "      <td>0.086</td>\n",
       "    </tr>\n",
       "    <tr>\n",
       "      <th>2</th>\n",
       "      <td>Personal Business</td>\n",
       "      <td>530962</td>\n",
       "      <td>599,422.640</td>\n",
       "      <td>0.281</td>\n",
       "      <td>0.317</td>\n",
       "    </tr>\n",
       "    <tr>\n",
       "      <th>3</th>\n",
       "      <td>School</td>\n",
       "      <td>666348</td>\n",
       "      <td>699,217.240</td>\n",
       "      <td>0.352</td>\n",
       "      <td>0.369</td>\n",
       "    </tr>\n",
       "    <tr>\n",
       "      <th>4</th>\n",
       "      <td>Shop</td>\n",
       "      <td>508341</td>\n",
       "      <td>491,168.590</td>\n",
       "      <td>0.269</td>\n",
       "      <td>0.260</td>\n",
       "    </tr>\n",
       "    <tr>\n",
       "      <th>5</th>\n",
       "      <td>Social</td>\n",
       "      <td>742673</td>\n",
       "      <td>739,493.790</td>\n",
       "      <td>0.392</td>\n",
       "      <td>0.391</td>\n",
       "    </tr>\n",
       "    <tr>\n",
       "      <th>6</th>\n",
       "      <td>Work</td>\n",
       "      <td>99789</td>\n",
       "      <td>130,935.260</td>\n",
       "      <td>0.053</td>\n",
       "      <td>0.069</td>\n",
       "    </tr>\n",
       "  </tbody>\n",
       "</table>\n",
       "</div>"
      ],
      "text/plain": [
       "              pdpurp  total_tours_model  total_tours_survey  tour_rate_model  \\\n",
       "0             Escort             492759         422,966.420            0.260   \n",
       "1               Meal             132668         163,207.570            0.070   \n",
       "2  Personal Business             530962         599,422.640            0.281   \n",
       "3             School             666348         699,217.240            0.352   \n",
       "4               Shop             508341         491,168.590            0.269   \n",
       "5             Social             742673         739,493.790            0.392   \n",
       "6               Work              99789         130,935.260            0.053   \n",
       "\n",
       "   tour_rate_survey  \n",
       "0             0.223  \n",
       "1             0.086  \n",
       "2             0.317  \n",
       "3             0.369  \n",
       "4             0.260  \n",
       "5             0.391  \n",
       "6             0.069  "
      ]
     },
     "execution_count": 7,
     "metadata": {},
     "output_type": "execute_result"
    }
   ],
   "source": [
    "df = pd.read_csv(os.path.join(relative_path,'agg','non_wfh_tours.csv'))\n",
    "df = df[-df['pptyp'].isin(['Full-Time Worker', 'Part-Time Worker'])]\n",
    "df = df.groupby('pdpurp').sum().reset_index()\n",
    "df['tour_rate'] = df['toexpfac']/df_tot_survey.sum()[['psexpfac']].values[0]\n",
    "\n",
    "\n",
    "df_survey = pd.read_csv(os.path.join(relative_path,'agg','survey','non_wfh_tours.csv'))\n",
    "df_survey = df_survey[-df_survey['pptyp'].isin(['Full-Time Worker', 'Part-Time Worker'])]\n",
    "df_survey = df_survey.groupby('pdpurp').sum().reset_index()\n",
    "df_survey['tour_rate'] = df_survey['toexpfac']/df_tot_survey.sum()[['psexpfac']].values[0]\n",
    "\n",
    "df = df.merge(df_survey, on='pdpurp', suffixes=['_model','_survey'])\n",
    "df.rename(columns={'toexpfac_model':'total_tours_model','toexpfac_survey':'total_tours_survey'},\n",
    "         inplace=True)\n",
    "df[['pdpurp','total_tours_model','total_tours_survey','tour_rate_model','tour_rate_survey']]"
   ]
  },
  {
   "cell_type": "markdown",
   "metadata": {},
   "source": [
    "# Commute Tour Distance\n",
    "All Workers"
   ]
  },
  {
   "cell_type": "code",
   "execution_count": 8,
   "metadata": {},
   "outputs": [],
   "source": [
    "df = pd.read_csv(os.path.join(relative_path,'agg','tour_distance.csv'))\n",
    "df = df[df['pdpurp'] == 'Work']\n",
    "\n",
    "pd.options.display.float_format = '{:0,.4f}'.format\n",
    "_df = df.groupby('tautodist_bin').sum()[['toexpfac']].reset_index()\n",
    "\n",
    "_df['percent'] = _df['toexpfac']/_df['toexpfac'].sum()\n",
    "_df['cumulative_percent'] = _df['percent'].cumsum()\n",
    "\n",
    "# remove records that are outside 99% of records\n",
    "_df = _df[_df['cumulative_percent'] <= 0.99]"
   ]
  },
  {
   "cell_type": "code",
   "execution_count": 9,
   "metadata": {},
   "outputs": [],
   "source": [
    "df_survey = pd.read_csv(os.path.join(relative_path,'agg/survey','tour_distance.csv'))\n",
    "df_survey = df_survey[df_survey['pdpurp'] == 'Work']\n",
    "\n",
    "_df_survey = df_survey.groupby('tautodist_bin').sum()[['toexpfac']].reset_index()\n",
    "\n",
    "_df_survey['percent'] = _df_survey['toexpfac']/_df_survey['toexpfac'].sum()\n",
    "_df_survey['cumulative_percent'] = _df_survey['percent'].cumsum()\n",
    "\n",
    "# remove records that are outside 99% of records\n",
    "_df_survey = _df_survey[_df_survey['cumulative_percent'] <= 0.99]"
   ]
  },
  {
   "cell_type": "markdown",
   "metadata": {},
   "source": [
    "Weighted Average Distance"
   ]
  },
  {
   "cell_type": "code",
   "execution_count": 10,
   "metadata": {},
   "outputs": [
    {
     "name": "stdout",
     "output_type": "stream",
     "text": [
      "model: 10.1139628934\n",
      "survey: 10.4238467037\n"
     ]
    }
   ],
   "source": [
    "_df_merged = _df.merge(_df_survey, on='tautodist_bin', suffixes=['_model','_survey'])\n",
    "print('model: '+ str((_df_merged['toexpfac_model']*_df_merged['tautodist_bin']).sum()*1.0/_df_merged['toexpfac_model'].sum()))\n",
    "print('survey: '+ str((_df_merged['toexpfac_survey']*_df_merged['tautodist_bin']).sum()*1.0/_df_merged['toexpfac_survey'].sum()))"
   ]
  },
  {
   "cell_type": "code",
   "execution_count": 11,
   "metadata": {},
   "outputs": [],
   "source": [
    "# Work trip distance to not usual workplace for non-WFH workers\n"
   ]
  },
  {
   "cell_type": "code",
   "execution_count": 12,
   "metadata": {},
   "outputs": [
    {
     "data": {
      "text/plain": [
       "<matplotlib.axes._subplots.AxesSubplot at 0x444ca20>"
      ]
     },
     "execution_count": 12,
     "metadata": {},
     "output_type": "execute_result"
    },
    {
     "data": {
      "image/png": "[encoded data removed]",
      "text/plain": [
       "<matplotlib.figure.Figure at 0xb39a6d8>"
      ]
     },
     "metadata": {},
     "output_type": "display_data"
    }
   ],
   "source": [
    "_df_merged[['percent_model','percent_survey']].plot(alpha=0.6)\n",
    "\n",
    "# _df[['trexpfac']].plot(kind='bar')"
   ]
  },
  {
   "cell_type": "markdown",
   "metadata": {},
   "source": [
    "# Average Trip Distance\n",
    "Workers that work DO NOT work from home"
   ]
  },
  {
   "cell_type": "code",
   "execution_count": 16,
   "metadata": {},
   "outputs": [
    {
     "name": "stdout",
     "output_type": "stream",
     "text": [
      "Avg. distance to Usual Workplace: 8.32346491983\n",
      "Avg. distance to Other Workplace: 4.69865788244\n",
      "----------------------------------------\n"
     ]
    },
    {
     "data": {
      "text/html": [
       "<div>\n",
       "<table border=\"1\" class=\"dataframe\">\n",
       "  <thead>\n",
       "    <tr style=\"text-align: right;\">\n",
       "      <th></th>\n",
       "      <th>Purpose</th>\n",
       "      <th>Workers at Non-Home Location</th>\n",
       "    </tr>\n",
       "  </thead>\n",
       "  <tbody>\n",
       "    <tr>\n",
       "      <th>0</th>\n",
       "      <td>Shop</td>\n",
       "      <td>3.6458</td>\n",
       "    </tr>\n",
       "    <tr>\n",
       "      <th>1</th>\n",
       "      <td>School</td>\n",
       "      <td>3.0718</td>\n",
       "    </tr>\n",
       "    <tr>\n",
       "      <th>2</th>\n",
       "      <td>Work</td>\n",
       "      <td>7.5506</td>\n",
       "    </tr>\n",
       "    <tr>\n",
       "      <th>3</th>\n",
       "      <td>Meal</td>\n",
       "      <td>2.7286</td>\n",
       "    </tr>\n",
       "    <tr>\n",
       "      <th>4</th>\n",
       "      <td>Change Mode Inserted Purpose</td>\n",
       "      <td>7.8794</td>\n",
       "    </tr>\n",
       "    <tr>\n",
       "      <th>5</th>\n",
       "      <td>Escort</td>\n",
       "      <td>5.2033</td>\n",
       "    </tr>\n",
       "    <tr>\n",
       "      <th>6</th>\n",
       "      <td>Social</td>\n",
       "      <td>3.8399</td>\n",
       "    </tr>\n",
       "    <tr>\n",
       "      <th>7</th>\n",
       "      <td>None/Home</td>\n",
       "      <td>5.3066</td>\n",
       "    </tr>\n",
       "    <tr>\n",
       "      <th>8</th>\n",
       "      <td>Personal Business</td>\n",
       "      <td>4.3950</td>\n",
       "    </tr>\n",
       "  </tbody>\n",
       "</table>\n",
       "</div>"
      ],
      "text/plain": [
       "                        Purpose  Workers at Non-Home Location\n",
       "0                          Shop                        3.6458\n",
       "1                        School                        3.0718\n",
       "2                          Work                        7.5506\n",
       "3                          Meal                        2.7286\n",
       "4  Change Mode Inserted Purpose                        7.8794\n",
       "5                        Escort                        5.2033\n",
       "6                        Social                        3.8399\n",
       "7                     None/Home                        5.3066\n",
       "8             Personal Business                        4.3950"
      ]
     },
     "execution_count": 16,
     "metadata": {},
     "output_type": "execute_result"
    }
   ],
   "source": [
    "# Non WFH Workers\n",
    "df = pd.read_csv(os.path.join(relative_path,'agg','trip_distance_non_wfh.csv'))\n",
    "df = df[df['pptyp'].isin(['Full-Time Worker','Part-Time Worker'])]\n",
    "df = df[(df['dpurp'] == 'Work') & (df['dadtyp'].isin(['Other','Usual Workplace']))]\n",
    "# df.groupby(['travdist_bin','']).sum()[['trexpfac']]\n",
    "df_usual = df[df['dadtyp'] == 'Usual Workplace']\n",
    "dist = (df_usual['trexpfac']*1.0*df_usual['travdist_bin']).sum()/df_usual['trexpfac'].sum()\n",
    "print('Avg. distance to Usual Workplace: ' + str(dist))\n",
    "df_other = df[df['dadtyp'] == 'Other']\n",
    "dist = (df_other['trexpfac']*1.0*df_other['travdist_bin']).sum()/df_other['trexpfac'].sum()\n",
    "print('Avg. distance to Other Workplace: ' + str(dist))\n",
    "print('----------------------------------------')\n",
    "# Non WFH Workers\n",
    "df = pd.read_csv(os.path.join(relative_path,'agg','trip_distance_non_wfh.csv'))\n",
    "df['wt_sum'] = df['trexpfac']*1.0*df['travdist_bin']\n",
    "result = {}\n",
    "for purp in pd.unique(df['dpurp']):\n",
    "    _df = df[df['dpurp'] == purp]\n",
    "    result[purp] = _df['wt_sum'].sum()/_df['trexpfac'].sum()\n",
    "    \n",
    "_df_non_wfh = pd.DataFrame.from_dict(result, orient='index').reset_index()\n",
    "_df_non_wfh.columns = ['Purpose','Workers at Non-Home Location']\n",
    "_df_non_wfh"
   ]
  },
  {
   "cell_type": "markdown",
   "metadata": {},
   "source": [
    "Only workers that work **from home**"
   ]
  },
  {
   "cell_type": "code",
   "execution_count": 19,
   "metadata": {},
   "outputs": [
    {
     "name": "stdout",
     "output_type": "stream",
     "text": [
      "Avg. distance to Other Workplace: 4.57963069821\n",
      "----------------------------------\n"
     ]
    },
    {
     "data": {
      "text/html": [
       "<div>\n",
       "<table border=\"1\" class=\"dataframe\">\n",
       "  <thead>\n",
       "    <tr style=\"text-align: right;\">\n",
       "      <th></th>\n",
       "      <th>Purpose</th>\n",
       "      <th>WFH Workers</th>\n",
       "    </tr>\n",
       "  </thead>\n",
       "  <tbody>\n",
       "    <tr>\n",
       "      <th>0</th>\n",
       "      <td>Shop</td>\n",
       "      <td>2.2511</td>\n",
       "    </tr>\n",
       "    <tr>\n",
       "      <th>1</th>\n",
       "      <td>School</td>\n",
       "      <td>5.0996</td>\n",
       "    </tr>\n",
       "    <tr>\n",
       "      <th>2</th>\n",
       "      <td>Work</td>\n",
       "      <td>4.5796</td>\n",
       "    </tr>\n",
       "    <tr>\n",
       "      <th>3</th>\n",
       "      <td>Meal</td>\n",
       "      <td>1.8947</td>\n",
       "    </tr>\n",
       "    <tr>\n",
       "      <th>4</th>\n",
       "      <td>Change Mode Inserted Purpose</td>\n",
       "      <td>4.1071</td>\n",
       "    </tr>\n",
       "    <tr>\n",
       "      <th>5</th>\n",
       "      <td>Escort</td>\n",
       "      <td>2.7589</td>\n",
       "    </tr>\n",
       "    <tr>\n",
       "      <th>6</th>\n",
       "      <td>Social</td>\n",
       "      <td>2.2825</td>\n",
       "    </tr>\n",
       "    <tr>\n",
       "      <th>7</th>\n",
       "      <td>None/Home</td>\n",
       "      <td>2.9715</td>\n",
       "    </tr>\n",
       "    <tr>\n",
       "      <th>8</th>\n",
       "      <td>Personal Business</td>\n",
       "      <td>2.2471</td>\n",
       "    </tr>\n",
       "  </tbody>\n",
       "</table>\n",
       "</div>"
      ],
      "text/plain": [
       "                        Purpose  WFH Workers\n",
       "0                          Shop       2.2511\n",
       "1                        School       5.0996\n",
       "2                          Work       4.5796\n",
       "3                          Meal       1.8947\n",
       "4  Change Mode Inserted Purpose       4.1071\n",
       "5                        Escort       2.7589\n",
       "6                        Social       2.2825\n",
       "7                     None/Home       2.9715\n",
       "8             Personal Business       2.2471"
      ]
     },
     "execution_count": 19,
     "metadata": {},
     "output_type": "execute_result"
    }
   ],
   "source": [
    "# WFH Workers\n",
    "df = pd.read_csv(os.path.join(relative_path,'agg','trip_distance_wfh.csv'))\n",
    "df = df[(df['dpurp'] == 'Work') & (df['dadtyp'].isin(['Other','Usual Workplace']))]\n",
    "\n",
    "df_other = df[df['dadtyp'] == 'Other']\n",
    "dist = (df_other['trexpfac']*1.0*df_other['travdist_bin']).sum()/df_other['trexpfac'].sum()\n",
    "print('Avg. distance to Other Workplace: ' + str(dist))\n",
    "print('----------------------------------')\n",
    "df = pd.read_csv(os.path.join(relative_path,'agg','trip_distance_wfh.csv'))\n",
    "df['wt_sum'] = df['trexpfac']*1.0*df['travdist_bin']\n",
    "result = {}\n",
    "for purp in pd.unique(df['dpurp']):\n",
    "    _df = df[df['dpurp'] == purp]\n",
    "    result[purp] = _df['wt_sum'].sum()/_df['trexpfac'].sum()\n",
    "\n",
    "_df_wfh = pd.DataFrame.from_dict(result, orient='index')\n",
    "_df_wfh = _df_wfh.reset_index()\n",
    "_df_wfh.columns = ['Purpose','WFH Workers']\n",
    "_df_wfh"
   ]
  },
  {
   "cell_type": "code",
   "execution_count": 21,
   "metadata": {},
   "outputs": [
    {
     "data": {
      "text/html": [
       "<div>\n",
       "<table border=\"1\" class=\"dataframe\">\n",
       "  <thead>\n",
       "    <tr style=\"text-align: right;\">\n",
       "      <th></th>\n",
       "      <th>Purpose</th>\n",
       "      <th>Non-Workers</th>\n",
       "    </tr>\n",
       "  </thead>\n",
       "  <tbody>\n",
       "    <tr>\n",
       "      <th>0</th>\n",
       "      <td>Shop</td>\n",
       "      <td>3.6458</td>\n",
       "    </tr>\n",
       "    <tr>\n",
       "      <th>1</th>\n",
       "      <td>School</td>\n",
       "      <td>3.0718</td>\n",
       "    </tr>\n",
       "    <tr>\n",
       "      <th>2</th>\n",
       "      <td>Work</td>\n",
       "      <td>7.5506</td>\n",
       "    </tr>\n",
       "    <tr>\n",
       "      <th>3</th>\n",
       "      <td>Meal</td>\n",
       "      <td>2.7286</td>\n",
       "    </tr>\n",
       "    <tr>\n",
       "      <th>4</th>\n",
       "      <td>Change Mode Inserted Purpose</td>\n",
       "      <td>7.8794</td>\n",
       "    </tr>\n",
       "    <tr>\n",
       "      <th>5</th>\n",
       "      <td>Escort</td>\n",
       "      <td>5.2033</td>\n",
       "    </tr>\n",
       "    <tr>\n",
       "      <th>6</th>\n",
       "      <td>Social</td>\n",
       "      <td>3.8399</td>\n",
       "    </tr>\n",
       "    <tr>\n",
       "      <th>7</th>\n",
       "      <td>None/Home</td>\n",
       "      <td>5.3066</td>\n",
       "    </tr>\n",
       "    <tr>\n",
       "      <th>8</th>\n",
       "      <td>Personal Business</td>\n",
       "      <td>4.3950</td>\n",
       "    </tr>\n",
       "  </tbody>\n",
       "</table>\n",
       "</div>"
      ],
      "text/plain": [
       "                        Purpose  Non-Workers\n",
       "0                          Shop       3.6458\n",
       "1                        School       3.0718\n",
       "2                          Work       7.5506\n",
       "3                          Meal       2.7286\n",
       "4  Change Mode Inserted Purpose       7.8794\n",
       "5                        Escort       5.2033\n",
       "6                        Social       3.8399\n",
       "7                     None/Home       5.3066\n",
       "8             Personal Business       4.3950"
      ]
     },
     "execution_count": 21,
     "metadata": {},
     "output_type": "execute_result"
    }
   ],
   "source": [
    "# Non-Workers\n",
    "df = pd.read_csv(os.path.join(relative_path,'agg','trip_distance_non_wfh.csv'))\n",
    "df = df[-df['pptyp'].isin(['Full-Time Worker','Part-Time Worker'])]\n",
    "df = df[(df['dpurp'] == 'Work') & (df['dadtyp'].isin(['Other','Usual Workplace']))]\n",
    "\n",
    "# Non-Workers\n",
    "df = pd.read_csv(os.path.join(relative_path,'agg','trip_distance_non_wfh.csv'))\n",
    "df['wt_sum'] = df['trexpfac']*1.0*df['travdist_bin']\n",
    "result = {}\n",
    "for purp in pd.unique(df['dpurp']):\n",
    "    _df = df[df['dpurp'] == purp]\n",
    "    result[purp] = _df['wt_sum'].sum()/_df['trexpfac'].sum()\n",
    "    \n",
    "_df_non_worker = pd.DataFrame.from_dict(result, orient='index')\n",
    "_df_non_worker = _df_non_worker.reset_index()\n",
    "_df_non_worker.columns = ['Purpose','Non-Workers']\n",
    "_df_non_worker"
   ]
  },
  {
   "cell_type": "markdown",
   "metadata": {},
   "source": [
    "Average Trip Distance by Purpose and Worker/Person Type"
   ]
  },
  {
   "cell_type": "code",
   "execution_count": 22,
   "metadata": {},
   "outputs": [],
   "source": [
    "_df = pd.merge(_df_non_wfh, _df_wfh).merge(_df_non_worker)"
   ]
  },
  {
   "cell_type": "code",
   "execution_count": 23,
   "metadata": {},
   "outputs": [
    {
     "data": {
      "text/html": [
       "<div>\n",
       "<table border=\"1\" class=\"dataframe\">\n",
       "  <thead>\n",
       "    <tr style=\"text-align: right;\">\n",
       "      <th></th>\n",
       "      <th>Purpose</th>\n",
       "      <th>Workers at Non-Home Location</th>\n",
       "      <th>WFH Workers</th>\n",
       "      <th>Non-Workers</th>\n",
       "    </tr>\n",
       "  </thead>\n",
       "  <tbody>\n",
       "    <tr>\n",
       "      <th>0</th>\n",
       "      <td>Shop</td>\n",
       "      <td>3.6458</td>\n",
       "      <td>2.2511</td>\n",
       "      <td>3.6458</td>\n",
       "    </tr>\n",
       "    <tr>\n",
       "      <th>1</th>\n",
       "      <td>School</td>\n",
       "      <td>3.0718</td>\n",
       "      <td>5.0996</td>\n",
       "      <td>3.0718</td>\n",
       "    </tr>\n",
       "    <tr>\n",
       "      <th>2</th>\n",
       "      <td>Work</td>\n",
       "      <td>7.5506</td>\n",
       "      <td>4.5796</td>\n",
       "      <td>7.5506</td>\n",
       "    </tr>\n",
       "    <tr>\n",
       "      <th>3</th>\n",
       "      <td>Meal</td>\n",
       "      <td>2.7286</td>\n",
       "      <td>1.8947</td>\n",
       "      <td>2.7286</td>\n",
       "    </tr>\n",
       "    <tr>\n",
       "      <th>4</th>\n",
       "      <td>Change Mode Inserted Purpose</td>\n",
       "      <td>7.8794</td>\n",
       "      <td>4.1071</td>\n",
       "      <td>7.8794</td>\n",
       "    </tr>\n",
       "    <tr>\n",
       "      <th>5</th>\n",
       "      <td>Escort</td>\n",
       "      <td>5.2033</td>\n",
       "      <td>2.7589</td>\n",
       "      <td>5.2033</td>\n",
       "    </tr>\n",
       "    <tr>\n",
       "      <th>6</th>\n",
       "      <td>Social</td>\n",
       "      <td>3.8399</td>\n",
       "      <td>2.2825</td>\n",
       "      <td>3.8399</td>\n",
       "    </tr>\n",
       "    <tr>\n",
       "      <th>7</th>\n",
       "      <td>None/Home</td>\n",
       "      <td>5.3066</td>\n",
       "      <td>2.9715</td>\n",
       "      <td>5.3066</td>\n",
       "    </tr>\n",
       "    <tr>\n",
       "      <th>8</th>\n",
       "      <td>Personal Business</td>\n",
       "      <td>4.3950</td>\n",
       "      <td>2.2471</td>\n",
       "      <td>4.3950</td>\n",
       "    </tr>\n",
       "  </tbody>\n",
       "</table>\n",
       "</div>"
      ],
      "text/plain": [
       "                        Purpose  Workers at Non-Home Location  WFH Workers  \\\n",
       "0                          Shop                        3.6458       2.2511   \n",
       "1                        School                        3.0718       5.0996   \n",
       "2                          Work                        7.5506       4.5796   \n",
       "3                          Meal                        2.7286       1.8947   \n",
       "4  Change Mode Inserted Purpose                        7.8794       4.1071   \n",
       "5                        Escort                        5.2033       2.7589   \n",
       "6                        Social                        3.8399       2.2825   \n",
       "7                     None/Home                        5.3066       2.9715   \n",
       "8             Personal Business                        4.3950       2.2471   \n",
       "\n",
       "   Non-Workers  \n",
       "0       3.6458  \n",
       "1       3.0718  \n",
       "2       7.5506  \n",
       "3       2.7286  \n",
       "4       7.8794  \n",
       "5       5.2033  \n",
       "6       3.8399  \n",
       "7       5.3066  \n",
       "8       4.3950  "
      ]
     },
     "execution_count": 23,
     "metadata": {},
     "output_type": "execute_result"
    }
   ],
   "source": [
    "_df"
   ]
  },
  {
   "cell_type": "markdown",
   "metadata": {},
   "source": [
    "# Commute Tour Distance by Mode\n",
    "All Workers"
   ]
  },
  {
   "cell_type": "code",
   "execution_count": 24,
   "metadata": {},
   "outputs": [],
   "source": [
    "df = pd.read_csv(os.path.join(relative_path,'agg','tour_distance.csv'))"
   ]
  },
  {
   "cell_type": "code",
   "execution_count": 25,
   "metadata": {},
   "outputs": [
    {
     "data": {
      "image/png": "[encoded data removed]",
      "text/plain": [
       "<matplotlib.figure.Figure at 0xbc4f438>"
      ]
     },
     "metadata": {},
     "output_type": "display_data"
    },
    {
     "data": {
      "image/png": "[encoded data removed]",
      "text/plain": [
       "<matplotlib.figure.Figure at 0xb93c550>"
      ]
     },
     "metadata": {},
     "output_type": "display_data"
    },
    {
     "data": {
      "image/png": "[encoded data removed]",
      "text/plain": [
       "<matplotlib.figure.Figure at 0xbd3f7b8>"
      ]
     },
     "metadata": {},
     "output_type": "display_data"
    },
    {
     "data": {
      "image/png": "[encoded data removed]",
      "text/plain": [
       "<matplotlib.figure.Figure at 0xcb50908>"
      ]
     },
     "metadata": {},
     "output_type": "display_data"
    },
    {
     "data": {
      "image/png": "[encoded data removed]",
      "text/plain": [
       "<matplotlib.figure.Figure at 0xccc1e48>"
      ]
     },
     "metadata": {},
     "output_type": "display_data"
    },
    {
     "data": {
      "image/png": "[encoded data removed]",
      "text/plain": [
       "<matplotlib.figure.Figure at 0xcea3cf8>"
      ]
     },
     "metadata": {},
     "output_type": "display_data"
    },
    {
     "data": {
      "image/png": "[encoded data removed]",
      "text/plain": [
       "<matplotlib.figure.Figure at 0xd0113c8>"
      ]
     },
     "metadata": {},
     "output_type": "display_data"
    },
    {
     "data": {
      "image/png": "[encoded data removed]",
      "text/plain": [
       "<matplotlib.figure.Figure at 0xd16ec18>"
      ]
     },
     "metadata": {},
     "output_type": "display_data"
    }
   ],
   "source": [
    "df = pd.read_csv(os.path.join(relative_path,'agg','tour_distance.csv'))\n",
    "df = df[df['pdpurp'] == 'Work']\n",
    "df = df[df['tmodetp'] != \"-1\"]\n",
    "\n",
    "for mode in df['tmodetp'].unique():\n",
    "    _df = df[df['tmodetp'] == mode]\n",
    "    \n",
    "    _df = _df.groupby('tautodist_bin').sum()[['toexpfac']].reset_index()\n",
    "\n",
    "    _df['percent'] = _df['toexpfac']/_df['toexpfac'].sum()\n",
    "    _df['cumulative_percent'] = _df['percent'].cumsum()\n",
    "\n",
    "    # remove records that are outside 99% of records\n",
    "    _df = _df[_df['cumulative_percent'] <= 0.99]\n",
    "    \n",
    "    _df_survey = df_survey[df_survey['tmodetp'] == mode]\n",
    "    _df_survey = _df_survey.groupby('tautodist_bin').sum()[['toexpfac']].reset_index()\n",
    "\n",
    "    _df_survey['percent'] = _df_survey['toexpfac']/_df_survey['toexpfac'].sum()\n",
    "    _df_survey['cumulative_percent'] = _df_survey['percent'].cumsum()\n",
    "\n",
    "    # remove records that are outside 99% of records\n",
    "    _df_survey = _df_survey[_df_survey['cumulative_percent'] <= 0.99]\n",
    "    \n",
    "    _df_merged = _df.merge(_df_survey, on='tautodist_bin', suffixes=['_model','_survey'])\n",
    "    _df_merged[['percent_model','percent_survey']].plot(alpha=0.6, title=mode)\n",
    "    "
   ]
  },
  {
   "cell_type": "code",
   "execution_count": null,
   "metadata": {},
   "outputs": [],
   "source": []
  }
 ],
 "metadata": {
  "kernelspec": {
   "display_name": "Python 2",
   "language": "python",
   "name": "python2"
  },
  "language_info": {
   "codemirror_mode": {
    "name": "ipython",
    "version": 2
   },
   "file_extension": ".py",
   "mimetype": "text/x-python",
   "name": "python",
   "nbconvert_exporter": "python",
   "pygments_lexer": "ipython2",
   "version": "2.7.14"
  }
 },
 "nbformat": 4,
 "nbformat_minor": 2
}
