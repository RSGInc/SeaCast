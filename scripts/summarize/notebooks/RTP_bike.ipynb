{
 "cells": [
  {
   "cell_type": "code",
   "execution_count": 1,
   "id": "68c0b9ae",
   "metadata": {},
   "outputs": [],
   "source": [
    "import os, sys, time\n",
    "import warnings\n",
    "warnings.simplefilter(action='ignore', category=FutureWarning)\n",
    "import pandas as pd\n",
    "pd.options.mode.chained_assignment = None\n",
    "import h5py\n",
    "import geopandas as gpd\n",
    "os.sys.path.append(os.path.join(os.getcwd(),r'..\\standard'))\n",
    "import os, sys\n",
    "sys.path.append(os.path.join(os.getcwd(),r'..\\..\\..'))\n",
    "# import summary_helpers\n",
    "\n",
    "%matplotlib inline\n",
    "\n",
    "from IPython.display import display, HTML\n",
    "\n",
    "if (sys.version_info < (3, 0)):\n",
    "    HTML('''<script>\n",
    "    code_show=true; \n",
    "    function code_toggle() {\n",
    "     if (code_show){\n",
    "     $('div.input').hide();\n",
    "     } else {\n",
    "     $('div.input').show();\n",
    "     }\n",
    "     code_show = !code_show\n",
    "    } \n",
    "    $( document ).ready(code_toggle);\n",
    "    </script>\n",
    "    <form action=\"javascript:code_toggle()\"><input type=\"submit\" value=\"Click here to toggle on/off the raw code.\"></form>''')\n"
   ]
  },
  {
   "cell_type": "code",
   "execution_count": 9,
   "id": "04c850f0",
   "metadata": {},
   "outputs": [],
   "source": [
    "def load_network_summary(filepath):\n",
    "    \"\"\"Load network-level results using a standard procedure. \"\"\"\n",
    "    df = pd.read_csv(filepath)\n",
    "\n",
    "    # Congested network components by time of day\n",
    "    df.columns\n",
    "\n",
    "    # Get freeflow from 20to5 period\n",
    "\n",
    "    # Exclude trips taken on non-designated facilities (facility_type == 0)\n",
    "    # These are artificial (weave lanes to connect HOV) or for non-auto uses \n",
    "    df = df[df['data3'] != 0]    # data3 represents facility_type\n",
    "\n",
    "    # calculate total link VMT and VHT\n",
    "    df['VMT'] = df['@tveh']*df['length']\n",
    "    df['VHT'] = df['@tveh']*df['auto_time']/60\n",
    "\n",
    "    # Define facility type\n",
    "    df.loc[df['data3'].isin([1,2]), 'facility_type'] = 'highway'\n",
    "    df.loc[df['data3'].isin([3,4,6]), 'facility_type'] = 'arterial'\n",
    "    df.loc[df['data3'].isin([5]), 'facility_type'] = 'connector'\n",
    "\n",
    "    # Calculate delay\n",
    "    # Select links from overnight time of day\n",
    "    delay_df = df.loc[df['tod'] == '20to5'][['ij','auto_time']]\n",
    "    delay_df.rename(columns={'auto_time':'freeflow_time'}, inplace=True)\n",
    "\n",
    "    # Merge delay field back onto network link df\n",
    "    df = pd.merge(df, delay_df, on='ij', how='left')\n",
    "\n",
    "    # Calcualte hourly delay\n",
    "    df['total_delay'] = ((df['auto_time']-df['freeflow_time'])*df['@tveh'])/60    # sum of (volume)*(travtime diff from freeflow)\n",
    "\n",
    "    df['county'] =df['@countyid'].map({33: 'King',\n",
    "                                      35: 'Kitsap',\n",
    "                                      53: 'Pierce',\n",
    "                                      61: 'Snohomish'})\n",
    "    \n",
    "    return df"
   ]
  },
  {
   "cell_type": "code",
   "execution_count": 2,
   "id": "dd4d579c",
   "metadata": {},
   "outputs": [],
   "source": [
    "CSS = \"\"\"\n",
    ".output {\n",
    "    flex-direction: row;\n",
    "}\n",
    "\"\"\"\n",
    "\n",
    "HTML('<style>{}</style>'.format(CSS))\n",
    "\n",
    "# Relative path between notebooks and goruped output directories\n",
    "relative_path = '../../../outputs'\n",
    "survey_path = '../../../inputs/base_year/survey'"
   ]
  },
  {
   "cell_type": "code",
   "execution_count": 36,
   "id": "d74de481",
   "metadata": {},
   "outputs": [],
   "source": [
    "# Intersect buffer with land use file\n",
    "df_lu = pd.read_csv(r'..\\..\\..\\inputs\\scenario\\landuse\\parcels_urbansim.txt',\n",
    "                   delim_whitespace=True)\n",
    "\n",
    "# Select only parcels with households on them to trim down records size\n",
    "df_lu = df_lu[df_lu['HH_P'] > 0]\n",
    "\n",
    "# Load as a geodataframe\n",
    "gdf_lu = gpd.GeoDataFrame(\n",
    "    df_lu, geometry=gpd.points_from_xy(df_lu.XCOORD_P, df_lu.YCOORD_P))\n",
    "\n",
    "crs = {'init' : 'EPSG:2285'}\n",
    "gdf_lu.crs = crs\n",
    "\n",
    "# Buffer the parcels at one mile\n",
    "buffer_dist = 5280\n",
    "gdf_lu['geometry'] = gdf_lu.buffer(buffer_dist)"
   ]
  },
  {
   "cell_type": "code",
   "execution_count": 37,
   "id": "13b6903e",
   "metadata": {},
   "outputs": [],
   "source": [
    "# Intersect this geography  with the network shapefile\n",
    "gdf_network = gpd.read_file(r'..\\..\\..\\inputs\\scenario\\networks\\shapefiles\\AM\\AM_edges.shp')\n",
    "# Do not include connectors since these are abstracted ul3==5; also remove weave links ul3==0 \n",
    "gdf_network = gdf_network[~gdf_network.ul3.isin([0,5])]"
   ]
  },
  {
   "cell_type": "code",
   "execution_count": 38,
   "id": "dfc0163d",
   "metadata": {},
   "outputs": [],
   "source": [
    "# Select only links with a bike lane\n",
    "# Get that from the network?\n",
    "df = load_network_summary(os.path.join(relative_path,'network',r'network_results.csv'))"
   ]
  },
  {
   "cell_type": "code",
   "execution_count": 39,
   "id": "7b6517ff",
   "metadata": {},
   "outputs": [],
   "source": [
    "df = df[df['@bkfac'].isin([1,2,8,9,10])]\n",
    "# bike_facility_crosswalk = {'@bkfac': {0:'none',    # No bike lane\n",
    "#                                       1:'standard',    # Striped bike lane  \n",
    "#                                       2:'premium',     # Protected bike lane\n",
    "#                                       3:'none',    # Paved/striped shoulder\n",
    "#                                       4:'none',    # Marked shared lane\n",
    "#                                       5:'none',    # Bike provision undefined\n",
    "#                                       6:'none',    # Defined bike route no provisions\n",
    "#                                       8:'premium',    # Shared use path\n",
    "#                                       9:'standard',    # Buffered bike lane (minimally coded as of 2018 BY)\n",
    "#                                       10:'standard'    # neighborhood greenway (minimally coded as of 2018 BY)"
   ]
  },
  {
   "cell_type": "code",
   "execution_count": 40,
   "id": "7ebdebaf",
   "metadata": {},
   "outputs": [],
   "source": [
    "# Only select gdf links that are in df\n",
    "gdf_network = gdf_network[gdf_network['id'].isin(df['ij'])]"
   ]
  },
  {
   "cell_type": "markdown",
   "id": "d2b0db34",
   "metadata": {},
   "source": [
    "# Bike Network\n",
    "Facilities include striped bike lane, protected bike lane, shared use path, buffered bike lane, and neighborhood greenway.\n",
    "\n",
    "These links only represent minor arterial classification and above; local streets and any bike facilities on them are not generally included in the model network."
   ]
  },
  {
   "cell_type": "code",
   "execution_count": 41,
   "id": "c03d67d3",
   "metadata": {},
   "outputs": [
    {
     "data": {
      "text/plain": [
       "<AxesSubplot:>"
      ]
     },
     "execution_count": 41,
     "metadata": {},
     "output_type": "execute_result"
    },
    {
     "data": {
      "image/png": "[encoded data removed]",
      "text/plain": [
       "<Figure size 1152x1152 with 1 Axes>"
      ]
     },
     "metadata": {
      "needs_background": "light"
     },
     "output_type": "display_data"
    }
   ],
   "source": [
    "gdf_network.plot(figsize=(16,16))"
   ]
  },
  {
   "cell_type": "code",
   "execution_count": 42,
   "id": "995e03f7",
   "metadata": {},
   "outputs": [],
   "source": [
    "gdf_intersect = gpd.overlay(gdf_network, gdf_lu, how=\"intersection\", keep_geom_type=False)\n",
    "\n",
    "# Will need to relaculate the lengths since some were split across the regional geographies\n",
    "gdf_intersect['new_length'] = gdf_intersect.geometry.length/5280.0\n",
    "\n",
    "# filter out the polygon results and only keep lines\n",
    "gdf_intersect = gdf_intersect[gdf_intersect.geometry.type.isin(['MultiLineString','LineString'])]"
   ]
  },
  {
   "cell_type": "code",
   "execution_count": 1,
   "id": "959b62d3",
   "metadata": {},
   "outputs": [],
   "source": [
    "\n",
    "# gdf_intersect.plot(figsize=(20,20))"
   ]
  },
  {
   "cell_type": "code",
   "execution_count": 52,
   "id": "827a24e0",
   "metadata": {},
   "outputs": [],
   "source": [
    "# gdf_intersect.groupby(['PARCELID','']).sum()[['new_length']]"
   ]
  },
  {
   "cell_type": "code",
   "execution_count": 65,
   "id": "8ba0ceee",
   "metadata": {},
   "outputs": [],
   "source": [
    "df = gdf_intersect[['length','new_length','HH_P','PARCELID','type','bkfac','id']]"
   ]
  },
  {
   "cell_type": "code",
   "execution_count": 51,
   "id": "d81839b0",
   "metadata": {},
   "outputs": [],
   "source": [
    "from input_configuration import base_year\n",
    "parcel_geog = pd.read_sql_table('parcel_'+base_year+'_geography', 'sqlite:///../../../inputs/db/soundcast_inputs.db')"
   ]
  },
  {
   "cell_type": "code",
   "execution_count": 66,
   "id": "90d72f4b",
   "metadata": {},
   "outputs": [],
   "source": [
    "df = df.merge(parcel_geog, left_on='PARCELID', right_on='ParcelID', how='left')"
   ]
  },
  {
   "cell_type": "code",
   "execution_count": 67,
   "id": "4a0d25e8",
   "metadata": {},
   "outputs": [],
   "source": [
    "# df.groupby('CountyName').sum()[['new_length']]\n",
    "# Calcualte a population weighted total length\n",
    "df['wt_length'] = df['new_length']*df['HH_P']"
   ]
  },
  {
   "cell_type": "code",
   "execution_count": null,
   "id": "6e31e1da",
   "metadata": {},
   "outputs": [],
   "source": [
    "# Average miles of bike lanes within a mile?"
   ]
  },
  {
   "cell_type": "code",
   "execution_count": 107,
   "id": "5c155259",
   "metadata": {},
   "outputs": [],
   "source": [
    "# Percent of Households with some bike lane within a mile\n",
    "\n",
    "df = gdf_intersect[['length','new_length','HH_P','PARCELID','type','bkfac','id']]\n",
    "\n",
    "# df = df[df['@bkfac'].isin([1,2,8,9,10])]\n",
    "# bike_facility_crosswalk = {'@bkfac': {0:'none',    # No bike lane\n",
    "#                                       1:'standard',    # Striped bike lane  \n",
    "#                                       2:'premium',     # Protected bike lane\n",
    "#                                       3:'none',    # Paved/striped shoulder\n",
    "#                                       4:'none',    # Marked shared lane\n",
    "#                                       5:'none',    # Bike provision undefined\n",
    "#                                       6:'none',    # Defined bike route no provisions\n",
    "#                                       8:'premium',    # Shared use path\n",
    "#                                       9:'standard',    # Buffered bike lane (minimally coded as of 2018 BY)\n",
    "#                                       10:'standard'    # neighborhood greenway (minimally coded as of 2018 BY)\n",
    "\n",
    "bkfac_dict = {\n",
    "    1: 'striped',\n",
    "    2: 'protected',\n",
    "    8: 'shared_use',\n",
    "    9: 'buffered',\n",
    "    10: 'greenway'\n",
    "}"
   ]
  },
  {
   "cell_type": "code",
   "execution_count": 108,
   "id": "712411f4",
   "metadata": {},
   "outputs": [],
   "source": [
    "for bkfac in df['bkfac'].unique():\n",
    "    unique_parcels = df.loc[df['bkfac'] == bkfac, 'PARCELID'].unique()\n",
    "    df_lu['bike_facility_1_mile_'+str(bkfac_dict[bkfac])] = 0\n",
    "    df_lu.loc[df_lu['PARCELID'].isin(unique_parcels),'bike_facility_1_mile_'+str(bkfac_dict[bkfac])] = 1"
   ]
  },
  {
   "cell_type": "code",
   "execution_count": 111,
   "id": "07e1cd90",
   "metadata": {},
   "outputs": [],
   "source": [
    "df = df_lu.merge(parcel_geog, left_on='PARCELID', right_on='ParcelID', how='left')"
   ]
  },
  {
   "cell_type": "code",
   "execution_count": 144,
   "id": "f70d3bd1",
   "metadata": {},
   "outputs": [],
   "source": [
    "# Calculate household weighted average\n",
    "df['region'] = 1\n",
    "geog = 'region'\n",
    "results_df = pd.DataFrame()\n",
    "for bkfac in gdf_intersect['bkfac'].unique():\n",
    "#     print('------------------------------------------')\n",
    "#     print(bkfac_dict[bkfac])\n",
    "    df['wt_bike_facility_1_mile_'+str(bkfac_dict[bkfac])] = df['bike_facility_1_mile_'+str(bkfac_dict[bkfac])]*df_lu['HH_P']\n",
    "    results_df[bkfac_dict[bkfac]] = df.groupby(geog).sum()['wt_bike_facility_1_mile_'+str(bkfac_dict[bkfac])]/df.groupby(geog).sum()['HH_P']\n",
    "    "
   ]
  },
  {
   "cell_type": "markdown",
   "id": "eb49c474",
   "metadata": {},
   "source": [
    "# Percent of Households within 1 Mile of Bike Facility\n",
    "Weighted average of households that have a bike facility of a certain type within 1 mile. Any segment of bike facility within a buffered mile is considered, regardless of connectivity or direct accessibility. "
   ]
  },
  {
   "cell_type": "code",
   "execution_count": 2,
   "id": "5db3a526",
   "metadata": {},
   "outputs": [
    {
     "ename": "NameError",
     "evalue": "name 'pd' is not defined",
     "output_type": "error",
     "traceback": [
      "\u001b[1;31m---------------------------------------------------------------------------\u001b[0m",
      "\u001b[1;31mNameError\u001b[0m                                 Traceback (most recent call last)",
      "\u001b[1;32m<ipython-input-2-b0763a658e46>\u001b[0m in \u001b[0;36m<module>\u001b[1;34m\u001b[0m\n\u001b[1;32m----> 1\u001b[1;33m \u001b[0mpd\u001b[0m\u001b[1;33m.\u001b[0m\u001b[0moptions\u001b[0m\u001b[1;33m.\u001b[0m\u001b[0mdisplay\u001b[0m\u001b[1;33m.\u001b[0m\u001b[0mfloat_format\u001b[0m \u001b[1;33m=\u001b[0m \u001b[1;34m'{:0,.1%}'\u001b[0m\u001b[1;33m.\u001b[0m\u001b[0mformat\u001b[0m\u001b[1;33m\u001b[0m\u001b[1;33m\u001b[0m\u001b[0m\n\u001b[0m\u001b[0;32m      2\u001b[0m \u001b[0mresults_df\u001b[0m\u001b[1;33m\u001b[0m\u001b[1;33m\u001b[0m\u001b[0m\n",
      "\u001b[1;31mNameError\u001b[0m: name 'pd' is not defined"
     ]
    }
   ],
   "source": [
    "pd.options.display.float_format = '{:0,.1%}'.format\n",
    "results_df"
   ]
  },
  {
   "cell_type": "code",
   "execution_count": 3,
   "id": "8fdb0675",
   "metadata": {},
   "outputs": [
    {
     "ename": "NameError",
     "evalue": "name 'pd' is not defined",
     "output_type": "error",
     "traceback": [
      "\u001b[1;31m---------------------------------------------------------------------------\u001b[0m",
      "\u001b[1;31mNameError\u001b[0m                                 Traceback (most recent call last)",
      "\u001b[1;32m<ipython-input-3-55c74d2bf992>\u001b[0m in \u001b[0;36m<module>\u001b[1;34m\u001b[0m\n\u001b[0;32m      1\u001b[0m \u001b[1;31m# Calculate household weighted average\u001b[0m\u001b[1;33m\u001b[0m\u001b[1;33m\u001b[0m\u001b[1;33m\u001b[0m\u001b[0m\n\u001b[0;32m      2\u001b[0m \u001b[0mgeog\u001b[0m \u001b[1;33m=\u001b[0m \u001b[1;34m'CountyName'\u001b[0m\u001b[1;33m\u001b[0m\u001b[1;33m\u001b[0m\u001b[0m\n\u001b[1;32m----> 3\u001b[1;33m \u001b[0mresults_df\u001b[0m \u001b[1;33m=\u001b[0m \u001b[0mpd\u001b[0m\u001b[1;33m.\u001b[0m\u001b[0mDataFrame\u001b[0m\u001b[1;33m(\u001b[0m\u001b[1;33m)\u001b[0m\u001b[1;33m\u001b[0m\u001b[1;33m\u001b[0m\u001b[0m\n\u001b[0m\u001b[0;32m      4\u001b[0m \u001b[1;32mfor\u001b[0m \u001b[0mbkfac\u001b[0m \u001b[1;32min\u001b[0m \u001b[0mgdf_intersect\u001b[0m\u001b[1;33m[\u001b[0m\u001b[1;34m'bkfac'\u001b[0m\u001b[1;33m]\u001b[0m\u001b[1;33m.\u001b[0m\u001b[0munique\u001b[0m\u001b[1;33m(\u001b[0m\u001b[1;33m)\u001b[0m\u001b[1;33m:\u001b[0m\u001b[1;33m\u001b[0m\u001b[1;33m\u001b[0m\u001b[0m\n\u001b[0;32m      5\u001b[0m \u001b[1;31m#     print('------------------------------------------')\u001b[0m\u001b[1;33m\u001b[0m\u001b[1;33m\u001b[0m\u001b[1;33m\u001b[0m\u001b[0m\n",
      "\u001b[1;31mNameError\u001b[0m: name 'pd' is not defined"
     ]
    }
   ],
   "source": [
    "# Calculate household weighted average\n",
    "geog = 'CountyName'\n",
    "results_df = pd.DataFrame()\n",
    "for bkfac in gdf_intersect['bkfac'].unique():\n",
    "#     print('------------------------------------------')\n",
    "#     print(bkfac_dict[bkfac])\n",
    "    df['wt_bike_facility_1_mile_'+str(bkfac_dict[bkfac])] = df['bike_facility_1_mile_'+str(bkfac_dict[bkfac])]*df_lu['HH_P']\n",
    "    results_df[bkfac_dict[bkfac]] = df.groupby(geog).sum()['wt_bike_facility_1_mile_'+str(bkfac_dict[bkfac])]/df.groupby(geog).sum()['HH_P']\n",
    "    "
   ]
  },
  {
   "cell_type": "code",
   "execution_count": 4,
   "id": "e948a252",
   "metadata": {},
   "outputs": [
    {
     "ename": "NameError",
     "evalue": "name 'pd' is not defined",
     "output_type": "error",
     "traceback": [
      "\u001b[1;31m---------------------------------------------------------------------------\u001b[0m",
      "\u001b[1;31mNameError\u001b[0m                                 Traceback (most recent call last)",
      "\u001b[1;32m<ipython-input-4-b0763a658e46>\u001b[0m in \u001b[0;36m<module>\u001b[1;34m\u001b[0m\n\u001b[1;32m----> 1\u001b[1;33m \u001b[0mpd\u001b[0m\u001b[1;33m.\u001b[0m\u001b[0moptions\u001b[0m\u001b[1;33m.\u001b[0m\u001b[0mdisplay\u001b[0m\u001b[1;33m.\u001b[0m\u001b[0mfloat_format\u001b[0m \u001b[1;33m=\u001b[0m \u001b[1;34m'{:0,.1%}'\u001b[0m\u001b[1;33m.\u001b[0m\u001b[0mformat\u001b[0m\u001b[1;33m\u001b[0m\u001b[1;33m\u001b[0m\u001b[0m\n\u001b[0m\u001b[0;32m      2\u001b[0m \u001b[0mresults_df\u001b[0m\u001b[1;33m\u001b[0m\u001b[1;33m\u001b[0m\u001b[0m\n",
      "\u001b[1;31mNameError\u001b[0m: name 'pd' is not defined"
     ]
    }
   ],
   "source": [
    "pd.options.display.float_format = '{:0,.1%}'.format\n",
    "results_df"
   ]
  },
  {
   "cell_type": "code",
   "execution_count": 119,
   "id": "a86d730d",
   "metadata": {},
   "outputs": [],
   "source": [
    "geo_list = []\n",
    "equity_geogs = ['youth','elderly','english','racial','poverty','disability']\n",
    "for equity_geog in equity_geogs:\n",
    "    for geog_type in ['_geog_vs_reg_total','_geog_vs_50_percent']:\n",
    "        if geog_type == '_geog_vs_reg_total' or equity_geog in ['poverty','racial']:\n",
    "            geo_list.append(equity_geog+geog_type)"
   ]
  },
  {
   "cell_type": "code",
   "execution_count": 137,
   "id": "31f805a1",
   "metadata": {},
   "outputs": [],
   "source": [
    "results_dict = {}\n",
    "for geog in geo_list:\n",
    "    results_dict[geog] = {}\n",
    "    for bkfac in gdf_intersect['bkfac'].unique():\n",
    "    #     print('------------------------------------------')\n",
    "    #     print(bkfac_dict[bkfac])\n",
    "        \n",
    "        df['wt_bike_facility_1_mile_'+str(bkfac_dict[bkfac])] = df['bike_facility_1_mile_'+str(bkfac_dict[bkfac])]*df_lu['HH_P']\n",
    "        _df = df.groupby(geog).sum()['wt_bike_facility_1_mile_'+str(bkfac_dict[bkfac])]/df.groupby(geog).sum()['HH_P']\n",
    "        \n",
    "        results_dict[geog][bkfac_dict[bkfac]] = _df.loc[1]"
   ]
  },
  {
   "cell_type": "code",
   "execution_count": 140,
   "id": "cfcd9cf1",
   "metadata": {},
   "outputs": [
    {
     "data": {
      "text/html": [
       "<div>\n",
       "<style scoped>\n",
       "    .dataframe tbody tr th:only-of-type {\n",
       "        vertical-align: middle;\n",
       "    }\n",
       "\n",
       "    .dataframe tbody tr th {\n",
       "        vertical-align: top;\n",
       "    }\n",
       "\n",
       "    .dataframe thead th {\n",
       "        text-align: right;\n",
       "    }\n",
       "</style>\n",
       "<table border=\"1\" class=\"dataframe\">\n",
       "  <thead>\n",
       "    <tr style=\"text-align: right;\">\n",
       "      <th></th>\n",
       "      <th>striped</th>\n",
       "      <th>protected</th>\n",
       "      <th>shared_use</th>\n",
       "      <th>buffered</th>\n",
       "    </tr>\n",
       "  </thead>\n",
       "  <tbody>\n",
       "    <tr>\n",
       "      <th>youth_geog_vs_reg_total</th>\n",
       "      <td>56.8%</td>\n",
       "      <td>7.6%</td>\n",
       "      <td>19.2%</td>\n",
       "      <td>1.0%</td>\n",
       "    </tr>\n",
       "    <tr>\n",
       "      <th>elderly_geog_vs_reg_total</th>\n",
       "      <td>52.4%</td>\n",
       "      <td>10.8%</td>\n",
       "      <td>17.2%</td>\n",
       "      <td>0.8%</td>\n",
       "    </tr>\n",
       "    <tr>\n",
       "      <th>english_geog_vs_reg_total</th>\n",
       "      <td>63.0%</td>\n",
       "      <td>12.1%</td>\n",
       "      <td>17.3%</td>\n",
       "      <td>1.1%</td>\n",
       "    </tr>\n",
       "    <tr>\n",
       "      <th>racial_geog_vs_reg_total</th>\n",
       "      <td>59.9%</td>\n",
       "      <td>11.1%</td>\n",
       "      <td>17.5%</td>\n",
       "      <td>1.0%</td>\n",
       "    </tr>\n",
       "    <tr>\n",
       "      <th>racial_geog_vs_50_percent</th>\n",
       "      <td>61.5%</td>\n",
       "      <td>13.7%</td>\n",
       "      <td>15.7%</td>\n",
       "      <td>1.2%</td>\n",
       "    </tr>\n",
       "    <tr>\n",
       "      <th>poverty_geog_vs_reg_total</th>\n",
       "      <td>50.1%</td>\n",
       "      <td>10.0%</td>\n",
       "      <td>15.2%</td>\n",
       "      <td>1.0%</td>\n",
       "    </tr>\n",
       "    <tr>\n",
       "      <th>poverty_geog_vs_50_percent</th>\n",
       "      <td>37.8%</td>\n",
       "      <td>9.8%</td>\n",
       "      <td>2.5%</td>\n",
       "      <td>1.1%</td>\n",
       "    </tr>\n",
       "    <tr>\n",
       "      <th>disability_geog_vs_reg_total</th>\n",
       "      <td>45.2%</td>\n",
       "      <td>6.3%</td>\n",
       "      <td>14.1%</td>\n",
       "      <td>0.2%</td>\n",
       "    </tr>\n",
       "  </tbody>\n",
       "</table>\n",
       "</div>"
      ],
      "text/plain": [
       "                              striped  protected  shared_use  buffered\n",
       "youth_geog_vs_reg_total         56.8%       7.6%       19.2%      1.0%\n",
       "elderly_geog_vs_reg_total       52.4%      10.8%       17.2%      0.8%\n",
       "english_geog_vs_reg_total       63.0%      12.1%       17.3%      1.1%\n",
       "racial_geog_vs_reg_total        59.9%      11.1%       17.5%      1.0%\n",
       "racial_geog_vs_50_percent       61.5%      13.7%       15.7%      1.2%\n",
       "poverty_geog_vs_reg_total       50.1%      10.0%       15.2%      1.0%\n",
       "poverty_geog_vs_50_percent      37.8%       9.8%        2.5%      1.1%\n",
       "disability_geog_vs_reg_total    45.2%       6.3%       14.1%      0.2%"
      ]
     },
     "execution_count": 140,
     "metadata": {},
     "output_type": "execute_result"
    }
   ],
   "source": [
    "pd.DataFrame(results_dict).T"
   ]
  },
  {
   "cell_type": "code",
   "execution_count": 141,
   "id": "dff3b760",
   "metadata": {},
   "outputs": [],
   "source": [
    "results_dict = {}\n",
    "for geog in geo_list:\n",
    "    results_dict[geog] = {}\n",
    "    for bkfac in gdf_intersect['bkfac'].unique():\n",
    "    #     print('------------------------------------------')\n",
    "    #     print(bkfac_dict[bkfac])\n",
    "        \n",
    "        df['wt_bike_facility_1_mile_'+str(bkfac_dict[bkfac])] = df['bike_facility_1_mile_'+str(bkfac_dict[bkfac])]*df_lu['HH_P']\n",
    "        _df = df.groupby(geog).sum()['wt_bike_facility_1_mile_'+str(bkfac_dict[bkfac])]/df.groupby(geog).sum()['HH_P']\n",
    "        \n",
    "        results_dict[geog][bkfac_dict[bkfac]] = _df.loc[0]"
   ]
  },
  {
   "cell_type": "code",
   "execution_count": 142,
   "id": "6d7e6cff",
   "metadata": {},
   "outputs": [
    {
     "data": {
      "text/html": [
       "<div>\n",
       "<style scoped>\n",
       "    .dataframe tbody tr th:only-of-type {\n",
       "        vertical-align: middle;\n",
       "    }\n",
       "\n",
       "    .dataframe tbody tr th {\n",
       "        vertical-align: top;\n",
       "    }\n",
       "\n",
       "    .dataframe thead th {\n",
       "        text-align: right;\n",
       "    }\n",
       "</style>\n",
       "<table border=\"1\" class=\"dataframe\">\n",
       "  <thead>\n",
       "    <tr style=\"text-align: right;\">\n",
       "      <th></th>\n",
       "      <th>striped</th>\n",
       "      <th>protected</th>\n",
       "      <th>shared_use</th>\n",
       "      <th>buffered</th>\n",
       "    </tr>\n",
       "  </thead>\n",
       "  <tbody>\n",
       "    <tr>\n",
       "      <th>NOT in youth_geog_vs_reg_total</th>\n",
       "      <td>53.8%</td>\n",
       "      <td>15.5%</td>\n",
       "      <td>16.1%</td>\n",
       "      <td>2.9%</td>\n",
       "    </tr>\n",
       "    <tr>\n",
       "      <th>NOT in elderly_geog_vs_reg_total</th>\n",
       "      <td>57.8%</td>\n",
       "      <td>12.3%</td>\n",
       "      <td>18.0%</td>\n",
       "      <td>3.0%</td>\n",
       "    </tr>\n",
       "    <tr>\n",
       "      <th>NOT in english_geog_vs_reg_total</th>\n",
       "      <td>50.7%</td>\n",
       "      <td>11.3%</td>\n",
       "      <td>17.8%</td>\n",
       "      <td>2.5%</td>\n",
       "    </tr>\n",
       "    <tr>\n",
       "      <th>NOT in racial_geog_vs_reg_total</th>\n",
       "      <td>51.6%</td>\n",
       "      <td>11.9%</td>\n",
       "      <td>17.8%</td>\n",
       "      <td>2.8%</td>\n",
       "    </tr>\n",
       "    <tr>\n",
       "      <th>NOT in racial_geog_vs_50_percent</th>\n",
       "      <td>53.7%</td>\n",
       "      <td>11.0%</td>\n",
       "      <td>18.1%</td>\n",
       "      <td>2.2%</td>\n",
       "    </tr>\n",
       "    <tr>\n",
       "      <th>NOT in poverty_geog_vs_reg_total</th>\n",
       "      <td>59.0%</td>\n",
       "      <td>12.7%</td>\n",
       "      <td>19.4%</td>\n",
       "      <td>2.7%</td>\n",
       "    </tr>\n",
       "    <tr>\n",
       "      <th>NOT in poverty_geog_vs_50_percent</th>\n",
       "      <td>55.7%</td>\n",
       "      <td>11.6%</td>\n",
       "      <td>18.0%</td>\n",
       "      <td>2.0%</td>\n",
       "    </tr>\n",
       "    <tr>\n",
       "      <th>NOT in disability_geog_vs_reg_total</th>\n",
       "      <td>64.1%</td>\n",
       "      <td>16.2%</td>\n",
       "      <td>20.7%</td>\n",
       "      <td>3.5%</td>\n",
       "    </tr>\n",
       "  </tbody>\n",
       "</table>\n",
       "</div>"
      ],
      "text/plain": [
       "                                     striped  protected  shared_use  buffered\n",
       "NOT in youth_geog_vs_reg_total         53.8%      15.5%       16.1%      2.9%\n",
       "NOT in elderly_geog_vs_reg_total       57.8%      12.3%       18.0%      3.0%\n",
       "NOT in english_geog_vs_reg_total       50.7%      11.3%       17.8%      2.5%\n",
       "NOT in racial_geog_vs_reg_total        51.6%      11.9%       17.8%      2.8%\n",
       "NOT in racial_geog_vs_50_percent       53.7%      11.0%       18.1%      2.2%\n",
       "NOT in poverty_geog_vs_reg_total       59.0%      12.7%       19.4%      2.7%\n",
       "NOT in poverty_geog_vs_50_percent      55.7%      11.6%       18.0%      2.0%\n",
       "NOT in disability_geog_vs_reg_total    64.1%      16.2%       20.7%      3.5%"
      ]
     },
     "execution_count": 142,
     "metadata": {},
     "output_type": "execute_result"
    }
   ],
   "source": [
    "_df = pd.DataFrame(results_dict).T\n",
    "_df.index = ['NOT in '+i for i in _df.index]\n",
    "_df"
   ]
  },
  {
   "cell_type": "code",
   "execution_count": 143,
   "id": "3a4c6596",
   "metadata": {},
   "outputs": [],
   "source": [
    "df['region'] = 1"
   ]
  },
  {
   "cell_type": "code",
   "execution_count": null,
   "id": "c634d736",
   "metadata": {},
   "outputs": [],
   "source": [
    "for bkfac in gdf_intersect['bkfac'].unique():\n",
    "    df.groupby(geog).sum()['wt_bike_facility_1_mile_'+str(bkfac_dict[bkfac])]/df.groupby(geog).sum()['HH_P']"
   ]
  }
 ],
 "metadata": {
  "kernelspec": {
   "display_name": "Python 3",
   "language": "python",
   "name": "python3"
  },
  "language_info": {
   "codemirror_mode": {
    "name": "ipython",
    "version": 3
   },
   "file_extension": ".py",
   "mimetype": "text/x-python",
   "name": "python",
   "nbconvert_exporter": "python",
   "pygments_lexer": "ipython3",
   "version": "3.7.10"
  }
 },
 "nbformat": 4,
 "nbformat_minor": 5
}
