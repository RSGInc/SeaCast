{
 "cells": [
  {
   "cell_type": "code",
   "execution_count": 1,
   "metadata": {
    "collapsed": true
   },
   "outputs": [],
   "source": [
    "# Emissions Calculation by Vehicle Type\n"
   ]
  },
  {
   "cell_type": "code",
   "execution_count": 91,
   "metadata": {
    "collapsed": true
   },
   "outputs": [],
   "source": [
    "import os\n",
    "import pandas as pd\n",
    "\n",
    "base_year = '2014'\n",
    "model_year = '2050'\n",
    "\n",
    "# create directory for these output files\n",
    "output_dir = r'outputs\\emissions\\by_vehicle_type'\n",
    "if not os.path.exists(output_dir):\n",
    "    os.makedirs(output_dir)"
   ]
  },
  {
   "cell_type": "code",
   "execution_count": 3,
   "metadata": {
    "collapsed": true
   },
   "outputs": [],
   "source": [
    "def grams_to_tons(value):\n",
    "\t\"\"\" Convert grams to tons.\"\"\"\n",
    "\n",
    "\tvalue = value/453.592\n",
    "\tvalue = value/2000\n",
    "\n",
    "\treturn value"
   ]
  },
  {
   "cell_type": "code",
   "execution_count": 74,
   "metadata": {
    "collapsed": true
   },
   "outputs": [],
   "source": [
    "def calculate_tons_by_veh_type(df, df_rates):\n",
    "    df.rename(columns={'geog_name':'county', 'avgspeedbinId': 'avgSpeedBinID', 'roadtypeId': 'roadTypeID', 'hourId': 'hourID'},\n",
    "              inplace=True)\n",
    "\n",
    "    df['county'] = df['county'].apply(lambda row: row.lower())\n",
    "    \n",
    "    # Calculate total VMT by vehicle group\n",
    "    df['light'] = df['sov_vmt']+df['hov2_vmt']+df['hov3_vmt']\n",
    "    df['medium'] = df['medium_truck_vmt']\n",
    "    df['heavy'] = df['heavy_truck_vmt']\n",
    "    # What about buses??\n",
    "    df.drop(['sov_vmt','hov2_vmt','hov3_vmt','medium_truck_vmt','heavy_truck_vmt','bus_vmt'], inplace=True, axis=1)\n",
    "\n",
    "    # Melt to pivot vmt by vehicle type columns as rows\n",
    "    df = pd.melt(df, id_vars=['avgSpeedBinID','roadTypeID','hourID','county'], var_name='veh_type', value_name='vmt')\n",
    "\n",
    "    newdf = pd.merge(df, df_rates, on=['avgSpeedBinID','roadTypeID','hourID','county','veh_type'], how='left', left_index=False)\n",
    "    # Calculate total grams of emission \n",
    "    newdf['grams_tot'] = newdf['grams_per_mile']*newdf['vmt']\n",
    "    newdf['tons_tot'] = grams_to_tons(newdf['grams_tot'])\n",
    "    \n",
    "    return newdf"
   ]
  },
  {
   "cell_type": "markdown",
   "metadata": {},
   "source": [
    "# Interzonal Trips"
   ]
  },
  {
   "cell_type": "code",
   "execution_count": 93,
   "metadata": {},
   "outputs": [],
   "source": [
    "# Load rate files\n",
    "df_running_rates = pd.read_csv(r'C:/Users/Brice/sc_dev/scripts/summarize/inputs/network_summary/running_emission_rates_by_veh_type.csv')\n",
    "year = '2050'\n",
    "df_running_rates.rename(columns={'sum(ratePerDistance)': 'grams_per_mile'}, inplace=True)\n",
    "df_running_rates['year'] = df_running_rates['year'].astype('str')\n",
    "df_running_rates = df_running_rates[df_running_rates['year'] == year]\n",
    "\n",
    "df_inter = pd.read_csv(r'L:\\vision2050\\soundcast\\integrated\\final_runs\\tod\\tod_run_8.run_2018_10_29_15_01\\2050\\outputs\\emissions\\interzonal_vmt_grouped.csv')\n",
    "df_inter = calculate_tons_by_veh_type(df_inter, df_running_rates)\n",
    "\n",
    "# Write raw output to file\n",
    "df_inter.to_csv(os.path.join(output_dir,'interzonal_emissions_by_veh_type.csv'), index=False)"
   ]
  },
  {
   "cell_type": "code",
   "execution_count": 76,
   "metadata": {},
   "outputs": [
    {
     "data": {
      "text/plain": [
       "31436.43670616754"
      ]
     },
     "execution_count": 76,
     "metadata": {},
     "output_type": "execute_result"
    }
   ],
   "source": [
    "df_inter[df_inter['pollutantID'] == 98].sum()['tons_tot']"
   ]
  },
  {
   "cell_type": "markdown",
   "metadata": {
    "collapsed": true
   },
   "source": [
    "# Intrazonal Trips"
   ]
  },
  {
   "cell_type": "code",
   "execution_count": 94,
   "metadata": {
    "collapsed": true
   },
   "outputs": [],
   "source": [
    "df_intra = pd.read_csv(r'L:\\vision2050\\soundcast\\integrated\\final_runs\\tod\\tod_run_8.run_2018_10_29_15_01\\2050\\outputs\\emissions\\intrazonal_vmt_grouped.csv')\n",
    "df_intra.rename(columns={'vehicle_type':'veh_type', 'VMT': 'vmt', 'hourId': 'hourID', 'geog_name': 'county'},inplace=True)\n",
    "df_intra.drop('tod', axis=1, inplace=True)\n",
    "df_intra['county'] = df_intra['county'].apply(lambda row: row.lower())\n",
    "\n",
    "df_intra_light = df_intra[df_intra['veh_type'].isin(['sov','hov2','hov3'])]\n",
    "df_intra_light = df_intra_light.groupby(['county','hourID']).sum()[['vmt']].reset_index()\n",
    "df_intra_light['veh_type'] = 'light'\n",
    "\n",
    "df_intra_medium = df_intra[df_intra['veh_type'] == 'mediumtruck']\n",
    "df_intra_medium['veh_type'] = 'medium'\n",
    "df_intra_heavy = df_intra[df_intra['veh_type'] == 'heavytruck']\n",
    "df_intra_heavy['veh_type'] = 'heavy'\n",
    "\n",
    "df_intra = df_intra_light.append(df_intra_medium)\n",
    "df_intra = df_intra.append(df_intra_heavy)\n",
    "\n",
    "# For intrazonals, assume standard speed bin and roadway type for all intrazonal trips\n",
    "speedbin = 4\n",
    "roadtype = 5\n",
    "\n",
    "iz_rates = df_running_rates[(df_running_rates['avgSpeedBinID'] == speedbin) &\n",
    "                    (df_running_rates['roadTypeID'] == roadtype)]\n",
    "\n",
    "df_intra = pd.merge(df_intra, iz_rates, on=['hourID','county','veh_type'], how='left', left_index=False)\n",
    "# Calculate total grams of emission \n",
    "df_intra['grams_tot'] = df_intra['grams_per_mile']*df_intra['vmt']\n",
    "df_intra['tons_tot'] = grams_to_tons(df_intra['grams_tot'])\n",
    "\n",
    "# Write raw output to file\n",
    "df_intra.to_csv(os.path.join(output_dir,'intrazonal_emissions_by_veh_type.csv'), index=False)"
   ]
  },
  {
   "cell_type": "markdown",
   "metadata": {},
   "source": [
    "# Starts"
   ]
  },
  {
   "cell_type": "code",
   "execution_count": 79,
   "metadata": {},
   "outputs": [],
   "source": [
    "start_rates_df = pd.read_csv(r'C:\\Users\\Brice\\sc_dev\\scripts\\summarize\\inputs\\network_summary\\start_emission_rates_by_veh_type.csv')"
   ]
  },
  {
   "cell_type": "code",
   "execution_count": 95,
   "metadata": {},
   "outputs": [],
   "source": [
    "# Estimate vehicle population for AQ purposes (not using Soundcast estimates)\n",
    "# Ref: X:\\Trans\\AIRQUAL\\T2040 2018 Update\\EmissionCalcs\\Start Emissions\\Estimate Vehicle Population_updatedfor2018.xlsx\n",
    "# Pivoting from 2014 Vehicle population data and 2040 projections -> updated to 2050 using this process\n",
    "\n",
    "# For GHG Analysis see:\n",
    "# X:\\Trans\\AIRQUAL\\T2040 2018 Update\\EmissionCalcs\\Start Emissions\\Starts_2040_GHG.xlsx\n",
    "veh_totals = {'2014': 3176086, '2040': 3982578.1, '2050': 4437371}\n",
    "\n",
    "# Base year distribution of vehicle ownership by county\n",
    "vehs_by_county = {\n",
    "    'King': 1625471,\n",
    "    'Kitsap': 231231,\n",
    "    'Pierce': 675660,\n",
    "    'Snohomish': 643724\n",
    "}\n",
    "\n",
    "# Base year distribution of vehicles by type (2014)\n",
    "# Note that the totals by county above (for 2014) \n",
    "# include buses, so the totals below do not match up\n",
    "# The difference is buses\n",
    "vehs_by_type = {\n",
    "    'king': {\n",
    "        'light': 1433538,\n",
    "        'medium': 174597,\n",
    "        'heavy': 10574\n",
    "    },\n",
    "    'kitsap': {\n",
    "        'light': 199872,\n",
    "        'medium': 28830,\n",
    "        'heavy': 1342\n",
    "    },\n",
    "    'pierce': {\n",
    "        'light': 585681,\n",
    "        'medium': 82607,\n",
    "        'heavy': 4305\n",
    "    },\n",
    "    'snohomish': {\n",
    "        'light': 559557,\n",
    "        'medium': 77685,\n",
    "        'heavy': 3884\n",
    "    },\n",
    "}\n",
    "\n",
    "base_county_veh = pd.DataFrame.from_dict(vehs_by_type, orient='index')\n",
    "base_county_veh\n",
    "\n",
    "# Scale county vehicles by total change\n",
    "veh_scale = 1+(veh_totals[model_year]-veh_totals[base_year])/veh_totals[base_year]\n",
    "\n",
    "# # Apply scale factor to the base vehicle sum by county\n",
    "scen_county_veh = base_county_veh*veh_scale\n",
    "\n",
    "vehicles_df = pd.DataFrame(scen_county_veh.unstack()).reset_index()\n",
    "vehicles_df.columns = ['veh_type','county','vehicles']\n",
    "\n",
    "# Join with rates to calculate total emissions\n",
    "start_emissions_df = pd.merge(vehicles_df, start_rates_df, on=['veh_type','county'])\n",
    "\n",
    "start_emissions_df['start_grams'] = start_emissions_df['vehicles']*start_emissions_df['ratePerVehicle'] \n",
    "start_emissions_df['start_tons'] = grams_to_tons(start_emissions_df['start_grams'])\n",
    "\n",
    "start_emissions_df = start_emissions_df.groupby(['pollutantID','veh_type','county']).sum().reset_index()\n",
    "\n",
    "# Write raw output to file\n",
    "start_emissions_df.to_csv(os.path.join(output_dir,'start_emissions_by_veh_type.csv'), index=False)"
   ]
  },
  {
   "cell_type": "code",
   "execution_count": 113,
   "metadata": {},
   "outputs": [],
   "source": [
    "# Combine all rates and export as CSV\n",
    "\n",
    "df_inter_group = df_inter.groupby(['pollutantID','county','veh_type']).sum()[['tons_tot']].reset_index()\n",
    "df_inter_group.rename(columns={'tons_tot': 'interzonal_tons'}, inplace=True)\n",
    "df_intra_group = df_intra.groupby(['pollutantID','county','veh_type']).sum()[['tons_tot']].reset_index()\n",
    "df_intra_group.rename(columns={'tons_tot': 'intrazonal_tons'}, inplace=True)\n",
    "df_start_group = start_emissions_df.groupby(['pollutantID','county','veh_type']).sum()[['start_tons']].reset_index()"
   ]
  },
  {
   "cell_type": "code",
   "execution_count": 114,
   "metadata": {},
   "outputs": [],
   "source": [
    "summary_df = pd.merge(df_inter_group, df_intra_group)\n",
    "summary_df = pd.merge(summary_df, df_start_group)"
   ]
  },
  {
   "cell_type": "code",
   "execution_count": 117,
   "metadata": {},
   "outputs": [],
   "source": [
    "summary_df.to_csv(os.path.join(output_dir,'emissions_by_veh_type_summary.csv'),index=False)"
   ]
  },
  {
   "cell_type": "code",
   "execution_count": null,
   "metadata": {
    "collapsed": true
   },
   "outputs": [],
   "source": []
  }
 ],
 "metadata": {
  "kernelspec": {
   "display_name": "Python 2",
   "language": "python",
   "name": "python2"
  },
  "language_info": {
   "codemirror_mode": {
    "name": "ipython",
    "version": 2
   },
   "file_extension": ".py",
   "mimetype": "text/x-python",
   "name": "python",
   "nbconvert_exporter": "python",
   "pygments_lexer": "ipython2",
   "version": "2.7.14"
  }
 },
 "nbformat": 4,
 "nbformat_minor": 2
}
